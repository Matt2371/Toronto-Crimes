{
  "cells": [
    {
      "attachments": {},
      "cell_type": "markdown",
      "metadata": {
        "id": "xQPP9ekax55o"
      },
      "source": [
        "## Predictive Modeling\n",
        "In this notebook, we explore various models to predict crime type based on various time and location predictors. We initially use holdout cross validation (train/test split) as a fast way to evaluate and compare model performance, but the tuning process was done using 5-fold cross validation on the training set. This helps us prevent data leaking between the train and test data sets, before we finally evaluate performance on the holdout test data."
      ]
    },
    {
      "cell_type": "code",
      "execution_count": 2,
      "metadata": {
        "id": "brZX3kAlx55p"
      },
      "outputs": [],
      "source": [
        "import numpy as np\n",
        "import pandas as pd\n",
        "import matplotlib.pyplot as plt\n",
        "from sklearn.preprocessing import OrdinalEncoder, LabelEncoder\n",
        "from sklearn.preprocessing import StandardScaler\n",
        "from sklearn.model_selection import train_test_split, RandomizedSearchCV, GridSearchCV\n",
        "from sklearn.metrics import accuracy_score, f1_score, precision_score, recall_score\n",
        "from sklearn.ensemble import RandomForestClassifier\n",
        "from sklearn.linear_model import LogisticRegression\n",
        "from sklearn.tree import DecisionTreeClassifier\n",
        "from sklearn import tree as sktree\n",
        "from imblearn.over_sampling import RandomOverSampler\n",
        "import xgboost as xgb"
      ]
    },
    {
      "cell_type": "code",
      "execution_count": 2,
      "metadata": {
        "id": "mxjz08hax55q"
      },
      "outputs": [],
      "source": [
        "def multi_performance(y_true, y_pred, classes, y_score=None):\n",
        "    \"\"\"\n",
        "    Returns a dataframe that summarizes performance metrics (accuracy, f1, precision, recall)\n",
        "    for each class and the overall score (which returns a weighted average of all the scores \n",
        "    based on the number of true instances)\n",
        "\n",
        "    y_true: np.array(n, ); true class labels\n",
        "    y_pred: np.array(n, ); predicted class labels\n",
        "    classes: list of class labels (from label_encoder.classes_ for example)\n",
        "    y_score: currently not used;\n",
        "    \"\"\"\n",
        "    result = np.empty(shape=(3, len(classes)), dtype=np.dtype(object))\n",
        "    # F1 scores\n",
        "    result[0] = f1_score(y_true, y_pred, average=None)\n",
        "    # Precision\n",
        "    result[1] = precision_score(y_true, y_pred, average=None)\n",
        "    # Recall\n",
        "    result[2] = recall_score(y_true, y_pred, average=None)                       \n",
        "    # Convert result to pandas df\n",
        "    df = pd.DataFrame(result, columns=classes, index=['f1', 'precision', 'recall'])\n",
        "\n",
        "    # Overall accuracy\n",
        "    accuracy = accuracy_score(y_true, y_pred)\n",
        "\n",
        "    return df, accuracy"
      ]
    },
    {
      "attachments": {},
      "cell_type": "markdown",
      "metadata": {
        "id": "DcgBvy9Mx55q"
      },
      "source": [
        "### Process Data\n",
        "Since the data has many categorical features, we need to encode them in order to use sci-kit learn implementations of the different models. Options that we will explore are:\n",
        "\n",
        "1. One-hot-encoding. Convert each level of the categorical feature into binary indicator variables. The problem with one-hot-encoding is that it can dramatically increase the dimensionality of the data which will increase the computational cost of training and increases the overfitting risk (increases model variance)\n",
        "\n",
        "2. Ordinal encoding. Assign each level of the categorical feature an integer. While this does not increase the dimensionality of the data, it can introduce bias since the model can interpret the variables based on its magnitude while in reality the numerical values were arbitrarily assigned. This can be less of an issue with tree-based methods, however."
      ]
    },
    {
      "cell_type": "code",
      "execution_count": 3,
      "metadata": {
        "id": "kvybIP-1x55r"
      },
      "outputs": [],
      "source": [
        "# Read csv data\n",
        "df = pd.read_csv('data/clean_data.csv')\n",
        "# Drop un-needed or already processed columns\n",
        "df = df.drop(columns=['OBJECTID', 'OCC_HOUR', 'OCC_DATE', 'dayofweek'])"
      ]
    },
    {
      "cell_type": "code",
      "execution_count": 4,
      "metadata": {
        "id": "HBps0boVx55r"
      },
      "outputs": [],
      "source": [
        "## Get one-hot-encoded data\n",
        "df1 = pd.get_dummies(df[['NEIGHBOURHOOD_158', 'LOCATION_TYPE']])\n",
        "\n",
        "# Combine with original data\n",
        "df_one_hot = pd.concat([df, df1], axis=1)\n",
        "\n",
        "X_one_hot = df_one_hot.drop(columns=['MCI_CATEGORY', 'NEIGHBOURHOOD_158', 'LOCATION_TYPE'])"
      ]
    },
    {
      "cell_type": "code",
      "execution_count": 5,
      "metadata": {
        "colab": {
          "base_uri": "https://localhost:8080/",
          "height": 522
        },
        "id": "nUydZGJwx55r",
        "outputId": "ca5a7795-7763-41f4-b105-3461151ad223"
      },
      "outputs": [
        {
          "data": {
            "text/html": [
              "\n",
              "  <div id=\"df-7b19ad41-d444-4723-8929-1ee207efe084\">\n",
              "    <div class=\"colab-df-container\">\n",
              "      <div>\n",
              "<style scoped>\n",
              "    .dataframe tbody tr th:only-of-type {\n",
              "        vertical-align: middle;\n",
              "    }\n",
              "\n",
              "    .dataframe tbody tr th {\n",
              "        vertical-align: top;\n",
              "    }\n",
              "\n",
              "    .dataframe thead th {\n",
              "        text-align: right;\n",
              "    }\n",
              "</style>\n",
              "<table border=\"1\" class=\"dataframe\">\n",
              "  <thead>\n",
              "    <tr style=\"text-align: right;\">\n",
              "      <th></th>\n",
              "      <th>LONG_WGS84</th>\n",
              "      <th>LAT_WGS84</th>\n",
              "      <th>dayofweek_sin</th>\n",
              "      <th>dayofweek_cos</th>\n",
              "      <th>hour_sin</th>\n",
              "      <th>hour_cos</th>\n",
              "      <th>year</th>\n",
              "      <th>month</th>\n",
              "      <th>isholiday</th>\n",
              "      <th>lat_hour_cos</th>\n",
              "      <th>...</th>\n",
              "      <th>LOCATION_TYPE_Religious Facilities</th>\n",
              "      <th>LOCATION_TYPE_Retirement Home</th>\n",
              "      <th>LOCATION_TYPE_Schools During Supervised Activity</th>\n",
              "      <th>LOCATION_TYPE_Schools During Un-Supervised Activity</th>\n",
              "      <th>LOCATION_TYPE_Single Home, House</th>\n",
              "      <th>LOCATION_TYPE_Streets, Roads, Highways</th>\n",
              "      <th>LOCATION_TYPE_Ttc Admin Or Support Facility</th>\n",
              "      <th>LOCATION_TYPE_Ttc Subway Station</th>\n",
              "      <th>LOCATION_TYPE_Universities / Colleges</th>\n",
              "      <th>LOCATION_TYPE_Unknown</th>\n",
              "    </tr>\n",
              "  </thead>\n",
              "  <tbody>\n",
              "    <tr>\n",
              "      <th>0</th>\n",
              "      <td>-79.350229</td>\n",
              "      <td>43.646293</td>\n",
              "      <td>0.974928</td>\n",
              "      <td>-0.222521</td>\n",
              "      <td>0.707107</td>\n",
              "      <td>0.707107</td>\n",
              "      <td>2014</td>\n",
              "      <td>1</td>\n",
              "      <td>True</td>\n",
              "      <td>30.862590</td>\n",
              "      <td>...</td>\n",
              "      <td>0</td>\n",
              "      <td>0</td>\n",
              "      <td>0</td>\n",
              "      <td>0</td>\n",
              "      <td>0</td>\n",
              "      <td>0</td>\n",
              "      <td>0</td>\n",
              "      <td>0</td>\n",
              "      <td>0</td>\n",
              "      <td>0</td>\n",
              "    </tr>\n",
              "    <tr>\n",
              "      <th>1</th>\n",
              "      <td>-79.376497</td>\n",
              "      <td>43.666423</td>\n",
              "      <td>0.974928</td>\n",
              "      <td>-0.222521</td>\n",
              "      <td>0.866025</td>\n",
              "      <td>0.500000</td>\n",
              "      <td>2014</td>\n",
              "      <td>1</td>\n",
              "      <td>True</td>\n",
              "      <td>21.833211</td>\n",
              "      <td>...</td>\n",
              "      <td>0</td>\n",
              "      <td>0</td>\n",
              "      <td>0</td>\n",
              "      <td>0</td>\n",
              "      <td>0</td>\n",
              "      <td>0</td>\n",
              "      <td>0</td>\n",
              "      <td>0</td>\n",
              "      <td>0</td>\n",
              "      <td>0</td>\n",
              "    </tr>\n",
              "    <tr>\n",
              "      <th>2</th>\n",
              "      <td>-85.488744</td>\n",
              "      <td>0.000000</td>\n",
              "      <td>0.974928</td>\n",
              "      <td>-0.222521</td>\n",
              "      <td>0.866025</td>\n",
              "      <td>0.500000</td>\n",
              "      <td>2014</td>\n",
              "      <td>1</td>\n",
              "      <td>True</td>\n",
              "      <td>0.000000</td>\n",
              "      <td>...</td>\n",
              "      <td>0</td>\n",
              "      <td>0</td>\n",
              "      <td>0</td>\n",
              "      <td>0</td>\n",
              "      <td>0</td>\n",
              "      <td>1</td>\n",
              "      <td>0</td>\n",
              "      <td>0</td>\n",
              "      <td>0</td>\n",
              "      <td>0</td>\n",
              "    </tr>\n",
              "    <tr>\n",
              "      <th>3</th>\n",
              "      <td>-79.344839</td>\n",
              "      <td>43.678946</td>\n",
              "      <td>0.974928</td>\n",
              "      <td>-0.222521</td>\n",
              "      <td>0.866025</td>\n",
              "      <td>0.500000</td>\n",
              "      <td>2014</td>\n",
              "      <td>1</td>\n",
              "      <td>True</td>\n",
              "      <td>21.839473</td>\n",
              "      <td>...</td>\n",
              "      <td>0</td>\n",
              "      <td>0</td>\n",
              "      <td>0</td>\n",
              "      <td>0</td>\n",
              "      <td>0</td>\n",
              "      <td>1</td>\n",
              "      <td>0</td>\n",
              "      <td>0</td>\n",
              "      <td>0</td>\n",
              "      <td>0</td>\n",
              "    </tr>\n",
              "    <tr>\n",
              "      <th>4</th>\n",
              "      <td>-79.391841</td>\n",
              "      <td>43.646639</td>\n",
              "      <td>0.974928</td>\n",
              "      <td>-0.222521</td>\n",
              "      <td>0.500000</td>\n",
              "      <td>0.866025</td>\n",
              "      <td>2014</td>\n",
              "      <td>1</td>\n",
              "      <td>True</td>\n",
              "      <td>37.799098</td>\n",
              "      <td>...</td>\n",
              "      <td>0</td>\n",
              "      <td>0</td>\n",
              "      <td>0</td>\n",
              "      <td>0</td>\n",
              "      <td>0</td>\n",
              "      <td>0</td>\n",
              "      <td>0</td>\n",
              "      <td>0</td>\n",
              "      <td>0</td>\n",
              "      <td>0</td>\n",
              "    </tr>\n",
              "    <tr>\n",
              "      <th>...</th>\n",
              "      <td>...</td>\n",
              "      <td>...</td>\n",
              "      <td>...</td>\n",
              "      <td>...</td>\n",
              "      <td>...</td>\n",
              "      <td>...</td>\n",
              "      <td>...</td>\n",
              "      <td>...</td>\n",
              "      <td>...</td>\n",
              "      <td>...</td>\n",
              "      <td>...</td>\n",
              "      <td>...</td>\n",
              "      <td>...</td>\n",
              "      <td>...</td>\n",
              "      <td>...</td>\n",
              "      <td>...</td>\n",
              "      <td>...</td>\n",
              "      <td>...</td>\n",
              "      <td>...</td>\n",
              "      <td>...</td>\n",
              "      <td>...</td>\n",
              "    </tr>\n",
              "    <tr>\n",
              "      <th>321838</th>\n",
              "      <td>-79.301740</td>\n",
              "      <td>43.736102</td>\n",
              "      <td>0.433884</td>\n",
              "      <td>-0.900969</td>\n",
              "      <td>0.866025</td>\n",
              "      <td>-0.500000</td>\n",
              "      <td>2022</td>\n",
              "      <td>12</td>\n",
              "      <td>False</td>\n",
              "      <td>-21.868051</td>\n",
              "      <td>...</td>\n",
              "      <td>0</td>\n",
              "      <td>0</td>\n",
              "      <td>0</td>\n",
              "      <td>0</td>\n",
              "      <td>1</td>\n",
              "      <td>0</td>\n",
              "      <td>0</td>\n",
              "      <td>0</td>\n",
              "      <td>0</td>\n",
              "      <td>0</td>\n",
              "    </tr>\n",
              "    <tr>\n",
              "      <th>321839</th>\n",
              "      <td>-79.258639</td>\n",
              "      <td>43.828794</td>\n",
              "      <td>-0.974928</td>\n",
              "      <td>-0.222521</td>\n",
              "      <td>0.707107</td>\n",
              "      <td>0.707107</td>\n",
              "      <td>2022</td>\n",
              "      <td>12</td>\n",
              "      <td>False</td>\n",
              "      <td>30.991637</td>\n",
              "      <td>...</td>\n",
              "      <td>0</td>\n",
              "      <td>0</td>\n",
              "      <td>0</td>\n",
              "      <td>0</td>\n",
              "      <td>0</td>\n",
              "      <td>0</td>\n",
              "      <td>0</td>\n",
              "      <td>0</td>\n",
              "      <td>0</td>\n",
              "      <td>0</td>\n",
              "    </tr>\n",
              "    <tr>\n",
              "      <th>321840</th>\n",
              "      <td>-79.425645</td>\n",
              "      <td>43.701404</td>\n",
              "      <td>0.433884</td>\n",
              "      <td>-0.900969</td>\n",
              "      <td>-0.866025</td>\n",
              "      <td>-0.500000</td>\n",
              "      <td>2022</td>\n",
              "      <td>12</td>\n",
              "      <td>False</td>\n",
              "      <td>-21.850702</td>\n",
              "      <td>...</td>\n",
              "      <td>0</td>\n",
              "      <td>0</td>\n",
              "      <td>0</td>\n",
              "      <td>0</td>\n",
              "      <td>0</td>\n",
              "      <td>0</td>\n",
              "      <td>0</td>\n",
              "      <td>0</td>\n",
              "      <td>0</td>\n",
              "      <td>0</td>\n",
              "    </tr>\n",
              "    <tr>\n",
              "      <th>321841</th>\n",
              "      <td>-79.385170</td>\n",
              "      <td>43.672134</td>\n",
              "      <td>-0.974928</td>\n",
              "      <td>-0.222521</td>\n",
              "      <td>0.866025</td>\n",
              "      <td>0.500000</td>\n",
              "      <td>2022</td>\n",
              "      <td>12</td>\n",
              "      <td>False</td>\n",
              "      <td>21.836067</td>\n",
              "      <td>...</td>\n",
              "      <td>0</td>\n",
              "      <td>0</td>\n",
              "      <td>0</td>\n",
              "      <td>0</td>\n",
              "      <td>0</td>\n",
              "      <td>0</td>\n",
              "      <td>0</td>\n",
              "      <td>0</td>\n",
              "      <td>0</td>\n",
              "      <td>0</td>\n",
              "    </tr>\n",
              "    <tr>\n",
              "      <th>321842</th>\n",
              "      <td>-79.248081</td>\n",
              "      <td>43.736690</td>\n",
              "      <td>-0.974928</td>\n",
              "      <td>-0.222521</td>\n",
              "      <td>0.866025</td>\n",
              "      <td>0.500000</td>\n",
              "      <td>2022</td>\n",
              "      <td>12</td>\n",
              "      <td>False</td>\n",
              "      <td>21.868345</td>\n",
              "      <td>...</td>\n",
              "      <td>0</td>\n",
              "      <td>0</td>\n",
              "      <td>0</td>\n",
              "      <td>0</td>\n",
              "      <td>0</td>\n",
              "      <td>0</td>\n",
              "      <td>0</td>\n",
              "      <td>0</td>\n",
              "      <td>0</td>\n",
              "      <td>0</td>\n",
              "    </tr>\n",
              "  </tbody>\n",
              "</table>\n",
              "<p>321843 rows × 205 columns</p>\n",
              "</div>\n",
              "      <button class=\"colab-df-convert\" onclick=\"convertToInteractive('df-7b19ad41-d444-4723-8929-1ee207efe084')\"\n",
              "              title=\"Convert this dataframe to an interactive table.\"\n",
              "              style=\"display:none;\">\n",
              "        \n",
              "  <svg xmlns=\"http://www.w3.org/2000/svg\" height=\"24px\"viewBox=\"0 0 24 24\"\n",
              "       width=\"24px\">\n",
              "    <path d=\"M0 0h24v24H0V0z\" fill=\"none\"/>\n",
              "    <path d=\"M18.56 5.44l.94 2.06.94-2.06 2.06-.94-2.06-.94-.94-2.06-.94 2.06-2.06.94zm-11 1L8.5 8.5l.94-2.06 2.06-.94-2.06-.94L8.5 2.5l-.94 2.06-2.06.94zm10 10l.94 2.06.94-2.06 2.06-.94-2.06-.94-.94-2.06-.94 2.06-2.06.94z\"/><path d=\"M17.41 7.96l-1.37-1.37c-.4-.4-.92-.59-1.43-.59-.52 0-1.04.2-1.43.59L10.3 9.45l-7.72 7.72c-.78.78-.78 2.05 0 2.83L4 21.41c.39.39.9.59 1.41.59.51 0 1.02-.2 1.41-.59l7.78-7.78 2.81-2.81c.8-.78.8-2.07 0-2.86zM5.41 20L4 18.59l7.72-7.72 1.47 1.35L5.41 20z\"/>\n",
              "  </svg>\n",
              "      </button>\n",
              "      \n",
              "  <style>\n",
              "    .colab-df-container {\n",
              "      display:flex;\n",
              "      flex-wrap:wrap;\n",
              "      gap: 12px;\n",
              "    }\n",
              "\n",
              "    .colab-df-convert {\n",
              "      background-color: #E8F0FE;\n",
              "      border: none;\n",
              "      border-radius: 50%;\n",
              "      cursor: pointer;\n",
              "      display: none;\n",
              "      fill: #1967D2;\n",
              "      height: 32px;\n",
              "      padding: 0 0 0 0;\n",
              "      width: 32px;\n",
              "    }\n",
              "\n",
              "    .colab-df-convert:hover {\n",
              "      background-color: #E2EBFA;\n",
              "      box-shadow: 0px 1px 2px rgba(60, 64, 67, 0.3), 0px 1px 3px 1px rgba(60, 64, 67, 0.15);\n",
              "      fill: #174EA6;\n",
              "    }\n",
              "\n",
              "    [theme=dark] .colab-df-convert {\n",
              "      background-color: #3B4455;\n",
              "      fill: #D2E3FC;\n",
              "    }\n",
              "\n",
              "    [theme=dark] .colab-df-convert:hover {\n",
              "      background-color: #434B5C;\n",
              "      box-shadow: 0px 1px 3px 1px rgba(0, 0, 0, 0.15);\n",
              "      filter: drop-shadow(0px 1px 2px rgba(0, 0, 0, 0.3));\n",
              "      fill: #FFFFFF;\n",
              "    }\n",
              "  </style>\n",
              "\n",
              "      <script>\n",
              "        const buttonEl =\n",
              "          document.querySelector('#df-7b19ad41-d444-4723-8929-1ee207efe084 button.colab-df-convert');\n",
              "        buttonEl.style.display =\n",
              "          google.colab.kernel.accessAllowed ? 'block' : 'none';\n",
              "\n",
              "        async function convertToInteractive(key) {\n",
              "          const element = document.querySelector('#df-7b19ad41-d444-4723-8929-1ee207efe084');\n",
              "          const dataTable =\n",
              "            await google.colab.kernel.invokeFunction('convertToInteractive',\n",
              "                                                     [key], {});\n",
              "          if (!dataTable) return;\n",
              "\n",
              "          const docLinkHtml = 'Like what you see? Visit the ' +\n",
              "            '<a target=\"_blank\" href=https://colab.research.google.com/notebooks/data_table.ipynb>data table notebook</a>'\n",
              "            + ' to learn more about interactive tables.';\n",
              "          element.innerHTML = '';\n",
              "          dataTable['output_type'] = 'display_data';\n",
              "          await google.colab.output.renderOutput(dataTable, element);\n",
              "          const docLink = document.createElement('div');\n",
              "          docLink.innerHTML = docLinkHtml;\n",
              "          element.appendChild(docLink);\n",
              "        }\n",
              "      </script>\n",
              "    </div>\n",
              "  </div>\n",
              "  "
            ],
            "text/plain": [
              "        LONG_WGS84  LAT_WGS84  dayofweek_sin  dayofweek_cos  hour_sin  \\\n",
              "0       -79.350229  43.646293       0.974928      -0.222521  0.707107   \n",
              "1       -79.376497  43.666423       0.974928      -0.222521  0.866025   \n",
              "2       -85.488744   0.000000       0.974928      -0.222521  0.866025   \n",
              "3       -79.344839  43.678946       0.974928      -0.222521  0.866025   \n",
              "4       -79.391841  43.646639       0.974928      -0.222521  0.500000   \n",
              "...            ...        ...            ...            ...       ...   \n",
              "321838  -79.301740  43.736102       0.433884      -0.900969  0.866025   \n",
              "321839  -79.258639  43.828794      -0.974928      -0.222521  0.707107   \n",
              "321840  -79.425645  43.701404       0.433884      -0.900969 -0.866025   \n",
              "321841  -79.385170  43.672134      -0.974928      -0.222521  0.866025   \n",
              "321842  -79.248081  43.736690      -0.974928      -0.222521  0.866025   \n",
              "\n",
              "        hour_cos  year  month  isholiday  lat_hour_cos  ...  \\\n",
              "0       0.707107  2014      1       True     30.862590  ...   \n",
              "1       0.500000  2014      1       True     21.833211  ...   \n",
              "2       0.500000  2014      1       True      0.000000  ...   \n",
              "3       0.500000  2014      1       True     21.839473  ...   \n",
              "4       0.866025  2014      1       True     37.799098  ...   \n",
              "...          ...   ...    ...        ...           ...  ...   \n",
              "321838 -0.500000  2022     12      False    -21.868051  ...   \n",
              "321839  0.707107  2022     12      False     30.991637  ...   \n",
              "321840 -0.500000  2022     12      False    -21.850702  ...   \n",
              "321841  0.500000  2022     12      False     21.836067  ...   \n",
              "321842  0.500000  2022     12      False     21.868345  ...   \n",
              "\n",
              "        LOCATION_TYPE_Religious Facilities  LOCATION_TYPE_Retirement Home  \\\n",
              "0                                        0                              0   \n",
              "1                                        0                              0   \n",
              "2                                        0                              0   \n",
              "3                                        0                              0   \n",
              "4                                        0                              0   \n",
              "...                                    ...                            ...   \n",
              "321838                                   0                              0   \n",
              "321839                                   0                              0   \n",
              "321840                                   0                              0   \n",
              "321841                                   0                              0   \n",
              "321842                                   0                              0   \n",
              "\n",
              "        LOCATION_TYPE_Schools During Supervised Activity  \\\n",
              "0                                                      0   \n",
              "1                                                      0   \n",
              "2                                                      0   \n",
              "3                                                      0   \n",
              "4                                                      0   \n",
              "...                                                  ...   \n",
              "321838                                                 0   \n",
              "321839                                                 0   \n",
              "321840                                                 0   \n",
              "321841                                                 0   \n",
              "321842                                                 0   \n",
              "\n",
              "        LOCATION_TYPE_Schools During Un-Supervised Activity  \\\n",
              "0                                                       0     \n",
              "1                                                       0     \n",
              "2                                                       0     \n",
              "3                                                       0     \n",
              "4                                                       0     \n",
              "...                                                   ...     \n",
              "321838                                                  0     \n",
              "321839                                                  0     \n",
              "321840                                                  0     \n",
              "321841                                                  0     \n",
              "321842                                                  0     \n",
              "\n",
              "        LOCATION_TYPE_Single Home, House  \\\n",
              "0                                      0   \n",
              "1                                      0   \n",
              "2                                      0   \n",
              "3                                      0   \n",
              "4                                      0   \n",
              "...                                  ...   \n",
              "321838                                 1   \n",
              "321839                                 0   \n",
              "321840                                 0   \n",
              "321841                                 0   \n",
              "321842                                 0   \n",
              "\n",
              "        LOCATION_TYPE_Streets, Roads, Highways  \\\n",
              "0                                            0   \n",
              "1                                            0   \n",
              "2                                            1   \n",
              "3                                            1   \n",
              "4                                            0   \n",
              "...                                        ...   \n",
              "321838                                       0   \n",
              "321839                                       0   \n",
              "321840                                       0   \n",
              "321841                                       0   \n",
              "321842                                       0   \n",
              "\n",
              "        LOCATION_TYPE_Ttc Admin Or Support Facility  \\\n",
              "0                                                 0   \n",
              "1                                                 0   \n",
              "2                                                 0   \n",
              "3                                                 0   \n",
              "4                                                 0   \n",
              "...                                             ...   \n",
              "321838                                            0   \n",
              "321839                                            0   \n",
              "321840                                            0   \n",
              "321841                                            0   \n",
              "321842                                            0   \n",
              "\n",
              "        LOCATION_TYPE_Ttc Subway Station  \\\n",
              "0                                      0   \n",
              "1                                      0   \n",
              "2                                      0   \n",
              "3                                      0   \n",
              "4                                      0   \n",
              "...                                  ...   \n",
              "321838                                 0   \n",
              "321839                                 0   \n",
              "321840                                 0   \n",
              "321841                                 0   \n",
              "321842                                 0   \n",
              "\n",
              "        LOCATION_TYPE_Universities / Colleges  LOCATION_TYPE_Unknown  \n",
              "0                                           0                      0  \n",
              "1                                           0                      0  \n",
              "2                                           0                      0  \n",
              "3                                           0                      0  \n",
              "4                                           0                      0  \n",
              "...                                       ...                    ...  \n",
              "321838                                      0                      0  \n",
              "321839                                      0                      0  \n",
              "321840                                      0                      0  \n",
              "321841                                      0                      0  \n",
              "321842                                      0                      0  \n",
              "\n",
              "[321843 rows x 205 columns]"
            ]
          },
          "execution_count": 5,
          "metadata": {},
          "output_type": "execute_result"
        }
      ],
      "source": [
        "X_one_hot"
      ]
    },
    {
      "cell_type": "code",
      "execution_count": 6,
      "metadata": {
        "colab": {
          "base_uri": "https://localhost:8080/"
        },
        "id": "aZaaQnqqx55r",
        "outputId": "a425c720-6108-4885-b46b-934c43d6e68c"
      },
      "outputs": [
        {
          "name": "stderr",
          "output_type": "stream",
          "text": [
            "<ipython-input-6-5458b9042e92>:4: DeprecationWarning: In a future version, `df.iloc[:, i] = newvals` will attempt to set the values inplace instead of always setting a new array. To retain the old behavior, use either `df[df.columns[i]] = newvals` or, if columns are non-unique, `df.isetitem(i, newvals)`\n",
            "  df_ordinal.loc[:, ['NEIGHBOURHOOD_158', 'LOCATION_TYPE']] = ordinal_encoder.fit_transform(df[['NEIGHBOURHOOD_158', 'LOCATION_TYPE']]) # create labels\n"
          ]
        }
      ],
      "source": [
        "## Get ordinal encoded data\n",
        "ordinal_encoder = OrdinalEncoder()\n",
        "df_ordinal = df.copy() # write on top of a copy of df\n",
        "df_ordinal.loc[:, ['NEIGHBOURHOOD_158', 'LOCATION_TYPE']] = ordinal_encoder.fit_transform(df[['NEIGHBOURHOOD_158', 'LOCATION_TYPE']]) # create labels\n",
        "\n",
        "X_ordinal = df_ordinal.drop(columns=['MCI_CATEGORY'])"
      ]
    },
    {
      "cell_type": "code",
      "execution_count": 7,
      "metadata": {
        "colab": {
          "base_uri": "https://localhost:8080/"
        },
        "id": "Aos6hSMSx55s",
        "outputId": "c1509c5b-bf11-444e-da09-255bdca660bd"
      },
      "outputs": [
        {
          "data": {
            "text/plain": [
              "array(['Assault', 'Auto Theft', 'Break and Enter', 'Robbery',\n",
              "       'Theft Over'], dtype=object)"
            ]
          },
          "execution_count": 7,
          "metadata": {},
          "output_type": "execute_result"
        }
      ],
      "source": [
        "## Process y with label encoding\n",
        "label_encoder = LabelEncoder()\n",
        "y = label_encoder.fit_transform(df['MCI_CATEGORY'])\n",
        "\n",
        "# Encoded classes\n",
        "classes = label_encoder.classes_\n",
        "classes"
      ]
    },
    {
      "attachments": {},
      "cell_type": "markdown",
      "metadata": {
        "id": "df7fr8KPd7nS"
      },
      "source": [
        "### Multi-class Logistic Regression\n",
        "We begin using multi-class logistic regression (multi-nomial loss) which can be fit more quickly than other methods. Multiclass logistic regression assumes a linear relationship between the log-ratio of probabilities between classes and the predictor variables, which is not likely too be true for our dataset. For example, the relationship is likely to be nonlinear with GPS coordinates. However, because logistic regression can be fit easily, it can provide a good baseline before conducting more complex analysis.\n",
        "\n",
        "Note that we have to use dummy encoding instead of one-hot-encoding or else the linear solution will not be well defined (that is, k-1 indicators instead of k for a variable with k categories). Additionally, we standardize the numerical data to help the optimizer converge."
      ]
    },
    {
      "cell_type": "code",
      "execution_count": 8,
      "metadata": {
        "id": "VXJ2Tr3Z_IpK"
      },
      "outputs": [],
      "source": [
        "# Select numerical features and standardize them\n",
        "numerical_df = df.select_dtypes(include=np.number)\n",
        "\n",
        "scaler = StandardScaler()\n",
        "scaled_data = scaler.fit_transform(numerical_df)"
      ]
    },
    {
      "cell_type": "code",
      "execution_count": 9,
      "metadata": {
        "id": "1-vbBS9SgIas"
      },
      "outputs": [],
      "source": [
        "# Get dummy variables\n",
        "dummy_vars = pd.get_dummies(df[['NEIGHBOURHOOD_158', 'LOCATION_TYPE']], drop_first=True)\n",
        "# Combine with original data\n",
        "df_dummies = pd.concat([df, dummy_vars], axis=1)"
      ]
    },
    {
      "cell_type": "code",
      "execution_count": 10,
      "metadata": {
        "id": "uOO1VVP1_IpK"
      },
      "outputs": [],
      "source": [
        "# Add standardized numerical features\n",
        "df_dummies[numerical_df.columns] = scaled_data"
      ]
    },
    {
      "cell_type": "code",
      "execution_count": 11,
      "metadata": {
        "id": "geBZFb-5_IpK"
      },
      "outputs": [],
      "source": [
        "# Drop unneeded columns\n",
        "X_dummies = df_dummies.drop(columns=['MCI_CATEGORY', 'NEIGHBOURHOOD_158', 'LOCATION_TYPE'])"
      ]
    },
    {
      "cell_type": "code",
      "execution_count": 12,
      "metadata": {
        "id": "SXBuBQyX_IpK"
      },
      "outputs": [],
      "source": [
        "# Train-test split\n",
        "X_train, X_test, y_train, y_test = train_test_split(X_dummies, y, test_size=0.3, random_state=0)"
      ]
    },
    {
      "cell_type": "code",
      "execution_count": null,
      "metadata": {
        "id": "9e4PayM4_IpK"
      },
      "outputs": [],
      "source": [
        "# Fit multiclass logistic regression\n",
        "logistic_reg = LogisticRegression(multi_class='multinomial', max_iter=1000)\n",
        "logistic_reg.fit(X_train, y_train)\n",
        "\n",
        "# Get predicted values\n",
        "y_pred = logistic_reg.predict(X_test)"
      ]
    },
    {
      "cell_type": "code",
      "execution_count": null,
      "metadata": {
        "id": "tPDJutpv_IpK"
      },
      "outputs": [],
      "source": [
        "# Evaluate performance\n",
        "multi_performance(y_true=y_test, y_pred=y_pred, classes=classes)[0]"
      ]
    },
    {
      "cell_type": "code",
      "execution_count": null,
      "metadata": {
        "id": "eYrcy-KA_IpK",
        "outputId": "255b323e-dc3d-4784-fae3-9d532eccbee8"
      },
      "outputs": [
        {
          "data": {
            "text/plain": [
              "0.614129027580707"
            ]
          },
          "execution_count": 54,
          "metadata": {},
          "output_type": "execute_result"
        }
      ],
      "source": [
        "# Overall accuracy\n",
        "multi_performance(y_true=y_test, y_pred=y_pred, classes=classes)[1]"
      ]
    },
    {
      "attachments": {},
      "cell_type": "markdown",
      "metadata": {
        "id": "4FrkN5wdx55s"
      },
      "source": [
        "### Random Forest\n",
        "Random Forest is capable of handling mixed data types, performs automatic feature selection, is robust to outliers, and discovers non-linear relationships. Additionally, random forest is not prone to overfitting and does not require much hyper-parameter tuning, if at all. Since Random Forest averages many different decision trees, it is also not prone to overfitting and has low variance in the bias-variance tradeoff. RF is also useful because it discovers feature importance scores, although this needs to be carefully interpreted if there are colinear variables or if variables are of high cardinality."
      ]
    },
    {
      "cell_type": "code",
      "execution_count": 13,
      "metadata": {
        "id": "dtWSJ2ZMLECR"
      },
      "outputs": [],
      "source": [
        "# Train-test split\n",
        "X_train1, X_test1, y_train1, y_test1 = train_test_split(X_one_hot, y, test_size=0.3, random_state=0)"
      ]
    },
    {
      "cell_type": "code",
      "execution_count": null,
      "metadata": {
        "id": "Bla24euDx55s"
      },
      "outputs": [],
      "source": [
        "# Fit model\n",
        "rf = RandomForestClassifier()\n",
        "rf.fit(X_train1, y_train1)\n",
        "\n",
        "# Get predictions\n",
        "y_pred1 = rf.predict(X_test1)"
      ]
    },
    {
      "cell_type": "code",
      "execution_count": null,
      "metadata": {
        "colab": {
          "base_uri": "https://localhost:8080/",
          "height": 143
        },
        "id": "Oh7dwwlcx55s",
        "outputId": "b349f018-6775-4c4e-af13-d0a28bc0d5ff"
      },
      "outputs": [
        {
          "data": {
            "text/html": [
              "\n",
              "  <div id=\"df-5ece804a-fac7-4efd-8ff3-bba6d982b3cd\">\n",
              "    <div class=\"colab-df-container\">\n",
              "      <div>\n",
              "<style scoped>\n",
              "    .dataframe tbody tr th:only-of-type {\n",
              "        vertical-align: middle;\n",
              "    }\n",
              "\n",
              "    .dataframe tbody tr th {\n",
              "        vertical-align: top;\n",
              "    }\n",
              "\n",
              "    .dataframe thead th {\n",
              "        text-align: right;\n",
              "    }\n",
              "</style>\n",
              "<table border=\"1\" class=\"dataframe\">\n",
              "  <thead>\n",
              "    <tr style=\"text-align: right;\">\n",
              "      <th></th>\n",
              "      <th>Assault</th>\n",
              "      <th>Auto Theft</th>\n",
              "      <th>Break and Enter</th>\n",
              "      <th>Robbery</th>\n",
              "      <th>Theft Over</th>\n",
              "    </tr>\n",
              "  </thead>\n",
              "  <tbody>\n",
              "    <tr>\n",
              "      <th>f1</th>\n",
              "      <td>0.773323</td>\n",
              "      <td>0.62177</td>\n",
              "      <td>0.566042</td>\n",
              "      <td>0.495736</td>\n",
              "      <td>0.055842</td>\n",
              "    </tr>\n",
              "    <tr>\n",
              "      <th>precision</th>\n",
              "      <td>0.705969</td>\n",
              "      <td>0.644005</td>\n",
              "      <td>0.633427</td>\n",
              "      <td>0.653506</td>\n",
              "      <td>0.20078</td>\n",
              "    </tr>\n",
              "    <tr>\n",
              "      <th>recall</th>\n",
              "      <td>0.854885</td>\n",
              "      <td>0.601019</td>\n",
              "      <td>0.511616</td>\n",
              "      <td>0.399329</td>\n",
              "      <td>0.032431</td>\n",
              "    </tr>\n",
              "  </tbody>\n",
              "</table>\n",
              "</div>\n",
              "      <button class=\"colab-df-convert\" onclick=\"convertToInteractive('df-5ece804a-fac7-4efd-8ff3-bba6d982b3cd')\"\n",
              "              title=\"Convert this dataframe to an interactive table.\"\n",
              "              style=\"display:none;\">\n",
              "        \n",
              "  <svg xmlns=\"http://www.w3.org/2000/svg\" height=\"24px\"viewBox=\"0 0 24 24\"\n",
              "       width=\"24px\">\n",
              "    <path d=\"M0 0h24v24H0V0z\" fill=\"none\"/>\n",
              "    <path d=\"M18.56 5.44l.94 2.06.94-2.06 2.06-.94-2.06-.94-.94-2.06-.94 2.06-2.06.94zm-11 1L8.5 8.5l.94-2.06 2.06-.94-2.06-.94L8.5 2.5l-.94 2.06-2.06.94zm10 10l.94 2.06.94-2.06 2.06-.94-2.06-.94-.94-2.06-.94 2.06-2.06.94z\"/><path d=\"M17.41 7.96l-1.37-1.37c-.4-.4-.92-.59-1.43-.59-.52 0-1.04.2-1.43.59L10.3 9.45l-7.72 7.72c-.78.78-.78 2.05 0 2.83L4 21.41c.39.39.9.59 1.41.59.51 0 1.02-.2 1.41-.59l7.78-7.78 2.81-2.81c.8-.78.8-2.07 0-2.86zM5.41 20L4 18.59l7.72-7.72 1.47 1.35L5.41 20z\"/>\n",
              "  </svg>\n",
              "      </button>\n",
              "      \n",
              "  <style>\n",
              "    .colab-df-container {\n",
              "      display:flex;\n",
              "      flex-wrap:wrap;\n",
              "      gap: 12px;\n",
              "    }\n",
              "\n",
              "    .colab-df-convert {\n",
              "      background-color: #E8F0FE;\n",
              "      border: none;\n",
              "      border-radius: 50%;\n",
              "      cursor: pointer;\n",
              "      display: none;\n",
              "      fill: #1967D2;\n",
              "      height: 32px;\n",
              "      padding: 0 0 0 0;\n",
              "      width: 32px;\n",
              "    }\n",
              "\n",
              "    .colab-df-convert:hover {\n",
              "      background-color: #E2EBFA;\n",
              "      box-shadow: 0px 1px 2px rgba(60, 64, 67, 0.3), 0px 1px 3px 1px rgba(60, 64, 67, 0.15);\n",
              "      fill: #174EA6;\n",
              "    }\n",
              "\n",
              "    [theme=dark] .colab-df-convert {\n",
              "      background-color: #3B4455;\n",
              "      fill: #D2E3FC;\n",
              "    }\n",
              "\n",
              "    [theme=dark] .colab-df-convert:hover {\n",
              "      background-color: #434B5C;\n",
              "      box-shadow: 0px 1px 3px 1px rgba(0, 0, 0, 0.15);\n",
              "      filter: drop-shadow(0px 1px 2px rgba(0, 0, 0, 0.3));\n",
              "      fill: #FFFFFF;\n",
              "    }\n",
              "  </style>\n",
              "\n",
              "      <script>\n",
              "        const buttonEl =\n",
              "          document.querySelector('#df-5ece804a-fac7-4efd-8ff3-bba6d982b3cd button.colab-df-convert');\n",
              "        buttonEl.style.display =\n",
              "          google.colab.kernel.accessAllowed ? 'block' : 'none';\n",
              "\n",
              "        async function convertToInteractive(key) {\n",
              "          const element = document.querySelector('#df-5ece804a-fac7-4efd-8ff3-bba6d982b3cd');\n",
              "          const dataTable =\n",
              "            await google.colab.kernel.invokeFunction('convertToInteractive',\n",
              "                                                     [key], {});\n",
              "          if (!dataTable) return;\n",
              "\n",
              "          const docLinkHtml = 'Like what you see? Visit the ' +\n",
              "            '<a target=\"_blank\" href=https://colab.research.google.com/notebooks/data_table.ipynb>data table notebook</a>'\n",
              "            + ' to learn more about interactive tables.';\n",
              "          element.innerHTML = '';\n",
              "          dataTable['output_type'] = 'display_data';\n",
              "          await google.colab.output.renderOutput(dataTable, element);\n",
              "          const docLink = document.createElement('div');\n",
              "          docLink.innerHTML = docLinkHtml;\n",
              "          element.appendChild(docLink);\n",
              "        }\n",
              "      </script>\n",
              "    </div>\n",
              "  </div>\n",
              "  "
            ],
            "text/plain": [
              "            Assault Auto Theft Break and Enter   Robbery Theft Over\n",
              "f1         0.773323    0.62177        0.566042  0.495736   0.055842\n",
              "precision  0.705969   0.644005        0.633427  0.653506    0.20078\n",
              "recall     0.854885   0.601019        0.511616  0.399329   0.032431"
            ]
          },
          "execution_count": 57,
          "metadata": {},
          "output_type": "execute_result"
        }
      ],
      "source": [
        "# Evaluate performance \n",
        "multi_performance(y_true=y_test1, y_pred=y_pred1, classes=classes)[0]"
      ]
    },
    {
      "cell_type": "code",
      "execution_count": null,
      "metadata": {
        "colab": {
          "base_uri": "https://localhost:8080/"
        },
        "id": "GH7H00Urx55s",
        "outputId": "406451f6-0a16-4141-e66e-295860a59121"
      },
      "outputs": [
        {
          "data": {
            "text/plain": [
              "0.6804035089536317"
            ]
          },
          "execution_count": 58,
          "metadata": {},
          "output_type": "execute_result"
        }
      ],
      "source": [
        "# Overall accuracy\n",
        "multi_performance(y_true=y_test1, y_pred=y_pred1, classes=classes)[1]"
      ]
    },
    {
      "attachments": {},
      "cell_type": "markdown",
      "metadata": {
        "id": "ZyoDhWSLx55t"
      },
      "source": [
        "We can also try fitting a random forest using the ordinal encoded data."
      ]
    },
    {
      "cell_type": "code",
      "execution_count": 14,
      "metadata": {
        "id": "a_g1eXAG_IpL"
      },
      "outputs": [],
      "source": [
        "# Train-test split\n",
        "X_train2, X_test2, y_train2, y_test2 = train_test_split(X_ordinal, y, test_size=0.3, random_state=1)"
      ]
    },
    {
      "cell_type": "code",
      "execution_count": null,
      "metadata": {
        "id": "jBPocGssx55u"
      },
      "outputs": [],
      "source": [
        "# Fit model\n",
        "rf2 = RandomForestClassifier()\n",
        "rf2.fit(X_train2, y_train2)\n",
        "\n",
        "# Get predictions\n",
        "y_pred2 = rf2.predict(X_test2)"
      ]
    },
    {
      "cell_type": "code",
      "execution_count": null,
      "metadata": {
        "colab": {
          "base_uri": "https://localhost:8080/",
          "height": 143
        },
        "id": "1eIlETz_x55u",
        "outputId": "31450896-6c40-469c-a373-989171321868"
      },
      "outputs": [
        {
          "data": {
            "text/html": [
              "<div>\n",
              "<style scoped>\n",
              "    .dataframe tbody tr th:only-of-type {\n",
              "        vertical-align: middle;\n",
              "    }\n",
              "\n",
              "    .dataframe tbody tr th {\n",
              "        vertical-align: top;\n",
              "    }\n",
              "\n",
              "    .dataframe thead th {\n",
              "        text-align: right;\n",
              "    }\n",
              "</style>\n",
              "<table border=\"1\" class=\"dataframe\">\n",
              "  <thead>\n",
              "    <tr style=\"text-align: right;\">\n",
              "      <th></th>\n",
              "      <th>Assault</th>\n",
              "      <th>Auto Theft</th>\n",
              "      <th>Break and Enter</th>\n",
              "      <th>Robbery</th>\n",
              "      <th>Theft Over</th>\n",
              "    </tr>\n",
              "  </thead>\n",
              "  <tbody>\n",
              "    <tr>\n",
              "      <th>f1</th>\n",
              "      <td>0.766733</td>\n",
              "      <td>0.602962</td>\n",
              "      <td>0.543235</td>\n",
              "      <td>0.457172</td>\n",
              "      <td>0.056128</td>\n",
              "    </tr>\n",
              "    <tr>\n",
              "      <th>precision</th>\n",
              "      <td>0.68731</td>\n",
              "      <td>0.643312</td>\n",
              "      <td>0.63263</td>\n",
              "      <td>0.678252</td>\n",
              "      <td>0.244389</td>\n",
              "    </tr>\n",
              "    <tr>\n",
              "      <th>recall</th>\n",
              "      <td>0.866909</td>\n",
              "      <td>0.567374</td>\n",
              "      <td>0.475976</td>\n",
              "      <td>0.344786</td>\n",
              "      <td>0.031705</td>\n",
              "    </tr>\n",
              "  </tbody>\n",
              "</table>\n",
              "</div>"
            ],
            "text/plain": [
              "            Assault Auto Theft Break and Enter   Robbery Theft Over\n",
              "f1         0.766733   0.602962        0.543235  0.457172   0.056128\n",
              "precision   0.68731   0.643312         0.63263  0.678252   0.244389\n",
              "recall     0.866909   0.567374        0.475976  0.344786   0.031705"
            ]
          },
          "execution_count": 88,
          "metadata": {},
          "output_type": "execute_result"
        }
      ],
      "source": [
        "# Evaluate performance\n",
        "multi_performance(y_true=y_test2, y_pred=y_pred2, classes=classes)[0]"
      ]
    },
    {
      "cell_type": "code",
      "execution_count": null,
      "metadata": {
        "colab": {
          "base_uri": "https://localhost:8080/"
        },
        "id": "ii9RDNOHx55u",
        "outputId": "58619eac-16c3-491b-df99-653ca0ae25c0"
      },
      "outputs": [
        {
          "data": {
            "text/plain": [
              "0.6714964837964641"
            ]
          },
          "execution_count": 89,
          "metadata": {},
          "output_type": "execute_result"
        }
      ],
      "source": [
        "# Overall accuracy\n",
        "multi_performance(y_true=y_test2, y_pred=y_pred2, classes=classes)[1]"
      ]
    },
    {
      "attachments": {},
      "cell_type": "markdown",
      "metadata": {
        "id": "2giqNU8sx55u"
      },
      "source": [
        "The performance dropped very slightly compared to the one-hot-encoded data. We also can get insight from the feature importance plot (which would be harder to interpret for the one-hot-encoded data). This suggests that the location type, the GPS coordinates, and the interaction between time of day and location are important variables."
      ]
    },
    {
      "cell_type": "code",
      "execution_count": null,
      "metadata": {
        "colab": {
          "base_uri": "https://localhost:8080/",
          "height": 607
        },
        "id": "Zl5RF2XWx55u",
        "outputId": "b6e4d13d-330d-4cf6-f246-619bcb3d5717"
      },
      "outputs": [
        {
          "data": {
            "image/png": "[encoded data removed]",
            "text/plain": [
              "<Figure size 700x600 with 1 Axes>"
            ]
          },
          "metadata": {},
          "output_type": "display_data"
        }
      ],
      "source": [
        "# Get importance scores from the RF model and sort them\n",
        "importances = rf2.feature_importances_\n",
        "feature_names = X_train2.columns\n",
        "indices = np.argsort(importances)\n",
        "sorted_feature_names = [feature_names[i] for i in indices]\n",
        "sorted_importances = importances[indices]\n",
        "\n",
        "# Plot results\n",
        "plt.figure(figsize=(7, 6))\n",
        "plt.barh(range(len(sorted_importances)), sorted_importances, align='center')\n",
        "plt.yticks(range(len(sorted_importances)), sorted_feature_names)\n",
        "plt.xlabel('Importance Score')\n",
        "plt.ylabel('Features')\n",
        "plt.title('Feature Importance from Random Forest')\n",
        "\n",
        "# Save image\n",
        "plt.savefig('images/RF_feature_importance.png')\n",
        "plt.tight_layout()\n",
        "plt.show()"
      ]
    },
    {
      "attachments": {},
      "cell_type": "markdown",
      "metadata": {
        "id": "Hf5motNf6hfd"
      },
      "source": [
        "### Random Forest - Weighted Random Forest\n",
        "Note that performance is poor for most crime types, except for assault and auto-theft. At the same time, the dataset is unbalanced towards assaults, although not severely. Thus, we can try running a Weighted Random Forest (by weighting the impurity calculations for the constituent decision trees toward the minority classes, we can penalize missclassifications on the minority classes more)."
      ]
    },
    {
      "cell_type": "code",
      "execution_count": null,
      "metadata": {
        "colab": {
          "base_uri": "https://localhost:8080/"
        },
        "id": "hnKsHeuwx55s",
        "outputId": "fddd1665-09e3-4e78-b301-111507da46bf"
      },
      "outputs": [
        {
          "data": {
            "text/plain": [
              "Assault            0.534758\n",
              "Break and Enter    0.193989\n",
              "Auto Theft         0.142905\n",
              "Robbery            0.095363\n",
              "Theft Over         0.032985\n",
              "Name: MCI_CATEGORY, dtype: float64"
            ]
          },
          "execution_count": 15,
          "metadata": {},
          "output_type": "execute_result"
        }
      ],
      "source": [
        "# Review class frequencies in the data\n",
        "balance = df.MCI_CATEGORY.value_counts() / df.MCI_CATEGORY.value_counts().sum()\n",
        "balance"
      ]
    },
    {
      "cell_type": "code",
      "execution_count": null,
      "metadata": {
        "id": "tOzQgsKH_IpM",
        "outputId": "506a041e-d4fe-41e7-e791-9ef48f271471"
      },
      "outputs": [
        {
          "data": {
            "image/png": "[encoded data removed]",
            "text/plain": [
              "<Figure size 640x480 with 1 Axes>"
            ]
          },
          "metadata": {},
          "output_type": "display_data"
        }
      ],
      "source": [
        "fig, ax = plt.subplots()\n",
        "ax.pie(balance, labels=balance.index, autopct='%1.1f%%')\n",
        "plt.tight_layout()\n",
        "plt.savefig('images/class_balance.png', dpi=300)\n",
        "plt.show()"
      ]
    },
    {
      "cell_type": "code",
      "execution_count": null,
      "metadata": {
        "id": "kdDbfJOLx55t"
      },
      "outputs": [],
      "source": [
        "# Fit model (weighted based on dataset frequency)\n",
        "rf_weighted = RandomForestClassifier(class_weight='balanced')\n",
        "rf_weighted.fit(X_train1, y_train1)\n",
        "\n",
        "# Get predictions\n",
        "y_pred1_weighted = rf_weighted.predict(X_test1)"
      ]
    },
    {
      "cell_type": "code",
      "execution_count": null,
      "metadata": {
        "colab": {
          "base_uri": "https://localhost:8080/",
          "height": 143
        },
        "id": "hi9ugWamx55t",
        "outputId": "f650ddc2-39d2-423b-a01d-88d35f0861ec"
      },
      "outputs": [
        {
          "data": {
            "text/html": [
              "\n",
              "  <div id=\"df-e20760b8-f2b7-40b7-b84e-200e0d35405e\">\n",
              "    <div class=\"colab-df-container\">\n",
              "      <div>\n",
              "<style scoped>\n",
              "    .dataframe tbody tr th:only-of-type {\n",
              "        vertical-align: middle;\n",
              "    }\n",
              "\n",
              "    .dataframe tbody tr th {\n",
              "        vertical-align: top;\n",
              "    }\n",
              "\n",
              "    .dataframe thead th {\n",
              "        text-align: right;\n",
              "    }\n",
              "</style>\n",
              "<table border=\"1\" class=\"dataframe\">\n",
              "  <thead>\n",
              "    <tr style=\"text-align: right;\">\n",
              "      <th></th>\n",
              "      <th>Assault</th>\n",
              "      <th>Auto Theft</th>\n",
              "      <th>Break and Enter</th>\n",
              "      <th>Robbery</th>\n",
              "      <th>Theft Over</th>\n",
              "    </tr>\n",
              "  </thead>\n",
              "  <tbody>\n",
              "    <tr>\n",
              "      <th>f1</th>\n",
              "      <td>0.771617</td>\n",
              "      <td>0.618728</td>\n",
              "      <td>0.561035</td>\n",
              "      <td>0.499933</td>\n",
              "      <td>0.056506</td>\n",
              "    </tr>\n",
              "    <tr>\n",
              "      <th>precision</th>\n",
              "      <td>0.701374</td>\n",
              "      <td>0.647326</td>\n",
              "      <td>0.636596</td>\n",
              "      <td>0.656519</td>\n",
              "      <td>0.205941</td>\n",
              "    </tr>\n",
              "    <tr>\n",
              "      <th>recall</th>\n",
              "      <td>0.857496</td>\n",
              "      <td>0.59255</td>\n",
              "      <td>0.501508</td>\n",
              "      <td>0.403657</td>\n",
              "      <td>0.032746</td>\n",
              "    </tr>\n",
              "  </tbody>\n",
              "</table>\n",
              "</div>\n",
              "      <button class=\"colab-df-convert\" onclick=\"convertToInteractive('df-e20760b8-f2b7-40b7-b84e-200e0d35405e')\"\n",
              "              title=\"Convert this dataframe to an interactive table.\"\n",
              "              style=\"display:none;\">\n",
              "        \n",
              "  <svg xmlns=\"http://www.w3.org/2000/svg\" height=\"24px\"viewBox=\"0 0 24 24\"\n",
              "       width=\"24px\">\n",
              "    <path d=\"M0 0h24v24H0V0z\" fill=\"none\"/>\n",
              "    <path d=\"M18.56 5.44l.94 2.06.94-2.06 2.06-.94-2.06-.94-.94-2.06-.94 2.06-2.06.94zm-11 1L8.5 8.5l.94-2.06 2.06-.94-2.06-.94L8.5 2.5l-.94 2.06-2.06.94zm10 10l.94 2.06.94-2.06 2.06-.94-2.06-.94-.94-2.06-.94 2.06-2.06.94z\"/><path d=\"M17.41 7.96l-1.37-1.37c-.4-.4-.92-.59-1.43-.59-.52 0-1.04.2-1.43.59L10.3 9.45l-7.72 7.72c-.78.78-.78 2.05 0 2.83L4 21.41c.39.39.9.59 1.41.59.51 0 1.02-.2 1.41-.59l7.78-7.78 2.81-2.81c.8-.78.8-2.07 0-2.86zM5.41 20L4 18.59l7.72-7.72 1.47 1.35L5.41 20z\"/>\n",
              "  </svg>\n",
              "      </button>\n",
              "      \n",
              "  <style>\n",
              "    .colab-df-container {\n",
              "      display:flex;\n",
              "      flex-wrap:wrap;\n",
              "      gap: 12px;\n",
              "    }\n",
              "\n",
              "    .colab-df-convert {\n",
              "      background-color: #E8F0FE;\n",
              "      border: none;\n",
              "      border-radius: 50%;\n",
              "      cursor: pointer;\n",
              "      display: none;\n",
              "      fill: #1967D2;\n",
              "      height: 32px;\n",
              "      padding: 0 0 0 0;\n",
              "      width: 32px;\n",
              "    }\n",
              "\n",
              "    .colab-df-convert:hover {\n",
              "      background-color: #E2EBFA;\n",
              "      box-shadow: 0px 1px 2px rgba(60, 64, 67, 0.3), 0px 1px 3px 1px rgba(60, 64, 67, 0.15);\n",
              "      fill: #174EA6;\n",
              "    }\n",
              "\n",
              "    [theme=dark] .colab-df-convert {\n",
              "      background-color: #3B4455;\n",
              "      fill: #D2E3FC;\n",
              "    }\n",
              "\n",
              "    [theme=dark] .colab-df-convert:hover {\n",
              "      background-color: #434B5C;\n",
              "      box-shadow: 0px 1px 3px 1px rgba(0, 0, 0, 0.15);\n",
              "      filter: drop-shadow(0px 1px 2px rgba(0, 0, 0, 0.3));\n",
              "      fill: #FFFFFF;\n",
              "    }\n",
              "  </style>\n",
              "\n",
              "      <script>\n",
              "        const buttonEl =\n",
              "          document.querySelector('#df-e20760b8-f2b7-40b7-b84e-200e0d35405e button.colab-df-convert');\n",
              "        buttonEl.style.display =\n",
              "          google.colab.kernel.accessAllowed ? 'block' : 'none';\n",
              "\n",
              "        async function convertToInteractive(key) {\n",
              "          const element = document.querySelector('#df-e20760b8-f2b7-40b7-b84e-200e0d35405e');\n",
              "          const dataTable =\n",
              "            await google.colab.kernel.invokeFunction('convertToInteractive',\n",
              "                                                     [key], {});\n",
              "          if (!dataTable) return;\n",
              "\n",
              "          const docLinkHtml = 'Like what you see? Visit the ' +\n",
              "            '<a target=\"_blank\" href=https://colab.research.google.com/notebooks/data_table.ipynb>data table notebook</a>'\n",
              "            + ' to learn more about interactive tables.';\n",
              "          element.innerHTML = '';\n",
              "          dataTable['output_type'] = 'display_data';\n",
              "          await google.colab.output.renderOutput(dataTable, element);\n",
              "          const docLink = document.createElement('div');\n",
              "          docLink.innerHTML = docLinkHtml;\n",
              "          element.appendChild(docLink);\n",
              "        }\n",
              "      </script>\n",
              "    </div>\n",
              "  </div>\n",
              "  "
            ],
            "text/plain": [
              "            Assault Auto Theft Break and Enter   Robbery Theft Over\n",
              "f1         0.771617   0.618728        0.561035  0.499933   0.056506\n",
              "precision  0.701374   0.647326        0.636596  0.656519   0.205941\n",
              "recall     0.857496    0.59255        0.501508  0.403657   0.032746"
            ]
          },
          "execution_count": 65,
          "metadata": {},
          "output_type": "execute_result"
        }
      ],
      "source": [
        "# Evaluate performance\n",
        "multi_performance(y_true=y_test1, y_pred=y_pred1_weighted, classes=classes)[0]"
      ]
    },
    {
      "cell_type": "code",
      "execution_count": null,
      "metadata": {
        "colab": {
          "base_uri": "https://localhost:8080/"
        },
        "id": "37yQkAQzx55t",
        "outputId": "d89cca4d-9d36-4b84-8f15-10edd52d0a3d"
      },
      "outputs": [
        {
          "data": {
            "text/plain": [
              "0.679015670150073"
            ]
          },
          "execution_count": 66,
          "metadata": {},
          "output_type": "execute_result"
        }
      ],
      "source": [
        "multi_performance(y_true=y_test1, y_pred=y_pred1_weighted, classes=classes)[1]"
      ]
    },
    {
      "cell_type": "code",
      "execution_count": null,
      "metadata": {
        "id": "py52t9Htx55t"
      },
      "outputs": [],
      "source": [
        "# Fit model (weighted based on bootstrap frequency)\n",
        "rf_weighted2 = RandomForestClassifier(class_weight='balanced_subsample')\n",
        "rf_weighted2.fit(X_train1, y_train1)\n",
        "\n",
        "# Get predictions\n",
        "y_pred1_weighted2 = rf_weighted2.predict(X_test1)"
      ]
    },
    {
      "cell_type": "code",
      "execution_count": null,
      "metadata": {
        "colab": {
          "base_uri": "https://localhost:8080/",
          "height": 143
        },
        "id": "BKLo5synx55t",
        "outputId": "cbf49afa-a5d3-45c4-dada-d013d8549ac6"
      },
      "outputs": [
        {
          "data": {
            "text/html": [
              "\n",
              "  <div id=\"df-6bb0ed65-4579-4fa1-b9de-78666f154982\">\n",
              "    <div class=\"colab-df-container\">\n",
              "      <div>\n",
              "<style scoped>\n",
              "    .dataframe tbody tr th:only-of-type {\n",
              "        vertical-align: middle;\n",
              "    }\n",
              "\n",
              "    .dataframe tbody tr th {\n",
              "        vertical-align: top;\n",
              "    }\n",
              "\n",
              "    .dataframe thead th {\n",
              "        text-align: right;\n",
              "    }\n",
              "</style>\n",
              "<table border=\"1\" class=\"dataframe\">\n",
              "  <thead>\n",
              "    <tr style=\"text-align: right;\">\n",
              "      <th></th>\n",
              "      <th>Assault</th>\n",
              "      <th>Auto Theft</th>\n",
              "      <th>Break and Enter</th>\n",
              "      <th>Robbery</th>\n",
              "      <th>Theft Over</th>\n",
              "    </tr>\n",
              "  </thead>\n",
              "  <tbody>\n",
              "    <tr>\n",
              "      <th>f1</th>\n",
              "      <td>0.771265</td>\n",
              "      <td>0.619522</td>\n",
              "      <td>0.562061</td>\n",
              "      <td>0.502575</td>\n",
              "      <td>0.054743</td>\n",
              "    </tr>\n",
              "    <tr>\n",
              "      <th>precision</th>\n",
              "      <td>0.702205</td>\n",
              "      <td>0.644898</td>\n",
              "      <td>0.63609</td>\n",
              "      <td>0.658199</td>\n",
              "      <td>0.196498</td>\n",
              "    </tr>\n",
              "    <tr>\n",
              "      <th>recall</th>\n",
              "      <td>0.855391</td>\n",
              "      <td>0.596067</td>\n",
              "      <td>0.503466</td>\n",
              "      <td>0.40647</td>\n",
              "      <td>0.031801</td>\n",
              "    </tr>\n",
              "  </tbody>\n",
              "</table>\n",
              "</div>\n",
              "      <button class=\"colab-df-convert\" onclick=\"convertToInteractive('df-6bb0ed65-4579-4fa1-b9de-78666f154982')\"\n",
              "              title=\"Convert this dataframe to an interactive table.\"\n",
              "              style=\"display:none;\">\n",
              "        \n",
              "  <svg xmlns=\"http://www.w3.org/2000/svg\" height=\"24px\"viewBox=\"0 0 24 24\"\n",
              "       width=\"24px\">\n",
              "    <path d=\"M0 0h24v24H0V0z\" fill=\"none\"/>\n",
              "    <path d=\"M18.56 5.44l.94 2.06.94-2.06 2.06-.94-2.06-.94-.94-2.06-.94 2.06-2.06.94zm-11 1L8.5 8.5l.94-2.06 2.06-.94-2.06-.94L8.5 2.5l-.94 2.06-2.06.94zm10 10l.94 2.06.94-2.06 2.06-.94-2.06-.94-.94-2.06-.94 2.06-2.06.94z\"/><path d=\"M17.41 7.96l-1.37-1.37c-.4-.4-.92-.59-1.43-.59-.52 0-1.04.2-1.43.59L10.3 9.45l-7.72 7.72c-.78.78-.78 2.05 0 2.83L4 21.41c.39.39.9.59 1.41.59.51 0 1.02-.2 1.41-.59l7.78-7.78 2.81-2.81c.8-.78.8-2.07 0-2.86zM5.41 20L4 18.59l7.72-7.72 1.47 1.35L5.41 20z\"/>\n",
              "  </svg>\n",
              "      </button>\n",
              "      \n",
              "  <style>\n",
              "    .colab-df-container {\n",
              "      display:flex;\n",
              "      flex-wrap:wrap;\n",
              "      gap: 12px;\n",
              "    }\n",
              "\n",
              "    .colab-df-convert {\n",
              "      background-color: #E8F0FE;\n",
              "      border: none;\n",
              "      border-radius: 50%;\n",
              "      cursor: pointer;\n",
              "      display: none;\n",
              "      fill: #1967D2;\n",
              "      height: 32px;\n",
              "      padding: 0 0 0 0;\n",
              "      width: 32px;\n",
              "    }\n",
              "\n",
              "    .colab-df-convert:hover {\n",
              "      background-color: #E2EBFA;\n",
              "      box-shadow: 0px 1px 2px rgba(60, 64, 67, 0.3), 0px 1px 3px 1px rgba(60, 64, 67, 0.15);\n",
              "      fill: #174EA6;\n",
              "    }\n",
              "\n",
              "    [theme=dark] .colab-df-convert {\n",
              "      background-color: #3B4455;\n",
              "      fill: #D2E3FC;\n",
              "    }\n",
              "\n",
              "    [theme=dark] .colab-df-convert:hover {\n",
              "      background-color: #434B5C;\n",
              "      box-shadow: 0px 1px 3px 1px rgba(0, 0, 0, 0.15);\n",
              "      filter: drop-shadow(0px 1px 2px rgba(0, 0, 0, 0.3));\n",
              "      fill: #FFFFFF;\n",
              "    }\n",
              "  </style>\n",
              "\n",
              "      <script>\n",
              "        const buttonEl =\n",
              "          document.querySelector('#df-6bb0ed65-4579-4fa1-b9de-78666f154982 button.colab-df-convert');\n",
              "        buttonEl.style.display =\n",
              "          google.colab.kernel.accessAllowed ? 'block' : 'none';\n",
              "\n",
              "        async function convertToInteractive(key) {\n",
              "          const element = document.querySelector('#df-6bb0ed65-4579-4fa1-b9de-78666f154982');\n",
              "          const dataTable =\n",
              "            await google.colab.kernel.invokeFunction('convertToInteractive',\n",
              "                                                     [key], {});\n",
              "          if (!dataTable) return;\n",
              "\n",
              "          const docLinkHtml = 'Like what you see? Visit the ' +\n",
              "            '<a target=\"_blank\" href=https://colab.research.google.com/notebooks/data_table.ipynb>data table notebook</a>'\n",
              "            + ' to learn more about interactive tables.';\n",
              "          element.innerHTML = '';\n",
              "          dataTable['output_type'] = 'display_data';\n",
              "          await google.colab.output.renderOutput(dataTable, element);\n",
              "          const docLink = document.createElement('div');\n",
              "          docLink.innerHTML = docLinkHtml;\n",
              "          element.appendChild(docLink);\n",
              "        }\n",
              "      </script>\n",
              "    </div>\n",
              "  </div>\n",
              "  "
            ],
            "text/plain": [
              "            Assault Auto Theft Break and Enter   Robbery Theft Over\n",
              "f1         0.771265   0.619522        0.562061  0.502575   0.054743\n",
              "precision  0.702205   0.644898         0.63609  0.658199   0.196498\n",
              "recall     0.855391   0.596067        0.503466   0.40647   0.031801"
            ]
          },
          "execution_count": 68,
          "metadata": {},
          "output_type": "execute_result"
        }
      ],
      "source": [
        "# Evaluate performance\n",
        "multi_performance(y_true=y_test1, y_pred=y_pred1_weighted2, classes=classes)[0]"
      ]
    },
    {
      "cell_type": "code",
      "execution_count": null,
      "metadata": {
        "colab": {
          "base_uri": "https://localhost:8080/"
        },
        "id": "6FbSdi_2x55t",
        "outputId": "a35a35ad-1480-43fd-bce9-62c636201d49"
      },
      "outputs": [
        {
          "data": {
            "text/plain": [
              "0.6790260271560697"
            ]
          },
          "execution_count": 69,
          "metadata": {},
          "output_type": "execute_result"
        }
      ],
      "source": [
        "multi_performance(y_true=y_test1, y_pred=y_pred1_weighted2, classes=classes)[1]"
      ]
    },
    {
      "attachments": {},
      "cell_type": "markdown",
      "metadata": {
        "id": "y9VceKUMx55t"
      },
      "source": [
        "Unfortunately, the Weighted Random Forest did not improve the situation much."
      ]
    },
    {
      "attachments": {},
      "cell_type": "markdown",
      "metadata": {
        "id": "glPTS4WP9yG_"
      },
      "source": [
        "### Random Forest - Minority Class Oversampling\n",
        "Another way that we can deal with class imbalance is oversampling the minority class. To do so we need to make the assumptions:\n",
        "\n",
        "1. The oversampling minority classes are exchangeable with the existing observations. In other words, the synthetic minority cases should come from the same underlying distribution as the existing minority class observations.\n",
        "\n",
        "2. The synthetic minority cases should be independent of each other so that we do not learn spurious correlations between them.\n",
        "\n",
        "Additionally, note that by oversampling the existing minority cases, we also give more weight to the noise inherent in the existing cases. This may lead to the risk of overfitting, and reduce the generalization ability of the model."
      ]
    },
    {
      "cell_type": "code",
      "execution_count": null,
      "metadata": {
        "id": "6XbmvvoyBqnZ"
      },
      "outputs": [],
      "source": [
        "# Instance of random oversampler\n",
        "oversampler = RandomOverSampler(random_state=0)\n",
        "\n",
        "# Resample data\n",
        "X_train_resampled, y_train_resampled = oversampler.fit_resample(X_train1, y_train1)\n"
      ]
    },
    {
      "cell_type": "code",
      "execution_count": null,
      "metadata": {
        "colab": {
          "base_uri": "https://localhost:8080/"
        },
        "id": "5QgRb5IuDycK",
        "outputId": "410cee51-f732-4fe6-96af-218a6687485b"
      },
      "outputs": [
        {
          "data": {
            "text/plain": [
              "array([120804, 120804, 120804, 120804, 120804])"
            ]
          },
          "execution_count": 70,
          "metadata": {},
          "output_type": "execute_result"
        }
      ],
      "source": [
        "# Review class frequencies in the resampled data\n",
        "np.unique(y_train_resampled, return_counts=True)[1]"
      ]
    },
    {
      "cell_type": "code",
      "execution_count": null,
      "metadata": {
        "id": "_6K_bxQzDFx1"
      },
      "outputs": [],
      "source": [
        "# Fit model\n",
        "rf_rs = RandomForestClassifier()\n",
        "rf_rs.fit(X_train_resampled, y_train_resampled)\n",
        "\n",
        "# Get predictions\n",
        "y_pred1_rs = rf_rs.predict(X_test1)"
      ]
    },
    {
      "cell_type": "code",
      "execution_count": null,
      "metadata": {
        "colab": {
          "base_uri": "https://localhost:8080/",
          "height": 143
        },
        "id": "LJw6Bjz1DaKP",
        "outputId": "627c8a6a-47c1-4980-ca8b-ecb6d9ee2930"
      },
      "outputs": [
        {
          "data": {
            "text/html": [
              "\n",
              "  <div id=\"df-e5ef6226-485e-4688-8493-77ac0b45aeb7\">\n",
              "    <div class=\"colab-df-container\">\n",
              "      <div>\n",
              "<style scoped>\n",
              "    .dataframe tbody tr th:only-of-type {\n",
              "        vertical-align: middle;\n",
              "    }\n",
              "\n",
              "    .dataframe tbody tr th {\n",
              "        vertical-align: top;\n",
              "    }\n",
              "\n",
              "    .dataframe thead th {\n",
              "        text-align: right;\n",
              "    }\n",
              "</style>\n",
              "<table border=\"1\" class=\"dataframe\">\n",
              "  <thead>\n",
              "    <tr style=\"text-align: right;\">\n",
              "      <th></th>\n",
              "      <th>Assault</th>\n",
              "      <th>Auto Theft</th>\n",
              "      <th>Break and Enter</th>\n",
              "      <th>Robbery</th>\n",
              "      <th>Theft Over</th>\n",
              "    </tr>\n",
              "  </thead>\n",
              "  <tbody>\n",
              "    <tr>\n",
              "      <th>f1</th>\n",
              "      <td>0.757699</td>\n",
              "      <td>0.626837</td>\n",
              "      <td>0.584578</td>\n",
              "      <td>0.502014</td>\n",
              "      <td>0.09611</td>\n",
              "    </tr>\n",
              "    <tr>\n",
              "      <th>precision</th>\n",
              "      <td>0.739178</td>\n",
              "      <td>0.606044</td>\n",
              "      <td>0.589133</td>\n",
              "      <td>0.545132</td>\n",
              "      <td>0.175879</td>\n",
              "    </tr>\n",
              "    <tr>\n",
              "      <th>recall</th>\n",
              "      <td>0.777171</td>\n",
              "      <td>0.649106</td>\n",
              "      <td>0.580092</td>\n",
              "      <td>0.465217</td>\n",
              "      <td>0.066121</td>\n",
              "    </tr>\n",
              "  </tbody>\n",
              "</table>\n",
              "</div>\n",
              "      <button class=\"colab-df-convert\" onclick=\"convertToInteractive('df-e5ef6226-485e-4688-8493-77ac0b45aeb7')\"\n",
              "              title=\"Convert this dataframe to an interactive table.\"\n",
              "              style=\"display:none;\">\n",
              "        \n",
              "  <svg xmlns=\"http://www.w3.org/2000/svg\" height=\"24px\"viewBox=\"0 0 24 24\"\n",
              "       width=\"24px\">\n",
              "    <path d=\"M0 0h24v24H0V0z\" fill=\"none\"/>\n",
              "    <path d=\"M18.56 5.44l.94 2.06.94-2.06 2.06-.94-2.06-.94-.94-2.06-.94 2.06-2.06.94zm-11 1L8.5 8.5l.94-2.06 2.06-.94-2.06-.94L8.5 2.5l-.94 2.06-2.06.94zm10 10l.94 2.06.94-2.06 2.06-.94-2.06-.94-.94-2.06-.94 2.06-2.06.94z\"/><path d=\"M17.41 7.96l-1.37-1.37c-.4-.4-.92-.59-1.43-.59-.52 0-1.04.2-1.43.59L10.3 9.45l-7.72 7.72c-.78.78-.78 2.05 0 2.83L4 21.41c.39.39.9.59 1.41.59.51 0 1.02-.2 1.41-.59l7.78-7.78 2.81-2.81c.8-.78.8-2.07 0-2.86zM5.41 20L4 18.59l7.72-7.72 1.47 1.35L5.41 20z\"/>\n",
              "  </svg>\n",
              "      </button>\n",
              "      \n",
              "  <style>\n",
              "    .colab-df-container {\n",
              "      display:flex;\n",
              "      flex-wrap:wrap;\n",
              "      gap: 12px;\n",
              "    }\n",
              "\n",
              "    .colab-df-convert {\n",
              "      background-color: #E8F0FE;\n",
              "      border: none;\n",
              "      border-radius: 50%;\n",
              "      cursor: pointer;\n",
              "      display: none;\n",
              "      fill: #1967D2;\n",
              "      height: 32px;\n",
              "      padding: 0 0 0 0;\n",
              "      width: 32px;\n",
              "    }\n",
              "\n",
              "    .colab-df-convert:hover {\n",
              "      background-color: #E2EBFA;\n",
              "      box-shadow: 0px 1px 2px rgba(60, 64, 67, 0.3), 0px 1px 3px 1px rgba(60, 64, 67, 0.15);\n",
              "      fill: #174EA6;\n",
              "    }\n",
              "\n",
              "    [theme=dark] .colab-df-convert {\n",
              "      background-color: #3B4455;\n",
              "      fill: #D2E3FC;\n",
              "    }\n",
              "\n",
              "    [theme=dark] .colab-df-convert:hover {\n",
              "      background-color: #434B5C;\n",
              "      box-shadow: 0px 1px 3px 1px rgba(0, 0, 0, 0.15);\n",
              "      filter: drop-shadow(0px 1px 2px rgba(0, 0, 0, 0.3));\n",
              "      fill: #FFFFFF;\n",
              "    }\n",
              "  </style>\n",
              "\n",
              "      <script>\n",
              "        const buttonEl =\n",
              "          document.querySelector('#df-e5ef6226-485e-4688-8493-77ac0b45aeb7 button.colab-df-convert');\n",
              "        buttonEl.style.display =\n",
              "          google.colab.kernel.accessAllowed ? 'block' : 'none';\n",
              "\n",
              "        async function convertToInteractive(key) {\n",
              "          const element = document.querySelector('#df-e5ef6226-485e-4688-8493-77ac0b45aeb7');\n",
              "          const dataTable =\n",
              "            await google.colab.kernel.invokeFunction('convertToInteractive',\n",
              "                                                     [key], {});\n",
              "          if (!dataTable) return;\n",
              "\n",
              "          const docLinkHtml = 'Like what you see? Visit the ' +\n",
              "            '<a target=\"_blank\" href=https://colab.research.google.com/notebooks/data_table.ipynb>data table notebook</a>'\n",
              "            + ' to learn more about interactive tables.';\n",
              "          element.innerHTML = '';\n",
              "          dataTable['output_type'] = 'display_data';\n",
              "          await google.colab.output.renderOutput(dataTable, element);\n",
              "          const docLink = document.createElement('div');\n",
              "          docLink.innerHTML = docLinkHtml;\n",
              "          element.appendChild(docLink);\n",
              "        }\n",
              "      </script>\n",
              "    </div>\n",
              "  </div>\n",
              "  "
            ],
            "text/plain": [
              "            Assault Auto Theft Break and Enter   Robbery Theft Over\n",
              "f1         0.757699   0.626837        0.584578  0.502014    0.09611\n",
              "precision  0.739178   0.606044        0.589133  0.545132   0.175879\n",
              "recall     0.777171   0.649106        0.580092  0.465217   0.066121"
            ]
          },
          "execution_count": 72,
          "metadata": {},
          "output_type": "execute_result"
        }
      ],
      "source": [
        "# Evaluate performance\n",
        "multi_performance(y_true=y_test1, y_pred=y_pred1_rs, classes=classes)[0]"
      ]
    },
    {
      "cell_type": "code",
      "execution_count": null,
      "metadata": {
        "colab": {
          "base_uri": "https://localhost:8080/"
        },
        "id": "DY4vPuACDo3O",
        "outputId": "c142b8c4-52dc-4b91-f011-5b00d67f28e3"
      },
      "outputs": [
        {
          "data": {
            "text/plain": [
              "0.6668669021159364"
            ]
          },
          "execution_count": 78,
          "metadata": {},
          "output_type": "execute_result"
        }
      ],
      "source": [
        "# Overall accuracy\n",
        "multi_performance(y_true=y_test1, y_pred=y_pred1_rs, classes=classes)[1]"
      ]
    },
    {
      "attachments": {},
      "cell_type": "markdown",
      "metadata": {
        "id": "7mTu3TSYFveD"
      },
      "source": [
        "The out of sample performance for Theft Over $5000 improved significantly, but not to acceptable levels."
      ]
    },
    {
      "attachments": {},
      "cell_type": "markdown",
      "metadata": {
        "id": "LjogZdTHx55v"
      },
      "source": [
        "### Gradient Boosted Trees (xgboost)\n",
        "We try a different algorithm to deal with the low performance on the minority classes. Gradient boosting may be a good algorithm to consider because of its sequential nature, where each subsequent model focuses more on the previous model's missclassifications. This is usually a good way to reduce bias, and in our case, it may help with the low performance on the minority classes. Here, I implement gradient boosted trees using the xgboost package."
      ]
    },
    {
      "attachments": {},
      "cell_type": "markdown",
      "metadata": {
        "id": "rjDTuoaiHdWX"
      },
      "source": [
        "### GBT - Hyperparameter Tuning\n",
        "We conduct hyperparameter tuning using Randomized Search over the given hyper-parameter space. This is much more efficient than an exhuastive search but may not find the global best parameters. Here, we evaluate the performance using k-fold cross validation on the training data using the weighted f1 score."
      ]
    },
    {
      "cell_type": "code",
      "execution_count": null,
      "metadata": {
        "id": "_M4MIDNtHxVe"
      },
      "outputs": [],
      "source": [
        "# Hyperparameter search space\n",
        "param_space = {\n",
        "    'learning_rate': [0.05, 0.1, 0.15, 0.2, 0.25, 0.3],\n",
        "    'max_depth': [3, 4, 5, 6, 7, 8],\n",
        "    'min_child_weight': [1, 2, 3, 4, 5],\n",
        "    'gamma': [0, 0.1, 0.2, 0.3, 0.4],\n",
        "    'colsample_bytree': [0.5, 0.6, 0.7, 0.8, 0.9],\n",
        "    'subsample': [0.6, 0.7, 0.8, 0.9, 1],\n",
        "    'n_estimators': [100, 200, 300, 400, 500]\n",
        "}"
      ]
    },
    {
      "cell_type": "code",
      "execution_count": null,
      "metadata": {
        "id": "FdYWTHo1H0qb"
      },
      "outputs": [],
      "source": [
        "# Initialize XGBoost classifier (gpu_hist enables training on gpu)\n",
        "xgb_classifier = xgb.XGBClassifier(objective = 'multi:softmax',\n",
        "                                   num_class = 5, tree_method='gpu_hist', \n",
        "                                   gpu_id=0)"
      ]
    },
    {
      "cell_type": "code",
      "execution_count": null,
      "metadata": {
        "id": "qYn-qTZXIJwv"
      },
      "outputs": [],
      "source": [
        "# Initialize random search (-1 jobs uses all avail processors)\n",
        "random_search = RandomizedSearchCV(\n",
        "    xgb_classifier, param_distributions=param_space,\n",
        "    n_iter=10, scoring='f1_weighted', n_jobs=-1, cv=5, verbose=1\n",
        ")"
      ]
    },
    {
      "cell_type": "code",
      "execution_count": null,
      "metadata": {
        "colab": {
          "base_uri": "https://localhost:8080/",
          "height": 133
        },
        "id": "ShafSSyUJg49",
        "outputId": "f5c9b3bc-efa9-4706-b3ce-1311db3b0e60"
      },
      "outputs": [
        {
          "name": "stdout",
          "output_type": "stream",
          "text": [
            "Fitting 5 folds for each of 10 candidates, totalling 50 fits\n"
          ]
        },
        {
          "data": {
            "text/html": [
              "<style>#sk-container-id-7 {color: black;background-color: white;}#sk-container-id-7 pre{padding: 0;}#sk-container-id-7 div.sk-toggleable {background-color: white;}#sk-container-id-7 label.sk-toggleable__label {cursor: pointer;display: block;width: 100%;margin-bottom: 0;padding: 0.3em;box-sizing: border-box;text-align: center;}#sk-container-id-7 label.sk-toggleable__label-arrow:before {content: \"▸\";float: left;margin-right: 0.25em;color: #696969;}#sk-container-id-7 label.sk-toggleable__label-arrow:hover:before {color: black;}#sk-container-id-7 div.sk-estimator:hover label.sk-toggleable__label-arrow:before {color: black;}#sk-container-id-7 div.sk-toggleable__content {max-height: 0;max-width: 0;overflow: hidden;text-align: left;background-color: #f0f8ff;}#sk-container-id-7 div.sk-toggleable__content pre {margin: 0.2em;color: black;border-radius: 0.25em;background-color: #f0f8ff;}#sk-container-id-7 input.sk-toggleable__control:checked~div.sk-toggleable__content {max-height: 200px;max-width: 100%;overflow: auto;}#sk-container-id-7 input.sk-toggleable__control:checked~label.sk-toggleable__label-arrow:before {content: \"▾\";}#sk-container-id-7 div.sk-estimator input.sk-toggleable__control:checked~label.sk-toggleable__label {background-color: #d4ebff;}#sk-container-id-7 div.sk-label input.sk-toggleable__control:checked~label.sk-toggleable__label {background-color: #d4ebff;}#sk-container-id-7 input.sk-hidden--visually {border: 0;clip: rect(1px 1px 1px 1px);clip: rect(1px, 1px, 1px, 1px);height: 1px;margin: -1px;overflow: hidden;padding: 0;position: absolute;width: 1px;}#sk-container-id-7 div.sk-estimator {font-family: monospace;background-color: #f0f8ff;border: 1px dotted black;border-radius: 0.25em;box-sizing: border-box;margin-bottom: 0.5em;}#sk-container-id-7 div.sk-estimator:hover {background-color: #d4ebff;}#sk-container-id-7 div.sk-parallel-item::after {content: \"\";width: 100%;border-bottom: 1px solid gray;flex-grow: 1;}#sk-container-id-7 div.sk-label:hover label.sk-toggleable__label {background-color: #d4ebff;}#sk-container-id-7 div.sk-serial::before {content: \"\";position: absolute;border-left: 1px solid gray;box-sizing: border-box;top: 0;bottom: 0;left: 50%;z-index: 0;}#sk-container-id-7 div.sk-serial {display: flex;flex-direction: column;align-items: center;background-color: white;padding-right: 0.2em;padding-left: 0.2em;position: relative;}#sk-container-id-7 div.sk-item {position: relative;z-index: 1;}#sk-container-id-7 div.sk-parallel {display: flex;align-items: stretch;justify-content: center;background-color: white;position: relative;}#sk-container-id-7 div.sk-item::before, #sk-container-id-7 div.sk-parallel-item::before {content: \"\";position: absolute;border-left: 1px solid gray;box-sizing: border-box;top: 0;bottom: 0;left: 50%;z-index: -1;}#sk-container-id-7 div.sk-parallel-item {display: flex;flex-direction: column;z-index: 1;position: relative;background-color: white;}#sk-container-id-7 div.sk-parallel-item:first-child::after {align-self: flex-end;width: 50%;}#sk-container-id-7 div.sk-parallel-item:last-child::after {align-self: flex-start;width: 50%;}#sk-container-id-7 div.sk-parallel-item:only-child::after {width: 0;}#sk-container-id-7 div.sk-dashed-wrapped {border: 1px dashed gray;margin: 0 0.4em 0.5em 0.4em;box-sizing: border-box;padding-bottom: 0.4em;background-color: white;}#sk-container-id-7 div.sk-label label {font-family: monospace;font-weight: bold;display: inline-block;line-height: 1.2em;}#sk-container-id-7 div.sk-label-container {text-align: center;}#sk-container-id-7 div.sk-container {/* jupyter's `normalize.less` sets `[hidden] { display: none; }` but bootstrap.min.css set `[hidden] { display: none !important; }` so we also need the `!important` here to be able to override the default hidden behavior on the sphinx rendered scikit-learn.org. See: https://github.com/scikit-learn/scikit-learn/issues/21755 */display: inline-block !important;position: relative;}#sk-container-id-7 div.sk-text-repr-fallback {display: none;}</style><div id=\"sk-container-id-7\" class=\"sk-top-container\"><div class=\"sk-text-repr-fallback\"><pre>RandomizedSearchCV(cv=5,\n",
              "                   estimator=XGBClassifier(base_score=None, booster=None,\n",
              "                                           callbacks=None,\n",
              "                                           colsample_bylevel=None,\n",
              "                                           colsample_bynode=None,\n",
              "                                           colsample_bytree=None,\n",
              "                                           early_stopping_rounds=None,\n",
              "                                           enable_categorical=False,\n",
              "                                           eval_metric=None, feature_types=None,\n",
              "                                           gamma=None, gpu_id=0,\n",
              "                                           grow_policy=None,\n",
              "                                           importance_type=None,\n",
              "                                           interaction_constraints=None,\n",
              "                                           learning_rate=No...\n",
              "                                           num_class=5, num_parallel_tree=None,\n",
              "                                           objective=&#x27;multi:softmax&#x27;, ...),\n",
              "                   n_jobs=-1,\n",
              "                   param_distributions={&#x27;colsample_bytree&#x27;: [0.5, 0.6, 0.7, 0.8,\n",
              "                                                             0.9],\n",
              "                                        &#x27;gamma&#x27;: [0, 0.1, 0.2, 0.3, 0.4],\n",
              "                                        &#x27;learning_rate&#x27;: [0.05, 0.1, 0.15, 0.2,\n",
              "                                                          0.25, 0.3],\n",
              "                                        &#x27;max_depth&#x27;: [3, 4, 5, 6, 7, 8],\n",
              "                                        &#x27;min_child_weight&#x27;: [1, 2, 3, 4, 5],\n",
              "                                        &#x27;n_estimators&#x27;: [100, 200, 300, 400,\n",
              "                                                         500],\n",
              "                                        &#x27;subsample&#x27;: [0.6, 0.7, 0.8, 0.9, 1]},\n",
              "                   scoring=&#x27;f1_weighted&#x27;, verbose=1)</pre><b>In a Jupyter environment, please rerun this cell to show the HTML representation or trust the notebook. <br />On GitHub, the HTML representation is unable to render, please try loading this page with nbviewer.org.</b></div><div class=\"sk-container\" hidden><div class=\"sk-item sk-dashed-wrapped\"><div class=\"sk-label-container\"><div class=\"sk-label sk-toggleable\"><input class=\"sk-toggleable__control sk-hidden--visually\" id=\"sk-estimator-id-15\" type=\"checkbox\" ><label for=\"sk-estimator-id-15\" class=\"sk-toggleable__label sk-toggleable__label-arrow\">RandomizedSearchCV</label><div class=\"sk-toggleable__content\"><pre>RandomizedSearchCV(cv=5,\n",
              "                   estimator=XGBClassifier(base_score=None, booster=None,\n",
              "                                           callbacks=None,\n",
              "                                           colsample_bylevel=None,\n",
              "                                           colsample_bynode=None,\n",
              "                                           colsample_bytree=None,\n",
              "                                           early_stopping_rounds=None,\n",
              "                                           enable_categorical=False,\n",
              "                                           eval_metric=None, feature_types=None,\n",
              "                                           gamma=None, gpu_id=0,\n",
              "                                           grow_policy=None,\n",
              "                                           importance_type=None,\n",
              "                                           interaction_constraints=None,\n",
              "                                           learning_rate=No...\n",
              "                                           num_class=5, num_parallel_tree=None,\n",
              "                                           objective=&#x27;multi:softmax&#x27;, ...),\n",
              "                   n_jobs=-1,\n",
              "                   param_distributions={&#x27;colsample_bytree&#x27;: [0.5, 0.6, 0.7, 0.8,\n",
              "                                                             0.9],\n",
              "                                        &#x27;gamma&#x27;: [0, 0.1, 0.2, 0.3, 0.4],\n",
              "                                        &#x27;learning_rate&#x27;: [0.05, 0.1, 0.15, 0.2,\n",
              "                                                          0.25, 0.3],\n",
              "                                        &#x27;max_depth&#x27;: [3, 4, 5, 6, 7, 8],\n",
              "                                        &#x27;min_child_weight&#x27;: [1, 2, 3, 4, 5],\n",
              "                                        &#x27;n_estimators&#x27;: [100, 200, 300, 400,\n",
              "                                                         500],\n",
              "                                        &#x27;subsample&#x27;: [0.6, 0.7, 0.8, 0.9, 1]},\n",
              "                   scoring=&#x27;f1_weighted&#x27;, verbose=1)</pre></div></div></div><div class=\"sk-parallel\"><div class=\"sk-parallel-item\"><div class=\"sk-item\"><div class=\"sk-label-container\"><div class=\"sk-label sk-toggleable\"><input class=\"sk-toggleable__control sk-hidden--visually\" id=\"sk-estimator-id-16\" type=\"checkbox\" ><label for=\"sk-estimator-id-16\" class=\"sk-toggleable__label sk-toggleable__label-arrow\">estimator: XGBClassifier</label><div class=\"sk-toggleable__content\"><pre>XGBClassifier(base_score=None, booster=None, callbacks=None,\n",
              "              colsample_bylevel=None, colsample_bynode=None,\n",
              "              colsample_bytree=None, early_stopping_rounds=None,\n",
              "              enable_categorical=False, eval_metric=None, feature_types=None,\n",
              "              gamma=None, gpu_id=0, grow_policy=None, importance_type=None,\n",
              "              interaction_constraints=None, learning_rate=None, max_bin=None,\n",
              "              max_cat_threshold=None, max_cat_to_onehot=None,\n",
              "              max_delta_step=None, max_depth=None, max_leaves=None,\n",
              "              min_child_weight=None, missing=nan, monotone_constraints=None,\n",
              "              n_estimators=100, n_jobs=None, num_class=5,\n",
              "              num_parallel_tree=None, objective=&#x27;multi:softmax&#x27;, ...)</pre></div></div></div><div class=\"sk-serial\"><div class=\"sk-item\"><div class=\"sk-estimator sk-toggleable\"><input class=\"sk-toggleable__control sk-hidden--visually\" id=\"sk-estimator-id-17\" type=\"checkbox\" ><label for=\"sk-estimator-id-17\" class=\"sk-toggleable__label sk-toggleable__label-arrow\">XGBClassifier</label><div class=\"sk-toggleable__content\"><pre>XGBClassifier(base_score=None, booster=None, callbacks=None,\n",
              "              colsample_bylevel=None, colsample_bynode=None,\n",
              "              colsample_bytree=None, early_stopping_rounds=None,\n",
              "              enable_categorical=False, eval_metric=None, feature_types=None,\n",
              "              gamma=None, gpu_id=0, grow_policy=None, importance_type=None,\n",
              "              interaction_constraints=None, learning_rate=None, max_bin=None,\n",
              "              max_cat_threshold=None, max_cat_to_onehot=None,\n",
              "              max_delta_step=None, max_depth=None, max_leaves=None,\n",
              "              min_child_weight=None, missing=nan, monotone_constraints=None,\n",
              "              n_estimators=100, n_jobs=None, num_class=5,\n",
              "              num_parallel_tree=None, objective=&#x27;multi:softmax&#x27;, ...)</pre></div></div></div></div></div></div></div></div></div></div>"
            ],
            "text/plain": [
              "RandomizedSearchCV(cv=5,\n",
              "                   estimator=XGBClassifier(base_score=None, booster=None,\n",
              "                                           callbacks=None,\n",
              "                                           colsample_bylevel=None,\n",
              "                                           colsample_bynode=None,\n",
              "                                           colsample_bytree=None,\n",
              "                                           early_stopping_rounds=None,\n",
              "                                           enable_categorical=False,\n",
              "                                           eval_metric=None, feature_types=None,\n",
              "                                           gamma=None, gpu_id=0,\n",
              "                                           grow_policy=None,\n",
              "                                           importance_type=None,\n",
              "                                           interaction_constraints=None,\n",
              "                                           learning_rate=No...\n",
              "                                           num_class=5, num_parallel_tree=None,\n",
              "                                           objective='multi:softmax', ...),\n",
              "                   n_jobs=-1,\n",
              "                   param_distributions={'colsample_bytree': [0.5, 0.6, 0.7, 0.8,\n",
              "                                                             0.9],\n",
              "                                        'gamma': [0, 0.1, 0.2, 0.3, 0.4],\n",
              "                                        'learning_rate': [0.05, 0.1, 0.15, 0.2,\n",
              "                                                          0.25, 0.3],\n",
              "                                        'max_depth': [3, 4, 5, 6, 7, 8],\n",
              "                                        'min_child_weight': [1, 2, 3, 4, 5],\n",
              "                                        'n_estimators': [100, 200, 300, 400,\n",
              "                                                         500],\n",
              "                                        'subsample': [0.6, 0.7, 0.8, 0.9, 1]},\n",
              "                   scoring='f1_weighted', verbose=1)"
            ]
          },
          "execution_count": 41,
          "metadata": {},
          "output_type": "execute_result"
        }
      ],
      "source": [
        "# Conduct random search\n",
        "random_search.fit(X_train1, y_train1)"
      ]
    },
    {
      "cell_type": "code",
      "execution_count": null,
      "metadata": {
        "colab": {
          "base_uri": "https://localhost:8080/"
        },
        "id": "nxP_Y2_MOUHK",
        "outputId": "dcc49cf3-1acc-4dd7-c0f5-01443a085c71"
      },
      "outputs": [
        {
          "data": {
            "text/plain": [
              "{'subsample': 0.8,\n",
              " 'n_estimators': 400,\n",
              " 'min_child_weight': 2,\n",
              " 'max_depth': 8,\n",
              " 'learning_rate': 0.2,\n",
              " 'gamma': 0.1,\n",
              " 'colsample_bytree': 0.8}"
            ]
          },
          "execution_count": 42,
          "metadata": {},
          "output_type": "execute_result"
        }
      ],
      "source": [
        "# Get the best parameters and best score\n",
        "best_params = random_search.best_params_\n",
        "best_params"
      ]
    },
    {
      "cell_type": "code",
      "execution_count": null,
      "metadata": {
        "colab": {
          "base_uri": "https://localhost:8080/"
        },
        "id": "E1A8PeDGWy0I",
        "outputId": "8b563f57-9945-44bf-fbf5-dc14e347e991"
      },
      "outputs": [
        {
          "data": {
            "text/plain": [
              "0.6448528580043158"
            ]
          },
          "execution_count": 43,
          "metadata": {},
          "output_type": "execute_result"
        }
      ],
      "source": [
        "best_score = random_search.best_score_\n",
        "best_score"
      ]
    },
    {
      "attachments": {},
      "cell_type": "markdown",
      "metadata": {
        "id": "h4V669JmW9DW"
      },
      "source": [
        "### GBT - fit using resulting hyperparameters and early stopping\n",
        "\n",
        "Early stopping chooses the best number of boosting rounds that balances the bias-varaince tradeoff and maximizes performance."
      ]
    },
    {
      "cell_type": "code",
      "execution_count": 20,
      "metadata": {
        "id": "FwZCHBKCIQA6"
      },
      "outputs": [],
      "source": [
        "# Set aside a validation set to monitor early stopping\n",
        "X_train1_train, X_train1_val, y_train1_train, y_train1_val = \\\n",
        " train_test_split(X_train1, y_train1, test_size=0.3, random_state=1)"
      ]
    },
    {
      "cell_type": "code",
      "execution_count": 21,
      "metadata": {
        "id": "6ZY02RxGNQzL"
      },
      "outputs": [],
      "source": [
        "# Add more (max) boosting rounds\n",
        "best_params['n_estimators'] = 1000"
      ]
    },
    {
      "cell_type": "code",
      "execution_count": 24,
      "metadata": {
        "colab": {
          "base_uri": "https://localhost:8080/",
          "height": 247
        },
        "id": "VVMASWlxPcZx",
        "outputId": "18ef3ad1-3484-493e-c39a-144efd609cb1"
      },
      "outputs": [
        {
          "data": {
            "text/html": [
              "<style>#sk-container-id-3 {color: black;background-color: white;}#sk-container-id-3 pre{padding: 0;}#sk-container-id-3 div.sk-toggleable {background-color: white;}#sk-container-id-3 label.sk-toggleable__label {cursor: pointer;display: block;width: 100%;margin-bottom: 0;padding: 0.3em;box-sizing: border-box;text-align: center;}#sk-container-id-3 label.sk-toggleable__label-arrow:before {content: \"▸\";float: left;margin-right: 0.25em;color: #696969;}#sk-container-id-3 label.sk-toggleable__label-arrow:hover:before {color: black;}#sk-container-id-3 div.sk-estimator:hover label.sk-toggleable__label-arrow:before {color: black;}#sk-container-id-3 div.sk-toggleable__content {max-height: 0;max-width: 0;overflow: hidden;text-align: left;background-color: #f0f8ff;}#sk-container-id-3 div.sk-toggleable__content pre {margin: 0.2em;color: black;border-radius: 0.25em;background-color: #f0f8ff;}#sk-container-id-3 input.sk-toggleable__control:checked~div.sk-toggleable__content {max-height: 200px;max-width: 100%;overflow: auto;}#sk-container-id-3 input.sk-toggleable__control:checked~label.sk-toggleable__label-arrow:before {content: \"▾\";}#sk-container-id-3 div.sk-estimator input.sk-toggleable__control:checked~label.sk-toggleable__label {background-color: #d4ebff;}#sk-container-id-3 div.sk-label input.sk-toggleable__control:checked~label.sk-toggleable__label {background-color: #d4ebff;}#sk-container-id-3 input.sk-hidden--visually {border: 0;clip: rect(1px 1px 1px 1px);clip: rect(1px, 1px, 1px, 1px);height: 1px;margin: -1px;overflow: hidden;padding: 0;position: absolute;width: 1px;}#sk-container-id-3 div.sk-estimator {font-family: monospace;background-color: #f0f8ff;border: 1px dotted black;border-radius: 0.25em;box-sizing: border-box;margin-bottom: 0.5em;}#sk-container-id-3 div.sk-estimator:hover {background-color: #d4ebff;}#sk-container-id-3 div.sk-parallel-item::after {content: \"\";width: 100%;border-bottom: 1px solid gray;flex-grow: 1;}#sk-container-id-3 div.sk-label:hover label.sk-toggleable__label {background-color: #d4ebff;}#sk-container-id-3 div.sk-serial::before {content: \"\";position: absolute;border-left: 1px solid gray;box-sizing: border-box;top: 0;bottom: 0;left: 50%;z-index: 0;}#sk-container-id-3 div.sk-serial {display: flex;flex-direction: column;align-items: center;background-color: white;padding-right: 0.2em;padding-left: 0.2em;position: relative;}#sk-container-id-3 div.sk-item {position: relative;z-index: 1;}#sk-container-id-3 div.sk-parallel {display: flex;align-items: stretch;justify-content: center;background-color: white;position: relative;}#sk-container-id-3 div.sk-item::before, #sk-container-id-3 div.sk-parallel-item::before {content: \"\";position: absolute;border-left: 1px solid gray;box-sizing: border-box;top: 0;bottom: 0;left: 50%;z-index: -1;}#sk-container-id-3 div.sk-parallel-item {display: flex;flex-direction: column;z-index: 1;position: relative;background-color: white;}#sk-container-id-3 div.sk-parallel-item:first-child::after {align-self: flex-end;width: 50%;}#sk-container-id-3 div.sk-parallel-item:last-child::after {align-self: flex-start;width: 50%;}#sk-container-id-3 div.sk-parallel-item:only-child::after {width: 0;}#sk-container-id-3 div.sk-dashed-wrapped {border: 1px dashed gray;margin: 0 0.4em 0.5em 0.4em;box-sizing: border-box;padding-bottom: 0.4em;background-color: white;}#sk-container-id-3 div.sk-label label {font-family: monospace;font-weight: bold;display: inline-block;line-height: 1.2em;}#sk-container-id-3 div.sk-label-container {text-align: center;}#sk-container-id-3 div.sk-container {/* jupyter's `normalize.less` sets `[hidden] { display: none; }` but bootstrap.min.css set `[hidden] { display: none !important; }` so we also need the `!important` here to be able to override the default hidden behavior on the sphinx rendered scikit-learn.org. See: https://github.com/scikit-learn/scikit-learn/issues/21755 */display: inline-block !important;position: relative;}#sk-container-id-3 div.sk-text-repr-fallback {display: none;}</style><div id=\"sk-container-id-3\" class=\"sk-top-container\"><div class=\"sk-text-repr-fallback\"><pre>XGBClassifier(base_score=None, booster=None, callbacks=None,\n",
              "              colsample_bylevel=None, colsample_bynode=None,\n",
              "              colsample_bytree=0.8, early_stopping_rounds=None,\n",
              "              enable_categorical=False, eval_metric=&#x27;auc&#x27;, feature_types=None,\n",
              "              gamma=0.1, gpu_id=0, grow_policy=None, importance_type=None,\n",
              "              interaction_constraints=None, learning_rate=0.2, max_bin=None,\n",
              "              max_cat_threshold=None, max_cat_to_onehot=None,\n",
              "              max_delta_step=None, max_depth=8, max_leaves=None,\n",
              "              min_child_weight=2, missing=nan, monotone_constraints=None,\n",
              "              n_estimators=1000, n_jobs=None, num_class=5,\n",
              "              num_parallel_tree=None, objective=&#x27;multi:softmax&#x27;, ...)</pre><b>In a Jupyter environment, please rerun this cell to show the HTML representation or trust the notebook. <br />On GitHub, the HTML representation is unable to render, please try loading this page with nbviewer.org.</b></div><div class=\"sk-container\" hidden><div class=\"sk-item\"><div class=\"sk-estimator sk-toggleable\"><input class=\"sk-toggleable__control sk-hidden--visually\" id=\"sk-estimator-id-3\" type=\"checkbox\" checked><label for=\"sk-estimator-id-3\" class=\"sk-toggleable__label sk-toggleable__label-arrow\">XGBClassifier</label><div class=\"sk-toggleable__content\"><pre>XGBClassifier(base_score=None, booster=None, callbacks=None,\n",
              "              colsample_bylevel=None, colsample_bynode=None,\n",
              "              colsample_bytree=0.8, early_stopping_rounds=None,\n",
              "              enable_categorical=False, eval_metric=&#x27;auc&#x27;, feature_types=None,\n",
              "              gamma=0.1, gpu_id=0, grow_policy=None, importance_type=None,\n",
              "              interaction_constraints=None, learning_rate=0.2, max_bin=None,\n",
              "              max_cat_threshold=None, max_cat_to_onehot=None,\n",
              "              max_delta_step=None, max_depth=8, max_leaves=None,\n",
              "              min_child_weight=2, missing=nan, monotone_constraints=None,\n",
              "              n_estimators=1000, n_jobs=None, num_class=5,\n",
              "              num_parallel_tree=None, objective=&#x27;multi:softmax&#x27;, ...)</pre></div></div></div></div></div>"
            ],
            "text/plain": [
              "XGBClassifier(base_score=None, booster=None, callbacks=None,\n",
              "              colsample_bylevel=None, colsample_bynode=None,\n",
              "              colsample_bytree=0.8, early_stopping_rounds=None,\n",
              "              enable_categorical=False, eval_metric='auc', feature_types=None,\n",
              "              gamma=0.1, gpu_id=0, grow_policy=None, importance_type=None,\n",
              "              interaction_constraints=None, learning_rate=0.2, max_bin=None,\n",
              "              max_cat_threshold=None, max_cat_to_onehot=None,\n",
              "              max_delta_step=None, max_depth=8, max_leaves=None,\n",
              "              min_child_weight=2, missing=nan, monotone_constraints=None,\n",
              "              n_estimators=1000, n_jobs=None, num_class=5,\n",
              "              num_parallel_tree=None, objective='multi:softmax', ...)"
            ]
          },
          "execution_count": 24,
          "metadata": {},
          "output_type": "execute_result"
        }
      ],
      "source": [
        "# Fit the model (with early stopping)\n",
        "xgb_classifier = xgb.XGBClassifier(**best_params, objective = 'multi:softmax',\n",
        "                                   num_class = 5, tree_method='gpu_hist', \n",
        "                                   eval_metric = 'auc', gpu_id=0)\n",
        "\n",
        "xgb_classifier.fit(X_train1_train, \n",
        "                   y_train1_train,\n",
        "                   eval_set=[(X_train1_val, y_train1_val)],\n",
        "                   early_stopping_rounds=10,\n",
        "                   verbose=False)"
      ]
    },
    {
      "cell_type": "code",
      "execution_count": 25,
      "metadata": {
        "colab": {
          "base_uri": "https://localhost:8080/"
        },
        "id": "M_PT4kCXPPaP",
        "outputId": "676bf110-a359-400b-b45d-d9cbc11084a0"
      },
      "outputs": [
        {
          "data": {
            "text/plain": [
              "350"
            ]
          },
          "execution_count": 25,
          "metadata": {},
          "output_type": "execute_result"
        }
      ],
      "source": [
        "# Get best iteration\n",
        "best_iteration = xgb_classifier.best_iteration\n",
        "best_iteration"
      ]
    },
    {
      "cell_type": "code",
      "execution_count": 26,
      "metadata": {
        "colab": {
          "base_uri": "https://localhost:8080/",
          "height": 247
        },
        "id": "m25uhyNuPaj8",
        "outputId": "7f872386-4c93-47d5-e6a0-cd2013a48b7d"
      },
      "outputs": [
        {
          "data": {
            "text/html": [
              "<style>#sk-container-id-4 {color: black;background-color: white;}#sk-container-id-4 pre{padding: 0;}#sk-container-id-4 div.sk-toggleable {background-color: white;}#sk-container-id-4 label.sk-toggleable__label {cursor: pointer;display: block;width: 100%;margin-bottom: 0;padding: 0.3em;box-sizing: border-box;text-align: center;}#sk-container-id-4 label.sk-toggleable__label-arrow:before {content: \"▸\";float: left;margin-right: 0.25em;color: #696969;}#sk-container-id-4 label.sk-toggleable__label-arrow:hover:before {color: black;}#sk-container-id-4 div.sk-estimator:hover label.sk-toggleable__label-arrow:before {color: black;}#sk-container-id-4 div.sk-toggleable__content {max-height: 0;max-width: 0;overflow: hidden;text-align: left;background-color: #f0f8ff;}#sk-container-id-4 div.sk-toggleable__content pre {margin: 0.2em;color: black;border-radius: 0.25em;background-color: #f0f8ff;}#sk-container-id-4 input.sk-toggleable__control:checked~div.sk-toggleable__content {max-height: 200px;max-width: 100%;overflow: auto;}#sk-container-id-4 input.sk-toggleable__control:checked~label.sk-toggleable__label-arrow:before {content: \"▾\";}#sk-container-id-4 div.sk-estimator input.sk-toggleable__control:checked~label.sk-toggleable__label {background-color: #d4ebff;}#sk-container-id-4 div.sk-label input.sk-toggleable__control:checked~label.sk-toggleable__label {background-color: #d4ebff;}#sk-container-id-4 input.sk-hidden--visually {border: 0;clip: rect(1px 1px 1px 1px);clip: rect(1px, 1px, 1px, 1px);height: 1px;margin: -1px;overflow: hidden;padding: 0;position: absolute;width: 1px;}#sk-container-id-4 div.sk-estimator {font-family: monospace;background-color: #f0f8ff;border: 1px dotted black;border-radius: 0.25em;box-sizing: border-box;margin-bottom: 0.5em;}#sk-container-id-4 div.sk-estimator:hover {background-color: #d4ebff;}#sk-container-id-4 div.sk-parallel-item::after {content: \"\";width: 100%;border-bottom: 1px solid gray;flex-grow: 1;}#sk-container-id-4 div.sk-label:hover label.sk-toggleable__label {background-color: #d4ebff;}#sk-container-id-4 div.sk-serial::before {content: \"\";position: absolute;border-left: 1px solid gray;box-sizing: border-box;top: 0;bottom: 0;left: 50%;z-index: 0;}#sk-container-id-4 div.sk-serial {display: flex;flex-direction: column;align-items: center;background-color: white;padding-right: 0.2em;padding-left: 0.2em;position: relative;}#sk-container-id-4 div.sk-item {position: relative;z-index: 1;}#sk-container-id-4 div.sk-parallel {display: flex;align-items: stretch;justify-content: center;background-color: white;position: relative;}#sk-container-id-4 div.sk-item::before, #sk-container-id-4 div.sk-parallel-item::before {content: \"\";position: absolute;border-left: 1px solid gray;box-sizing: border-box;top: 0;bottom: 0;left: 50%;z-index: -1;}#sk-container-id-4 div.sk-parallel-item {display: flex;flex-direction: column;z-index: 1;position: relative;background-color: white;}#sk-container-id-4 div.sk-parallel-item:first-child::after {align-self: flex-end;width: 50%;}#sk-container-id-4 div.sk-parallel-item:last-child::after {align-self: flex-start;width: 50%;}#sk-container-id-4 div.sk-parallel-item:only-child::after {width: 0;}#sk-container-id-4 div.sk-dashed-wrapped {border: 1px dashed gray;margin: 0 0.4em 0.5em 0.4em;box-sizing: border-box;padding-bottom: 0.4em;background-color: white;}#sk-container-id-4 div.sk-label label {font-family: monospace;font-weight: bold;display: inline-block;line-height: 1.2em;}#sk-container-id-4 div.sk-label-container {text-align: center;}#sk-container-id-4 div.sk-container {/* jupyter's `normalize.less` sets `[hidden] { display: none; }` but bootstrap.min.css set `[hidden] { display: none !important; }` so we also need the `!important` here to be able to override the default hidden behavior on the sphinx rendered scikit-learn.org. See: https://github.com/scikit-learn/scikit-learn/issues/21755 */display: inline-block !important;position: relative;}#sk-container-id-4 div.sk-text-repr-fallback {display: none;}</style><div id=\"sk-container-id-4\" class=\"sk-top-container\"><div class=\"sk-text-repr-fallback\"><pre>XGBClassifier(base_score=None, booster=None, callbacks=None,\n",
              "              colsample_bylevel=None, colsample_bynode=None,\n",
              "              colsample_bytree=0.8, early_stopping_rounds=None,\n",
              "              enable_categorical=False, eval_metric=None, feature_types=None,\n",
              "              gamma=0.1, gpu_id=0, grow_policy=None, importance_type=None,\n",
              "              interaction_constraints=None, learning_rate=0.2, max_bin=None,\n",
              "              max_cat_threshold=None, max_cat_to_onehot=None,\n",
              "              max_delta_step=None, max_depth=8, max_leaves=None,\n",
              "              min_child_weight=2, missing=nan, monotone_constraints=None,\n",
              "              n_estimators=350, n_jobs=None, num_class=5,\n",
              "              num_parallel_tree=None, objective=&#x27;multi:softmax&#x27;, ...)</pre><b>In a Jupyter environment, please rerun this cell to show the HTML representation or trust the notebook. <br />On GitHub, the HTML representation is unable to render, please try loading this page with nbviewer.org.</b></div><div class=\"sk-container\" hidden><div class=\"sk-item\"><div class=\"sk-estimator sk-toggleable\"><input class=\"sk-toggleable__control sk-hidden--visually\" id=\"sk-estimator-id-4\" type=\"checkbox\" checked><label for=\"sk-estimator-id-4\" class=\"sk-toggleable__label sk-toggleable__label-arrow\">XGBClassifier</label><div class=\"sk-toggleable__content\"><pre>XGBClassifier(base_score=None, booster=None, callbacks=None,\n",
              "              colsample_bylevel=None, colsample_bynode=None,\n",
              "              colsample_bytree=0.8, early_stopping_rounds=None,\n",
              "              enable_categorical=False, eval_metric=None, feature_types=None,\n",
              "              gamma=0.1, gpu_id=0, grow_policy=None, importance_type=None,\n",
              "              interaction_constraints=None, learning_rate=0.2, max_bin=None,\n",
              "              max_cat_threshold=None, max_cat_to_onehot=None,\n",
              "              max_delta_step=None, max_depth=8, max_leaves=None,\n",
              "              min_child_weight=2, missing=nan, monotone_constraints=None,\n",
              "              n_estimators=350, n_jobs=None, num_class=5,\n",
              "              num_parallel_tree=None, objective=&#x27;multi:softmax&#x27;, ...)</pre></div></div></div></div></div>"
            ],
            "text/plain": [
              "XGBClassifier(base_score=None, booster=None, callbacks=None,\n",
              "              colsample_bylevel=None, colsample_bynode=None,\n",
              "              colsample_bytree=0.8, early_stopping_rounds=None,\n",
              "              enable_categorical=False, eval_metric=None, feature_types=None,\n",
              "              gamma=0.1, gpu_id=0, grow_policy=None, importance_type=None,\n",
              "              interaction_constraints=None, learning_rate=0.2, max_bin=None,\n",
              "              max_cat_threshold=None, max_cat_to_onehot=None,\n",
              "              max_delta_step=None, max_depth=8, max_leaves=None,\n",
              "              min_child_weight=2, missing=nan, monotone_constraints=None,\n",
              "              n_estimators=350, n_jobs=None, num_class=5,\n",
              "              num_parallel_tree=None, objective='multi:softmax', ...)"
            ]
          },
          "execution_count": 26,
          "metadata": {},
          "output_type": "execute_result"
        }
      ],
      "source": [
        "# Retrain the model based on the best iteration\n",
        "best_params['n_estimators'] = best_iteration\n",
        "\n",
        "xgb_classifier = xgb.XGBClassifier(**best_params, objective = 'multi:softmax',\n",
        "                                   num_class = 5, tree_method='gpu_hist', gpu_id=0)\n",
        "\n",
        "xgb_classifier.fit(X_train1_train, \n",
        "                   y_train1_train,\n",
        "                   verbose=False)"
      ]
    },
    {
      "cell_type": "code",
      "execution_count": 27,
      "metadata": {
        "id": "KvfH1V0oQS82"
      },
      "outputs": [],
      "source": [
        "# Get predicted values from test set\n",
        "y_pred1_xgb = xgb_classifier.predict(X_test1)"
      ]
    },
    {
      "cell_type": "code",
      "execution_count": 28,
      "metadata": {
        "colab": {
          "base_uri": "https://localhost:8080/",
          "height": 143
        },
        "id": "wHVGcLl7QmCH",
        "outputId": "6c501b6e-7512-4fbb-a17f-92accdcc33e1"
      },
      "outputs": [
        {
          "data": {
            "text/html": [
              "\n",
              "  <div id=\"df-93f0da88-0cb9-45e1-b586-f916a5dfefdd\">\n",
              "    <div class=\"colab-df-container\">\n",
              "      <div>\n",
              "<style scoped>\n",
              "    .dataframe tbody tr th:only-of-type {\n",
              "        vertical-align: middle;\n",
              "    }\n",
              "\n",
              "    .dataframe tbody tr th {\n",
              "        vertical-align: top;\n",
              "    }\n",
              "\n",
              "    .dataframe thead th {\n",
              "        text-align: right;\n",
              "    }\n",
              "</style>\n",
              "<table border=\"1\" class=\"dataframe\">\n",
              "  <thead>\n",
              "    <tr style=\"text-align: right;\">\n",
              "      <th></th>\n",
              "      <th>Assault</th>\n",
              "      <th>Auto Theft</th>\n",
              "      <th>Break and Enter</th>\n",
              "      <th>Robbery</th>\n",
              "      <th>Theft Over</th>\n",
              "    </tr>\n",
              "  </thead>\n",
              "  <tbody>\n",
              "    <tr>\n",
              "      <th>f1</th>\n",
              "      <td>0.767135</td>\n",
              "      <td>0.605282</td>\n",
              "      <td>0.575619</td>\n",
              "      <td>0.356185</td>\n",
              "      <td>0.058456</td>\n",
              "    </tr>\n",
              "    <tr>\n",
              "      <th>precision</th>\n",
              "      <td>0.690968</td>\n",
              "      <td>0.631095</td>\n",
              "      <td>0.637815</td>\n",
              "      <td>0.609916</td>\n",
              "      <td>0.295977</td>\n",
              "    </tr>\n",
              "    <tr>\n",
              "      <th>recall</th>\n",
              "      <td>0.862174</td>\n",
              "      <td>0.581497</td>\n",
              "      <td>0.524475</td>\n",
              "      <td>0.251542</td>\n",
              "      <td>0.032431</td>\n",
              "    </tr>\n",
              "  </tbody>\n",
              "</table>\n",
              "</div>\n",
              "      <button class=\"colab-df-convert\" onclick=\"convertToInteractive('df-93f0da88-0cb9-45e1-b586-f916a5dfefdd')\"\n",
              "              title=\"Convert this dataframe to an interactive table.\"\n",
              "              style=\"display:none;\">\n",
              "        \n",
              "  <svg xmlns=\"http://www.w3.org/2000/svg\" height=\"24px\"viewBox=\"0 0 24 24\"\n",
              "       width=\"24px\">\n",
              "    <path d=\"M0 0h24v24H0V0z\" fill=\"none\"/>\n",
              "    <path d=\"M18.56 5.44l.94 2.06.94-2.06 2.06-.94-2.06-.94-.94-2.06-.94 2.06-2.06.94zm-11 1L8.5 8.5l.94-2.06 2.06-.94-2.06-.94L8.5 2.5l-.94 2.06-2.06.94zm10 10l.94 2.06.94-2.06 2.06-.94-2.06-.94-.94-2.06-.94 2.06-2.06.94z\"/><path d=\"M17.41 7.96l-1.37-1.37c-.4-.4-.92-.59-1.43-.59-.52 0-1.04.2-1.43.59L10.3 9.45l-7.72 7.72c-.78.78-.78 2.05 0 2.83L4 21.41c.39.39.9.59 1.41.59.51 0 1.02-.2 1.41-.59l7.78-7.78 2.81-2.81c.8-.78.8-2.07 0-2.86zM5.41 20L4 18.59l7.72-7.72 1.47 1.35L5.41 20z\"/>\n",
              "  </svg>\n",
              "      </button>\n",
              "      \n",
              "  <style>\n",
              "    .colab-df-container {\n",
              "      display:flex;\n",
              "      flex-wrap:wrap;\n",
              "      gap: 12px;\n",
              "    }\n",
              "\n",
              "    .colab-df-convert {\n",
              "      background-color: #E8F0FE;\n",
              "      border: none;\n",
              "      border-radius: 50%;\n",
              "      cursor: pointer;\n",
              "      display: none;\n",
              "      fill: #1967D2;\n",
              "      height: 32px;\n",
              "      padding: 0 0 0 0;\n",
              "      width: 32px;\n",
              "    }\n",
              "\n",
              "    .colab-df-convert:hover {\n",
              "      background-color: #E2EBFA;\n",
              "      box-shadow: 0px 1px 2px rgba(60, 64, 67, 0.3), 0px 1px 3px 1px rgba(60, 64, 67, 0.15);\n",
              "      fill: #174EA6;\n",
              "    }\n",
              "\n",
              "    [theme=dark] .colab-df-convert {\n",
              "      background-color: #3B4455;\n",
              "      fill: #D2E3FC;\n",
              "    }\n",
              "\n",
              "    [theme=dark] .colab-df-convert:hover {\n",
              "      background-color: #434B5C;\n",
              "      box-shadow: 0px 1px 3px 1px rgba(0, 0, 0, 0.15);\n",
              "      filter: drop-shadow(0px 1px 2px rgba(0, 0, 0, 0.3));\n",
              "      fill: #FFFFFF;\n",
              "    }\n",
              "  </style>\n",
              "\n",
              "      <script>\n",
              "        const buttonEl =\n",
              "          document.querySelector('#df-93f0da88-0cb9-45e1-b586-f916a5dfefdd button.colab-df-convert');\n",
              "        buttonEl.style.display =\n",
              "          google.colab.kernel.accessAllowed ? 'block' : 'none';\n",
              "\n",
              "        async function convertToInteractive(key) {\n",
              "          const element = document.querySelector('#df-93f0da88-0cb9-45e1-b586-f916a5dfefdd');\n",
              "          const dataTable =\n",
              "            await google.colab.kernel.invokeFunction('convertToInteractive',\n",
              "                                                     [key], {});\n",
              "          if (!dataTable) return;\n",
              "\n",
              "          const docLinkHtml = 'Like what you see? Visit the ' +\n",
              "            '<a target=\"_blank\" href=https://colab.research.google.com/notebooks/data_table.ipynb>data table notebook</a>'\n",
              "            + ' to learn more about interactive tables.';\n",
              "          element.innerHTML = '';\n",
              "          dataTable['output_type'] = 'display_data';\n",
              "          await google.colab.output.renderOutput(dataTable, element);\n",
              "          const docLink = document.createElement('div');\n",
              "          docLink.innerHTML = docLinkHtml;\n",
              "          element.appendChild(docLink);\n",
              "        }\n",
              "      </script>\n",
              "    </div>\n",
              "  </div>\n",
              "  "
            ],
            "text/plain": [
              "            Assault Auto Theft Break and Enter   Robbery Theft Over\n",
              "f1         0.767135   0.605282        0.575619  0.356185   0.058456\n",
              "precision  0.690968   0.631095        0.637815  0.609916   0.295977\n",
              "recall     0.862174   0.581497        0.524475  0.251542   0.032431"
            ]
          },
          "execution_count": 28,
          "metadata": {},
          "output_type": "execute_result"
        }
      ],
      "source": [
        "# Evaluate performance on test set\n",
        "multi_performance(y_true=y_test1, y_pred=y_pred1_xgb, classes=classes)[0]"
      ]
    },
    {
      "attachments": {},
      "cell_type": "markdown",
      "metadata": {
        "id": "J_U4yVboZiYU"
      },
      "source": [
        "Unfortunately, performance did not noticeably improve compared to the random forest. "
      ]
    },
    {
      "attachments": {},
      "cell_type": "markdown",
      "metadata": {
        "id": "jAS6ag3cdx6E"
      },
      "source": [
        "### Review Model Performance"
      ]
    },
    {
      "cell_type": "code",
      "execution_count": null,
      "metadata": {
        "id": "Ubnp08Wnd4Lg"
      },
      "outputs": [],
      "source": [
        "# ## Save performance results\n",
        "\n",
        "# # List of different predicted values\n",
        "# y_pred_ls = [y_pred1,\n",
        "#              y_pred2,\n",
        "#              y_pred1_weighted,\n",
        "#              y_pred1_weighted2,\n",
        "#              y_pred1_rs,\n",
        "#              y_pred1_xgb]\n",
        "\n",
        "# # Corresponding model names\n",
        "# model_names =['RF: one-hot',\n",
        "#               'RF: ordinal',\n",
        "#               'RF: weighted',\n",
        "#               'RF: bootstrap weighted',\n",
        "#               'RF: oversampling',\n",
        "#               'xgboost']\n",
        "\n",
        "# # Initialize list to store accuracies\n",
        "# accuracy_ls = []\n",
        "\n",
        "# for i, y_hat in enumerate(y_pred_ls):\n",
        "#   if model_names[i] != 'RF: ordinal': \n",
        "#     # Save accuracy\n",
        "#     accuracy_ls.append(multi_performance(y_true=y_test1, \n",
        "#                                          y_pred=y_hat, classes=classes)[1])\n",
        "#     # Save other metrics as csv\n",
        "#     multi_performance(y_true=y_test1, \n",
        "#                       y_pred=y_hat, \n",
        "#                       classes=classes)[0].to_csv(f'data/model_performance/{model_names[i]}.csv')\n",
        "    \n",
        "#   else:\n",
        "#     # Save accuracy\n",
        "#     accuracy_ls.append(multi_performance(y_true=y_test2, \n",
        "#                                          y_pred=y_hat, classes=classes)[1])\n",
        "#     # Save other metrics as csv\n",
        "#     multi_performance(y_true=y_test2, \n",
        "#                       y_pred=y_hat, \n",
        "#                       classes=classes)[0].to_csv(f'data/model_performance/{model_names[i]}.csv')\n"
      ]
    },
    {
      "cell_type": "code",
      "execution_count": null,
      "metadata": {
        "id": "wplIk-uXlzPS"
      },
      "outputs": [],
      "source": [
        "# pd.DataFrame({'accuracy': accuracy_ls},\n",
        "#              index=model_names).to_csv('data/model_performance/accuracies.csv')"
      ]
    },
    {
      "attachments": {},
      "cell_type": "markdown",
      "metadata": {
        "id": "R0jg2u3F_Ipa"
      },
      "source": [
        "Below we plot the performance of the different models."
      ]
    },
    {
      "cell_type": "code",
      "execution_count": 3,
      "metadata": {
        "id": "BVLRSgbC_Ipa"
      },
      "outputs": [],
      "source": [
        "# Load in model accuracies\n",
        "accuracies = pd.read_csv('data/model_performance/accuracies.csv', index_col=0)\n",
        "\n",
        "# Load in other metrics\n",
        "model_filename = ['RF_one-hot',\n",
        "              'RF_ordinal',\n",
        "              'RF_weighted',\n",
        "              'RF_bootstrap weighted',\n",
        "              'RF_oversampling',\n",
        "              'xgboost',\n",
        "              'multi_logistic']\n",
        "model_perf = []\n",
        "for model in model_filename:\n",
        "    model_perf.append(pd.read_csv(f'data/model_performance/{model}.csv', index_col=0))\n"
      ]
    },
    {
      "cell_type": "code",
      "execution_count": 4,
      "metadata": {
        "id": "Z-D5SEqf_Ipa",
        "outputId": "b0fcc1ec-3efe-41fe-beba-1fafd479b266"
      },
      "outputs": [
        {
          "data": {
            "image/png": "[encoded data removed]",
            "text/plain": [
              "<Figure size 640x480 with 1 Axes>"
            ]
          },
          "metadata": {},
          "output_type": "display_data"
        }
      ],
      "source": [
        "# Plot model accuracies\n",
        "fig, ax = plt.subplots()\n",
        "ax.barh(y=accuracies.index, width=accuracies['accuracy'])\n",
        "ax.set_xlim(left=0.6)\n",
        "ax.set_title('Model accuracy on test data')\n",
        "ax.set_xlabel('Accuracy')\n",
        "ax.set_ylabel('Model')\n",
        "\n",
        "# Save image\n",
        "plt.tight_layout()\n",
        "plt.savefig('images/overall_accuracies.png')\n",
        "plt.show()"
      ]
    },
    {
      "cell_type": "code",
      "execution_count": 5,
      "metadata": {
        "id": "vy3Hwobc_Ipa"
      },
      "outputs": [],
      "source": [
        "## Collect performance metrics for each model\n",
        "model_names =['RF: one-hot',\n",
        "              'RF: ordinal',\n",
        "              'RF: weighted',\n",
        "              'RF: bootstrap weighted',\n",
        "              'RF: oversampling',\n",
        "              'xgboost',\n",
        "              'multiclass logistic']\n",
        "# Collect f1 scores and convert to df\n",
        "f1_scores = [(lambda x: x.loc['f1', :])(model) for model in model_perf]\n",
        "f1_scores = pd.DataFrame(f1_scores, index=model_names)\n",
        "\n",
        "# Collect precision\n",
        "precision_scores = [(lambda x: x.loc['precision', :])(model) for model in model_perf]\n",
        "precision_scores = pd.DataFrame(precision_scores, index=model_names)\n",
        "\n",
        "# Collect precision\n",
        "recall_scores = [(lambda x: x.loc['recall', :])(model) for model in model_perf]\n",
        "recall_scores = pd.DataFrame(recall_scores, index=model_names)"
      ]
    },
    {
      "cell_type": "code",
      "execution_count": 6,
      "metadata": {
        "id": "LLb2-dyq_Ipa",
        "outputId": "b0ddfc78-f282-47b9-8858-061a3b817129"
      },
      "outputs": [
        {
          "data": {
            "image/png": "[encoded data removed]",
            "text/plain": [
              "<Figure size 1200x800 with 3 Axes>"
            ]
          },
          "metadata": {},
          "output_type": "display_data"
        }
      ],
      "source": [
        "# Create plot\n",
        "fig, axes = plt.subplots(nrows=3, figsize=(12, 8))\n",
        "barwidth = 0.08\n",
        "\n",
        "# Define colors\n",
        "colors = ['#264653', '#287271', '#2A9D8F', '#8AB17D', '#E9C46A', '#F4A261', '#E76F51']\n",
        "\n",
        "# Set position of bar on x axis\n",
        "br1 = np.arange(5)\n",
        "br2 = [x + barwidth for x in br1]\n",
        "br3 = [x + barwidth for x in br2]\n",
        "br4 = [x + barwidth for x in br3]\n",
        "br5 = [x + barwidth for x in br4]\n",
        "br6 = [x + barwidth for x in br5]\n",
        "br7 = [x + barwidth for x in br6]\n",
        "\n",
        "# Plot scores\n",
        "scores_ls = [f1_scores, precision_scores, recall_scores]\n",
        "score_names = ['F1 score', 'Precision', 'Recall']\n",
        "\n",
        "for i in range(3):\n",
        "    axes[i].bar(br1, scores_ls[i].loc['RF: one-hot', :], color =colors[0], width = barwidth, label ='RF: one-hot')\n",
        "    axes[i].bar(br2, scores_ls[i].loc['RF: ordinal', :], color =colors[1], width = barwidth, label = 'RF: ordinal')\n",
        "    axes[i].bar(br3, scores_ls[i].loc['RF: weighted', :], color =colors[2], width = barwidth, label = 'RF: weighted')\n",
        "    axes[i].bar(br4, scores_ls[i].loc['RF: bootstrap weighted', :], color =colors[3], width = barwidth, label = 'RF: bootstrap weighted')\n",
        "    axes[i].bar(br5, scores_ls[i].loc['RF: oversampling', :], color =colors[4], width = barwidth, label = 'RF: oversampling')\n",
        "    axes[i].bar(br6, scores_ls[i].loc['xgboost', :], color =colors[5], width = barwidth, label = 'xgboost')\n",
        "    axes[i].bar(br7, scores_ls[i].loc['multiclass logistic', :], color =colors[6], width = barwidth, label = 'multiclass logistic')\n",
        "    axes[i].axhline(y=0.5, color='grey', ls='--')\n",
        "    axes[i].set_xticks([r + 3*barwidth for r in range(5)], f1_scores.columns)\n",
        "    axes[i].set_ylabel(score_names[i])\n",
        "\n",
        "# Add legend\n",
        "handles, labels = axes[0].get_legend_handles_labels()\n",
        "fig.legend(handles, labels, loc='upper right', ncol=1)\n",
        "fig.suptitle('Performance on the test data for each crime category')\n",
        "fig.supxlabel('Crime type')\n",
        "fig.supylabel('Performance metric')\n",
        "\n",
        "# Save figure\n",
        "plt.tight_layout()\n",
        "plt.savefig('images/performance_measures.png')\n",
        "plt.show()"
      ]
    },
    {
      "attachments": {},
      "cell_type": "markdown",
      "metadata": {
        "id": "MPxqhTEg_Ipb"
      },
      "source": [
        "Overall, we see that F1 scores (which equally balances precision and recall) are only high for assault crime types, but there is not much predictive skill for the other crimes types because the F1 score is too close to 50% (which would be the score of a classifier with no skill). Performance for theft over $5000 (the smallest minority class) is especially low. Note that even if the overall accuracy of the model is reasonably high, but this is only because assaults (which are predicted with the highest accuracy) occur the most in the dataset.\n",
        "\n",
        "The performance on the minority classes (everything except assualt) did not improve much after weighting the random forest, nor did it appreciably improve after oversampling. After this and trying xgboost (gradient boosted trees), which incrementally weights incorrectly classified observations and generally adds more nonlinear capacity compared to the random forest, we find the same issue persists. It is reasonable to conclude that the predictor variables do not have enough power to discriminate between the different classes."
      ]
    },
    {
      "attachments": {},
      "cell_type": "markdown",
      "metadata": {
        "id": "dbV4KrML_Ipb"
      },
      "source": [
        "### Decision Trees for Binary Classification\n",
        "Because of the problem described above, we now focus on a binary classification problem - predicting whether or not a crime was an assault or not. To do this, we focus on decision trees because of its interpretability since we want to gain as much insight on assault crimes as possible. Decision trees can also model non-linearities, which is beneficial since the linear model (logistic regression) did not perform as well.\n",
        "\n",
        "We also focus on the ordinal encoded features for maximum interpretability."
      ]
    },
    {
      "cell_type": "code",
      "execution_count": null,
      "metadata": {
        "id": "NYLcd4OS_Ipb"
      },
      "outputs": [],
      "source": [
        "def process_binary(y, label_encoder):\n",
        "    \"\"\"\n",
        "    Given a label encoded target array, convert into a 0-1 binary\n",
        "    target where 1 represents an assault\n",
        "    \n",
        "    y: numpy array, label encoded targets\n",
        "    label_encoder: scikit-learn LabelEncoder object that was used to produce y\n",
        "    \"\"\"\n",
        "    \n",
        "    # Get encoded classes form label encoder\n",
        "    classes = label_encoder.classes_\n",
        "\n",
        "    # Find which integer corresponds to assault\n",
        "    assault_label = np.where(classes == 'Assault')[0][0]\n",
        "\n",
        "    # Initialize processed y\n",
        "    y_new = np.empty(len(y))\n",
        "\n",
        "    # Process y\n",
        "    y_new[y == assault_label] = 1\n",
        "    y_new[y != assault_label] = 0\n",
        "    \n",
        "    \n",
        "    return y_new"
      ]
    },
    {
      "cell_type": "code",
      "execution_count": null,
      "metadata": {
        "id": "xlpAvFfe_Ipb"
      },
      "outputs": [],
      "source": [
        "# Convert y into binary\n",
        "y_new = process_binary(y, label_encoder)\n",
        "y_train2_new = process_binary(y_train2, label_encoder)\n",
        "y_test2_new = process_binary(y_test2, label_encoder)"
      ]
    },
    {
      "attachments": {},
      "cell_type": "markdown",
      "metadata": {
        "id": "wXNtDnGg_Ipb"
      },
      "source": [
        "### Decision Trees - Tuning \n",
        "We tune the hyperparameters of the decision tree (tree depth, the minimum number of samples required in a leaf node, and the minimum number of samples in a node required before considering a split) using 5-fold cross validation and the f1 score, which again is an equal balance between the precision and recall. Similar to tuning our gradient boosted trees model, tuning these hyperparameters will help us achieve the bias-variance tradeoff. However, unlike before, decision trees are less computationally intensive to train so we can search the entire provided parameter space (grid search)."
      ]
    },
    {
      "cell_type": "code",
      "execution_count": null,
      "metadata": {
        "id": "_kPzVAYZ_Ipb",
        "outputId": "677c3ab7-6de5-4c06-c5d4-306e1a133e1b"
      },
      "outputs": [
        {
          "data": {
            "text/html": [
              "<style>#sk-container-id-1 {color: black;background-color: white;}#sk-container-id-1 pre{padding: 0;}#sk-container-id-1 div.sk-toggleable {background-color: white;}#sk-container-id-1 label.sk-toggleable__label {cursor: pointer;display: block;width: 100%;margin-bottom: 0;padding: 0.3em;box-sizing: border-box;text-align: center;}#sk-container-id-1 label.sk-toggleable__label-arrow:before {content: \"▸\";float: left;margin-right: 0.25em;color: #696969;}#sk-container-id-1 label.sk-toggleable__label-arrow:hover:before {color: black;}#sk-container-id-1 div.sk-estimator:hover label.sk-toggleable__label-arrow:before {color: black;}#sk-container-id-1 div.sk-toggleable__content {max-height: 0;max-width: 0;overflow: hidden;text-align: left;background-color: #f0f8ff;}#sk-container-id-1 div.sk-toggleable__content pre {margin: 0.2em;color: black;border-radius: 0.25em;background-color: #f0f8ff;}#sk-container-id-1 input.sk-toggleable__control:checked~div.sk-toggleable__content {max-height: 200px;max-width: 100%;overflow: auto;}#sk-container-id-1 input.sk-toggleable__control:checked~label.sk-toggleable__label-arrow:before {content: \"▾\";}#sk-container-id-1 div.sk-estimator input.sk-toggleable__control:checked~label.sk-toggleable__label {background-color: #d4ebff;}#sk-container-id-1 div.sk-label input.sk-toggleable__control:checked~label.sk-toggleable__label {background-color: #d4ebff;}#sk-container-id-1 input.sk-hidden--visually {border: 0;clip: rect(1px 1px 1px 1px);clip: rect(1px, 1px, 1px, 1px);height: 1px;margin: -1px;overflow: hidden;padding: 0;position: absolute;width: 1px;}#sk-container-id-1 div.sk-estimator {font-family: monospace;background-color: #f0f8ff;border: 1px dotted black;border-radius: 0.25em;box-sizing: border-box;margin-bottom: 0.5em;}#sk-container-id-1 div.sk-estimator:hover {background-color: #d4ebff;}#sk-container-id-1 div.sk-parallel-item::after {content: \"\";width: 100%;border-bottom: 1px solid gray;flex-grow: 1;}#sk-container-id-1 div.sk-label:hover label.sk-toggleable__label {background-color: #d4ebff;}#sk-container-id-1 div.sk-serial::before {content: \"\";position: absolute;border-left: 1px solid gray;box-sizing: border-box;top: 0;bottom: 0;left: 50%;z-index: 0;}#sk-container-id-1 div.sk-serial {display: flex;flex-direction: column;align-items: center;background-color: white;padding-right: 0.2em;padding-left: 0.2em;position: relative;}#sk-container-id-1 div.sk-item {position: relative;z-index: 1;}#sk-container-id-1 div.sk-parallel {display: flex;align-items: stretch;justify-content: center;background-color: white;position: relative;}#sk-container-id-1 div.sk-item::before, #sk-container-id-1 div.sk-parallel-item::before {content: \"\";position: absolute;border-left: 1px solid gray;box-sizing: border-box;top: 0;bottom: 0;left: 50%;z-index: -1;}#sk-container-id-1 div.sk-parallel-item {display: flex;flex-direction: column;z-index: 1;position: relative;background-color: white;}#sk-container-id-1 div.sk-parallel-item:first-child::after {align-self: flex-end;width: 50%;}#sk-container-id-1 div.sk-parallel-item:last-child::after {align-self: flex-start;width: 50%;}#sk-container-id-1 div.sk-parallel-item:only-child::after {width: 0;}#sk-container-id-1 div.sk-dashed-wrapped {border: 1px dashed gray;margin: 0 0.4em 0.5em 0.4em;box-sizing: border-box;padding-bottom: 0.4em;background-color: white;}#sk-container-id-1 div.sk-label label {font-family: monospace;font-weight: bold;display: inline-block;line-height: 1.2em;}#sk-container-id-1 div.sk-label-container {text-align: center;}#sk-container-id-1 div.sk-container {/* jupyter's `normalize.less` sets `[hidden] { display: none; }` but bootstrap.min.css set `[hidden] { display: none !important; }` so we also need the `!important` here to be able to override the default hidden behavior on the sphinx rendered scikit-learn.org. See: https://github.com/scikit-learn/scikit-learn/issues/21755 */display: inline-block !important;position: relative;}#sk-container-id-1 div.sk-text-repr-fallback {display: none;}</style><div id=\"sk-container-id-1\" class=\"sk-top-container\"><div class=\"sk-text-repr-fallback\"><pre>GridSearchCV(cv=5, estimator=DecisionTreeClassifier(), n_jobs=-1,\n",
              "             param_grid={&#x27;max_depth&#x27;: [None, 5, 10, 15],\n",
              "                         &#x27;min_samples_leaf&#x27;: [1, 2, 4, 8],\n",
              "                         &#x27;min_samples_split&#x27;: [2, 5, 10, 20]},\n",
              "             scoring=&#x27;f1&#x27;)</pre><b>In a Jupyter environment, please rerun this cell to show the HTML representation or trust the notebook. <br />On GitHub, the HTML representation is unable to render, please try loading this page with nbviewer.org.</b></div><div class=\"sk-container\" hidden><div class=\"sk-item sk-dashed-wrapped\"><div class=\"sk-label-container\"><div class=\"sk-label sk-toggleable\"><input class=\"sk-toggleable__control sk-hidden--visually\" id=\"sk-estimator-id-1\" type=\"checkbox\" ><label for=\"sk-estimator-id-1\" class=\"sk-toggleable__label sk-toggleable__label-arrow\">GridSearchCV</label><div class=\"sk-toggleable__content\"><pre>GridSearchCV(cv=5, estimator=DecisionTreeClassifier(), n_jobs=-1,\n",
              "             param_grid={&#x27;max_depth&#x27;: [None, 5, 10, 15],\n",
              "                         &#x27;min_samples_leaf&#x27;: [1, 2, 4, 8],\n",
              "                         &#x27;min_samples_split&#x27;: [2, 5, 10, 20]},\n",
              "             scoring=&#x27;f1&#x27;)</pre></div></div></div><div class=\"sk-parallel\"><div class=\"sk-parallel-item\"><div class=\"sk-item\"><div class=\"sk-label-container\"><div class=\"sk-label sk-toggleable\"><input class=\"sk-toggleable__control sk-hidden--visually\" id=\"sk-estimator-id-2\" type=\"checkbox\" ><label for=\"sk-estimator-id-2\" class=\"sk-toggleable__label sk-toggleable__label-arrow\">estimator: DecisionTreeClassifier</label><div class=\"sk-toggleable__content\"><pre>DecisionTreeClassifier()</pre></div></div></div><div class=\"sk-serial\"><div class=\"sk-item\"><div class=\"sk-estimator sk-toggleable\"><input class=\"sk-toggleable__control sk-hidden--visually\" id=\"sk-estimator-id-3\" type=\"checkbox\" ><label for=\"sk-estimator-id-3\" class=\"sk-toggleable__label sk-toggleable__label-arrow\">DecisionTreeClassifier</label><div class=\"sk-toggleable__content\"><pre>DecisionTreeClassifier()</pre></div></div></div></div></div></div></div></div></div></div>"
            ],
            "text/plain": [
              "GridSearchCV(cv=5, estimator=DecisionTreeClassifier(), n_jobs=-1,\n",
              "             param_grid={'max_depth': [None, 5, 10, 15],\n",
              "                         'min_samples_leaf': [1, 2, 4, 8],\n",
              "                         'min_samples_split': [2, 5, 10, 20]},\n",
              "             scoring='f1')"
            ]
          },
          "execution_count": 129,
          "metadata": {},
          "output_type": "execute_result"
        }
      ],
      "source": [
        "# Define the search space\n",
        "param_grid = {\n",
        "    'max_depth': [None, 5, 10, 15],\n",
        "    'min_samples_split': [2, 5, 10, 20],\n",
        "    'min_samples_leaf': [1, 2, 4, 8]\n",
        "}\n",
        "\n",
        "# Initialize classifier\n",
        "tree = DecisionTreeClassifier()\n",
        "\n",
        "# Initialize and perform grid search\n",
        "grid_search = GridSearchCV(tree, param_grid, scoring='f1', n_jobs=-1, cv=5)\n",
        "grid_search.fit(X_train2, y_train2_new)\n"
      ]
    },
    {
      "cell_type": "code",
      "execution_count": null,
      "metadata": {
        "id": "8cKlgLHj_Ipc",
        "outputId": "8fe57a76-132a-488e-ee41-ece4ea71b0b4"
      },
      "outputs": [
        {
          "data": {
            "text/plain": [
              "{'max_depth': 10, 'min_samples_leaf': 1, 'min_samples_split': 2}"
            ]
          },
          "execution_count": 133,
          "metadata": {},
          "output_type": "execute_result"
        }
      ],
      "source": [
        "# Save best parameter found\n",
        "best_params_tree = grid_search.best_params_\n",
        "best_params_tree"
      ]
    },
    {
      "cell_type": "code",
      "execution_count": null,
      "metadata": {
        "id": "-DG2miUn_Ipc",
        "outputId": "0e8be32d-84cb-42e7-fa07-22a3b2af3889"
      },
      "outputs": [
        {
          "data": {
            "text/plain": [
              "0.7155653698044189"
            ]
          },
          "execution_count": 134,
          "metadata": {},
          "output_type": "execute_result"
        }
      ],
      "source": [
        "# CV F1 score corresponding to best parameters\n",
        "best_score_tree = grid_search.best_score_\n",
        "best_score_tree"
      ]
    },
    {
      "attachments": {},
      "cell_type": "markdown",
      "metadata": {
        "id": "-j_6Npu__Ipc"
      },
      "source": [
        "Now we can conduct another more refined search round based on previous results."
      ]
    },
    {
      "cell_type": "code",
      "execution_count": null,
      "metadata": {
        "id": "fVzEicwp_Ipc",
        "outputId": "de96ef3c-d878-4cc8-aa85-c2cdf16f9704"
      },
      "outputs": [
        {
          "data": {
            "text/html": [
              "<style>#sk-container-id-2 {color: black;background-color: white;}#sk-container-id-2 pre{padding: 0;}#sk-container-id-2 div.sk-toggleable {background-color: white;}#sk-container-id-2 label.sk-toggleable__label {cursor: pointer;display: block;width: 100%;margin-bottom: 0;padding: 0.3em;box-sizing: border-box;text-align: center;}#sk-container-id-2 label.sk-toggleable__label-arrow:before {content: \"▸\";float: left;margin-right: 0.25em;color: #696969;}#sk-container-id-2 label.sk-toggleable__label-arrow:hover:before {color: black;}#sk-container-id-2 div.sk-estimator:hover label.sk-toggleable__label-arrow:before {color: black;}#sk-container-id-2 div.sk-toggleable__content {max-height: 0;max-width: 0;overflow: hidden;text-align: left;background-color: #f0f8ff;}#sk-container-id-2 div.sk-toggleable__content pre {margin: 0.2em;color: black;border-radius: 0.25em;background-color: #f0f8ff;}#sk-container-id-2 input.sk-toggleable__control:checked~div.sk-toggleable__content {max-height: 200px;max-width: 100%;overflow: auto;}#sk-container-id-2 input.sk-toggleable__control:checked~label.sk-toggleable__label-arrow:before {content: \"▾\";}#sk-container-id-2 div.sk-estimator input.sk-toggleable__control:checked~label.sk-toggleable__label {background-color: #d4ebff;}#sk-container-id-2 div.sk-label input.sk-toggleable__control:checked~label.sk-toggleable__label {background-color: #d4ebff;}#sk-container-id-2 input.sk-hidden--visually {border: 0;clip: rect(1px 1px 1px 1px);clip: rect(1px, 1px, 1px, 1px);height: 1px;margin: -1px;overflow: hidden;padding: 0;position: absolute;width: 1px;}#sk-container-id-2 div.sk-estimator {font-family: monospace;background-color: #f0f8ff;border: 1px dotted black;border-radius: 0.25em;box-sizing: border-box;margin-bottom: 0.5em;}#sk-container-id-2 div.sk-estimator:hover {background-color: #d4ebff;}#sk-container-id-2 div.sk-parallel-item::after {content: \"\";width: 100%;border-bottom: 1px solid gray;flex-grow: 1;}#sk-container-id-2 div.sk-label:hover label.sk-toggleable__label {background-color: #d4ebff;}#sk-container-id-2 div.sk-serial::before {content: \"\";position: absolute;border-left: 1px solid gray;box-sizing: border-box;top: 0;bottom: 0;left: 50%;z-index: 0;}#sk-container-id-2 div.sk-serial {display: flex;flex-direction: column;align-items: center;background-color: white;padding-right: 0.2em;padding-left: 0.2em;position: relative;}#sk-container-id-2 div.sk-item {position: relative;z-index: 1;}#sk-container-id-2 div.sk-parallel {display: flex;align-items: stretch;justify-content: center;background-color: white;position: relative;}#sk-container-id-2 div.sk-item::before, #sk-container-id-2 div.sk-parallel-item::before {content: \"\";position: absolute;border-left: 1px solid gray;box-sizing: border-box;top: 0;bottom: 0;left: 50%;z-index: -1;}#sk-container-id-2 div.sk-parallel-item {display: flex;flex-direction: column;z-index: 1;position: relative;background-color: white;}#sk-container-id-2 div.sk-parallel-item:first-child::after {align-self: flex-end;width: 50%;}#sk-container-id-2 div.sk-parallel-item:last-child::after {align-self: flex-start;width: 50%;}#sk-container-id-2 div.sk-parallel-item:only-child::after {width: 0;}#sk-container-id-2 div.sk-dashed-wrapped {border: 1px dashed gray;margin: 0 0.4em 0.5em 0.4em;box-sizing: border-box;padding-bottom: 0.4em;background-color: white;}#sk-container-id-2 div.sk-label label {font-family: monospace;font-weight: bold;display: inline-block;line-height: 1.2em;}#sk-container-id-2 div.sk-label-container {text-align: center;}#sk-container-id-2 div.sk-container {/* jupyter's `normalize.less` sets `[hidden] { display: none; }` but bootstrap.min.css set `[hidden] { display: none !important; }` so we also need the `!important` here to be able to override the default hidden behavior on the sphinx rendered scikit-learn.org. See: https://github.com/scikit-learn/scikit-learn/issues/21755 */display: inline-block !important;position: relative;}#sk-container-id-2 div.sk-text-repr-fallback {display: none;}</style><div id=\"sk-container-id-2\" class=\"sk-top-container\"><div class=\"sk-text-repr-fallback\"><pre>GridSearchCV(cv=5, estimator=DecisionTreeClassifier(), n_jobs=-1,\n",
              "             param_grid={&#x27;max_depth&#x27;: [None, 5, 10, 15],\n",
              "                         &#x27;min_samples_leaf&#x27;: [1, 2, 4, 8],\n",
              "                         &#x27;min_samples_split&#x27;: [2, 5, 10, 20]},\n",
              "             scoring=&#x27;f1&#x27;)</pre><b>In a Jupyter environment, please rerun this cell to show the HTML representation or trust the notebook. <br />On GitHub, the HTML representation is unable to render, please try loading this page with nbviewer.org.</b></div><div class=\"sk-container\" hidden><div class=\"sk-item sk-dashed-wrapped\"><div class=\"sk-label-container\"><div class=\"sk-label sk-toggleable\"><input class=\"sk-toggleable__control sk-hidden--visually\" id=\"sk-estimator-id-4\" type=\"checkbox\" ><label for=\"sk-estimator-id-4\" class=\"sk-toggleable__label sk-toggleable__label-arrow\">GridSearchCV</label><div class=\"sk-toggleable__content\"><pre>GridSearchCV(cv=5, estimator=DecisionTreeClassifier(), n_jobs=-1,\n",
              "             param_grid={&#x27;max_depth&#x27;: [None, 5, 10, 15],\n",
              "                         &#x27;min_samples_leaf&#x27;: [1, 2, 4, 8],\n",
              "                         &#x27;min_samples_split&#x27;: [2, 5, 10, 20]},\n",
              "             scoring=&#x27;f1&#x27;)</pre></div></div></div><div class=\"sk-parallel\"><div class=\"sk-parallel-item\"><div class=\"sk-item\"><div class=\"sk-label-container\"><div class=\"sk-label sk-toggleable\"><input class=\"sk-toggleable__control sk-hidden--visually\" id=\"sk-estimator-id-5\" type=\"checkbox\" ><label for=\"sk-estimator-id-5\" class=\"sk-toggleable__label sk-toggleable__label-arrow\">estimator: DecisionTreeClassifier</label><div class=\"sk-toggleable__content\"><pre>DecisionTreeClassifier()</pre></div></div></div><div class=\"sk-serial\"><div class=\"sk-item\"><div class=\"sk-estimator sk-toggleable\"><input class=\"sk-toggleable__control sk-hidden--visually\" id=\"sk-estimator-id-6\" type=\"checkbox\" ><label for=\"sk-estimator-id-6\" class=\"sk-toggleable__label sk-toggleable__label-arrow\">DecisionTreeClassifier</label><div class=\"sk-toggleable__content\"><pre>DecisionTreeClassifier()</pre></div></div></div></div></div></div></div></div></div></div>"
            ],
            "text/plain": [
              "GridSearchCV(cv=5, estimator=DecisionTreeClassifier(), n_jobs=-1,\n",
              "             param_grid={'max_depth': [None, 5, 10, 15],\n",
              "                         'min_samples_leaf': [1, 2, 4, 8],\n",
              "                         'min_samples_split': [2, 5, 10, 20]},\n",
              "             scoring='f1')"
            ]
          },
          "execution_count": 135,
          "metadata": {},
          "output_type": "execute_result"
        }
      ],
      "source": [
        "# Define new search grid\n",
        "param_grid2 = {\n",
        "    'max_depth': [8, 9, 10, 11, 12],\n",
        "    'min_samples_split': [1, 2, 3],\n",
        "    'min_samples_leaf': [1, 2]\n",
        "}\n",
        "\n",
        "# Initialize and perform refined grid search\n",
        "grid_search2 = GridSearchCV(tree, param_grid, scoring='f1', n_jobs=-1, cv=5)\n",
        "grid_search2.fit(X_train2, y_train2_new)"
      ]
    },
    {
      "cell_type": "code",
      "execution_count": null,
      "metadata": {
        "id": "gBaxY_ei_Ipc",
        "outputId": "1859e73d-d1fd-4727-d5ad-af6716b3c304"
      },
      "outputs": [
        {
          "data": {
            "text/plain": [
              "{'max_depth': 10, 'min_samples_leaf': 1, 'min_samples_split': 2}"
            ]
          },
          "execution_count": 137,
          "metadata": {},
          "output_type": "execute_result"
        }
      ],
      "source": [
        "# Save best parameter found\n",
        "best_params_tree2 = grid_search2.best_params_\n",
        "best_params_tree2"
      ]
    },
    {
      "attachments": {},
      "cell_type": "markdown",
      "metadata": {
        "id": "Bn0NFvBE_Ipc"
      },
      "source": [
        "The optimal hyperparameters are unchanged."
      ]
    },
    {
      "attachments": {},
      "cell_type": "markdown",
      "metadata": {
        "id": "xzIYCF52_Ipc"
      },
      "source": [
        "### Decision Trees - Train final model\n",
        "Using the hyperparameters found from the grid search, train the final decision tree."
      ]
    },
    {
      "cell_type": "code",
      "execution_count": null,
      "metadata": {
        "id": "-Vaiwsgv_Ipd",
        "outputId": "88162ff7-d1b7-48cf-ee79-7c452e188fa2"
      },
      "outputs": [
        {
          "data": {
            "text/html": [
              "<style>#sk-container-id-3 {color: black;background-color: white;}#sk-container-id-3 pre{padding: 0;}#sk-container-id-3 div.sk-toggleable {background-color: white;}#sk-container-id-3 label.sk-toggleable__label {cursor: pointer;display: block;width: 100%;margin-bottom: 0;padding: 0.3em;box-sizing: border-box;text-align: center;}#sk-container-id-3 label.sk-toggleable__label-arrow:before {content: \"▸\";float: left;margin-right: 0.25em;color: #696969;}#sk-container-id-3 label.sk-toggleable__label-arrow:hover:before {color: black;}#sk-container-id-3 div.sk-estimator:hover label.sk-toggleable__label-arrow:before {color: black;}#sk-container-id-3 div.sk-toggleable__content {max-height: 0;max-width: 0;overflow: hidden;text-align: left;background-color: #f0f8ff;}#sk-container-id-3 div.sk-toggleable__content pre {margin: 0.2em;color: black;border-radius: 0.25em;background-color: #f0f8ff;}#sk-container-id-3 input.sk-toggleable__control:checked~div.sk-toggleable__content {max-height: 200px;max-width: 100%;overflow: auto;}#sk-container-id-3 input.sk-toggleable__control:checked~label.sk-toggleable__label-arrow:before {content: \"▾\";}#sk-container-id-3 div.sk-estimator input.sk-toggleable__control:checked~label.sk-toggleable__label {background-color: #d4ebff;}#sk-container-id-3 div.sk-label input.sk-toggleable__control:checked~label.sk-toggleable__label {background-color: #d4ebff;}#sk-container-id-3 input.sk-hidden--visually {border: 0;clip: rect(1px 1px 1px 1px);clip: rect(1px, 1px, 1px, 1px);height: 1px;margin: -1px;overflow: hidden;padding: 0;position: absolute;width: 1px;}#sk-container-id-3 div.sk-estimator {font-family: monospace;background-color: #f0f8ff;border: 1px dotted black;border-radius: 0.25em;box-sizing: border-box;margin-bottom: 0.5em;}#sk-container-id-3 div.sk-estimator:hover {background-color: #d4ebff;}#sk-container-id-3 div.sk-parallel-item::after {content: \"\";width: 100%;border-bottom: 1px solid gray;flex-grow: 1;}#sk-container-id-3 div.sk-label:hover label.sk-toggleable__label {background-color: #d4ebff;}#sk-container-id-3 div.sk-serial::before {content: \"\";position: absolute;border-left: 1px solid gray;box-sizing: border-box;top: 0;bottom: 0;left: 50%;z-index: 0;}#sk-container-id-3 div.sk-serial {display: flex;flex-direction: column;align-items: center;background-color: white;padding-right: 0.2em;padding-left: 0.2em;position: relative;}#sk-container-id-3 div.sk-item {position: relative;z-index: 1;}#sk-container-id-3 div.sk-parallel {display: flex;align-items: stretch;justify-content: center;background-color: white;position: relative;}#sk-container-id-3 div.sk-item::before, #sk-container-id-3 div.sk-parallel-item::before {content: \"\";position: absolute;border-left: 1px solid gray;box-sizing: border-box;top: 0;bottom: 0;left: 50%;z-index: -1;}#sk-container-id-3 div.sk-parallel-item {display: flex;flex-direction: column;z-index: 1;position: relative;background-color: white;}#sk-container-id-3 div.sk-parallel-item:first-child::after {align-self: flex-end;width: 50%;}#sk-container-id-3 div.sk-parallel-item:last-child::after {align-self: flex-start;width: 50%;}#sk-container-id-3 div.sk-parallel-item:only-child::after {width: 0;}#sk-container-id-3 div.sk-dashed-wrapped {border: 1px dashed gray;margin: 0 0.4em 0.5em 0.4em;box-sizing: border-box;padding-bottom: 0.4em;background-color: white;}#sk-container-id-3 div.sk-label label {font-family: monospace;font-weight: bold;display: inline-block;line-height: 1.2em;}#sk-container-id-3 div.sk-label-container {text-align: center;}#sk-container-id-3 div.sk-container {/* jupyter's `normalize.less` sets `[hidden] { display: none; }` but bootstrap.min.css set `[hidden] { display: none !important; }` so we also need the `!important` here to be able to override the default hidden behavior on the sphinx rendered scikit-learn.org. See: https://github.com/scikit-learn/scikit-learn/issues/21755 */display: inline-block !important;position: relative;}#sk-container-id-3 div.sk-text-repr-fallback {display: none;}</style><div id=\"sk-container-id-3\" class=\"sk-top-container\"><div class=\"sk-text-repr-fallback\"><pre>DecisionTreeClassifier(max_depth=10)</pre><b>In a Jupyter environment, please rerun this cell to show the HTML representation or trust the notebook. <br />On GitHub, the HTML representation is unable to render, please try loading this page with nbviewer.org.</b></div><div class=\"sk-container\" hidden><div class=\"sk-item\"><div class=\"sk-estimator sk-toggleable\"><input class=\"sk-toggleable__control sk-hidden--visually\" id=\"sk-estimator-id-7\" type=\"checkbox\" checked><label for=\"sk-estimator-id-7\" class=\"sk-toggleable__label sk-toggleable__label-arrow\">DecisionTreeClassifier</label><div class=\"sk-toggleable__content\"><pre>DecisionTreeClassifier(max_depth=10)</pre></div></div></div></div></div>"
            ],
            "text/plain": [
              "DecisionTreeClassifier(max_depth=10)"
            ]
          },
          "execution_count": 142,
          "metadata": {},
          "output_type": "execute_result"
        }
      ],
      "source": [
        "# Fit tree\n",
        "tree_final = DecisionTreeClassifier(**best_params_tree2)\n",
        "tree_final.fit(X_train2, y_train2_new)"
      ]
    },
    {
      "cell_type": "code",
      "execution_count": null,
      "metadata": {
        "id": "XnaU3EnC_Ipd",
        "outputId": "f6b5fe76-73ff-42c4-eb0f-d4c191fef8b6"
      },
      "outputs": [
        {
          "data": {
            "text/html": [
              "<div>\n",
              "<style scoped>\n",
              "    .dataframe tbody tr th:only-of-type {\n",
              "        vertical-align: middle;\n",
              "    }\n",
              "\n",
              "    .dataframe tbody tr th {\n",
              "        vertical-align: top;\n",
              "    }\n",
              "\n",
              "    .dataframe thead th {\n",
              "        text-align: right;\n",
              "    }\n",
              "</style>\n",
              "<table border=\"1\" class=\"dataframe\">\n",
              "  <thead>\n",
              "    <tr style=\"text-align: right;\">\n",
              "      <th></th>\n",
              "      <th>accuracy</th>\n",
              "      <th>f1 score</th>\n",
              "      <th>precision</th>\n",
              "      <th>recall</th>\n",
              "    </tr>\n",
              "  </thead>\n",
              "  <tbody>\n",
              "    <tr>\n",
              "      <th>decision tree classifier</th>\n",
              "      <td>0.6925</td>\n",
              "      <td>0.719228</td>\n",
              "      <td>0.703552</td>\n",
              "      <td>0.735617</td>\n",
              "    </tr>\n",
              "  </tbody>\n",
              "</table>\n",
              "</div>"
            ],
            "text/plain": [
              "                          accuracy  f1 score  precision    recall\n",
              "decision tree classifier    0.6925  0.719228   0.703552  0.735617"
            ]
          },
          "execution_count": 147,
          "metadata": {},
          "output_type": "execute_result"
        }
      ],
      "source": [
        "# Get predicted values and evaluate performance\n",
        "y_pred_tree = tree_final.predict(X_test2)\n",
        "\n",
        "# Evaluate performance\n",
        "tree_perf = [accuracy_score(y_test2_new, y_pred_tree),\n",
        "             f1_score(y_test2_new, y_pred_tree),\n",
        "             precision_score(y_test2_new, y_pred_tree),\n",
        "             recall_score(y_test2_new, y_pred_tree)]\n",
        "\n",
        "pd.DataFrame(np.array(tree_perf).reshape(1, -1), \n",
        "             columns=['accuracy', 'f1 score', 'precision', 'recall'],\n",
        "             index=['decision tree classifier'])"
      ]
    },
    {
      "attachments": {},
      "cell_type": "markdown",
      "metadata": {
        "id": "ftnVbciM_Ipd"
      },
      "source": [
        "The overall performance scores are reasonably high across all metrics."
      ]
    }
  ],
  "metadata": {
    "accelerator": "GPU",
    "colab": {
      "gpuType": "T4",
      "provenance": []
    },
    "kernelspec": {
      "display_name": "Python 3",
      "name": "python3"
    },
    "language_info": {
      "codemirror_mode": {
        "name": "ipython",
        "version": 3
      },
      "file_extension": ".py",
      "mimetype": "text/x-python",
      "name": "python",
      "nbconvert_exporter": "python",
      "pygments_lexer": "ipython3",
      "version": "3.10.5"
    },
    "orig_nbformat": 4
  },
  "nbformat": 4,
  "nbformat_minor": 0
}
