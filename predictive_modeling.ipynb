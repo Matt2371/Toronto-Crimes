{
 "cells": [
  {
   "attachments": {},
   "cell_type": "markdown",
   "metadata": {},
   "source": [
    "### Predictive Modeling\n",
    "In this notebook, we explore various models to predict crime type based on various time and location predictors. "
   ]
  },
  {
   "cell_type": "code",
   "execution_count": 1,
   "metadata": {},
   "outputs": [],
   "source": [
    "import numpy as np\n",
    "import pandas as pd\n",
    "import matplotlib.pyplot as plt\n",
    "from sklearn.preprocessing import OrdinalEncoder, LabelEncoder\n",
    "from sklearn.model_selection import train_test_split\n",
    "from sklearn.metrics import accuracy_score, f1_score, precision_score, recall_score\n",
    "from sklearn.ensemble import RandomForestClassifier\n",
    "import xgboost as xgb"
   ]
  },
  {
   "cell_type": "code",
   "execution_count": 2,
   "metadata": {},
   "outputs": [],
   "source": [
    "def multi_performance(y_true, y_pred, classes, y_score=None):\n",
    "    \"\"\"\n",
    "    Returns a dataframe that summarizes performance metrics (accuracy, f1, precision, recall)\n",
    "    for each class and the overall score (which returns a weighted average of all the scores \n",
    "    based on the number of true instances)\n",
    "\n",
    "    y_true: np.array(n, ); true class labels\n",
    "    y_pred: np.array(n, ); predicted class labels\n",
    "    classes: list of class labels (from label_encoder.classes_ for example)\n",
    "    y_score: currently not used;\n",
    "    \"\"\"\n",
    "    result = np.empty(shape=(3, len(classes)), dtype=np.dtype(object))\n",
    "    # F1 scores\n",
    "    result[0] = f1_score(y_true, y_pred, average=None)\n",
    "    # Precision\n",
    "    result[1] = precision_score(y_true, y_pred, average=None)\n",
    "    # Recall\n",
    "    result[2] = recall_score(y_true, y_pred, average=None)                       \n",
    "    # Convert result to pandas df\n",
    "    df = pd.DataFrame(result, columns=classes, index=['f1', 'precision', 'recall'])\n",
    "\n",
    "    # Overall accuracy\n",
    "    accuracy = accuracy_score(y_true, y_pred)\n",
    "\n",
    "    return df, accuracy"
   ]
  },
  {
   "attachments": {},
   "cell_type": "markdown",
   "metadata": {},
   "source": [
    "### Process Data\n",
    "Since the data has many categorical features, we need to encode them in order to use sci-kit learn implementations of the different models. Options that we will explore are:\n",
    "\n",
    "1. One-hot-encoding. Covert each level of the categorical feature into binary indicator variables. The problem with one-hot-encoding is that it can dramatically increase the dimensionality of the data which will increase the computational cost of training and increases the overfitting risk (increases model variance)\n",
    "\n",
    "2. Ordinal encoding. Assign each level of the categorical feature an integer. While this does not increase the dimensionality of the data, it can introduce bias since the model can interpret the variables based on its magnitude while in reality the numerical values were arbitrarily assigned. This can be less of an issue with tree-based methods, however."
   ]
  },
  {
   "cell_type": "code",
   "execution_count": 3,
   "metadata": {},
   "outputs": [],
   "source": [
    "# Read csv data\n",
    "df = pd.read_csv('data/clean_data.csv')\n",
    "# Drop un-needed or already processed columns\n",
    "df = df.drop(columns=['OBJECTID', 'OCC_HOUR', 'OCC_DATE', 'dayofweek'])"
   ]
  },
  {
   "cell_type": "code",
   "execution_count": 4,
   "metadata": {},
   "outputs": [],
   "source": [
    "## Get one-hot-encoded data\n",
    "df1 = pd.get_dummies(df[['NEIGHBOURHOOD_158', 'LOCATION_TYPE']])\n",
    "\n",
    "# Combine with original data\n",
    "df_one_hot = pd.concat([df, df1], axis=1)\n",
    "\n",
    "X_one_hot = df_one_hot.drop(columns=['MCI_CATEGORY', 'NEIGHBOURHOOD_158', 'LOCATION_TYPE'])"
   ]
  },
  {
   "cell_type": "code",
   "execution_count": 5,
   "metadata": {},
   "outputs": [
    {
     "data": {
      "text/html": [
       "<div>\n",
       "<style scoped>\n",
       "    .dataframe tbody tr th:only-of-type {\n",
       "        vertical-align: middle;\n",
       "    }\n",
       "\n",
       "    .dataframe tbody tr th {\n",
       "        vertical-align: top;\n",
       "    }\n",
       "\n",
       "    .dataframe thead th {\n",
       "        text-align: right;\n",
       "    }\n",
       "</style>\n",
       "<table border=\"1\" class=\"dataframe\">\n",
       "  <thead>\n",
       "    <tr style=\"text-align: right;\">\n",
       "      <th></th>\n",
       "      <th>LONG_WGS84</th>\n",
       "      <th>LAT_WGS84</th>\n",
       "      <th>dayofweek_sin</th>\n",
       "      <th>dayofweek_cos</th>\n",
       "      <th>hour_sin</th>\n",
       "      <th>hour_cos</th>\n",
       "      <th>year</th>\n",
       "      <th>month</th>\n",
       "      <th>isholiday</th>\n",
       "      <th>lat_hour_cos</th>\n",
       "      <th>...</th>\n",
       "      <th>LOCATION_TYPE_Religious Facilities</th>\n",
       "      <th>LOCATION_TYPE_Retirement Home</th>\n",
       "      <th>LOCATION_TYPE_Schools During Supervised Activity</th>\n",
       "      <th>LOCATION_TYPE_Schools During Un-Supervised Activity</th>\n",
       "      <th>LOCATION_TYPE_Single Home, House</th>\n",
       "      <th>LOCATION_TYPE_Streets, Roads, Highways</th>\n",
       "      <th>LOCATION_TYPE_Ttc Admin Or Support Facility</th>\n",
       "      <th>LOCATION_TYPE_Ttc Subway Station</th>\n",
       "      <th>LOCATION_TYPE_Universities / Colleges</th>\n",
       "      <th>LOCATION_TYPE_Unknown</th>\n",
       "    </tr>\n",
       "  </thead>\n",
       "  <tbody>\n",
       "    <tr>\n",
       "      <th>0</th>\n",
       "      <td>-79.350229</td>\n",
       "      <td>43.646293</td>\n",
       "      <td>0.974928</td>\n",
       "      <td>-0.222521</td>\n",
       "      <td>0.707107</td>\n",
       "      <td>0.707107</td>\n",
       "      <td>2014</td>\n",
       "      <td>1</td>\n",
       "      <td>True</td>\n",
       "      <td>30.862590</td>\n",
       "      <td>...</td>\n",
       "      <td>0</td>\n",
       "      <td>0</td>\n",
       "      <td>0</td>\n",
       "      <td>0</td>\n",
       "      <td>0</td>\n",
       "      <td>0</td>\n",
       "      <td>0</td>\n",
       "      <td>0</td>\n",
       "      <td>0</td>\n",
       "      <td>0</td>\n",
       "    </tr>\n",
       "    <tr>\n",
       "      <th>1</th>\n",
       "      <td>-79.376497</td>\n",
       "      <td>43.666423</td>\n",
       "      <td>0.974928</td>\n",
       "      <td>-0.222521</td>\n",
       "      <td>0.866025</td>\n",
       "      <td>0.500000</td>\n",
       "      <td>2014</td>\n",
       "      <td>1</td>\n",
       "      <td>True</td>\n",
       "      <td>21.833211</td>\n",
       "      <td>...</td>\n",
       "      <td>0</td>\n",
       "      <td>0</td>\n",
       "      <td>0</td>\n",
       "      <td>0</td>\n",
       "      <td>0</td>\n",
       "      <td>0</td>\n",
       "      <td>0</td>\n",
       "      <td>0</td>\n",
       "      <td>0</td>\n",
       "      <td>0</td>\n",
       "    </tr>\n",
       "    <tr>\n",
       "      <th>2</th>\n",
       "      <td>-85.488744</td>\n",
       "      <td>0.000000</td>\n",
       "      <td>0.974928</td>\n",
       "      <td>-0.222521</td>\n",
       "      <td>0.866025</td>\n",
       "      <td>0.500000</td>\n",
       "      <td>2014</td>\n",
       "      <td>1</td>\n",
       "      <td>True</td>\n",
       "      <td>0.000000</td>\n",
       "      <td>...</td>\n",
       "      <td>0</td>\n",
       "      <td>0</td>\n",
       "      <td>0</td>\n",
       "      <td>0</td>\n",
       "      <td>0</td>\n",
       "      <td>1</td>\n",
       "      <td>0</td>\n",
       "      <td>0</td>\n",
       "      <td>0</td>\n",
       "      <td>0</td>\n",
       "    </tr>\n",
       "    <tr>\n",
       "      <th>3</th>\n",
       "      <td>-79.344839</td>\n",
       "      <td>43.678946</td>\n",
       "      <td>0.974928</td>\n",
       "      <td>-0.222521</td>\n",
       "      <td>0.866025</td>\n",
       "      <td>0.500000</td>\n",
       "      <td>2014</td>\n",
       "      <td>1</td>\n",
       "      <td>True</td>\n",
       "      <td>21.839473</td>\n",
       "      <td>...</td>\n",
       "      <td>0</td>\n",
       "      <td>0</td>\n",
       "      <td>0</td>\n",
       "      <td>0</td>\n",
       "      <td>0</td>\n",
       "      <td>1</td>\n",
       "      <td>0</td>\n",
       "      <td>0</td>\n",
       "      <td>0</td>\n",
       "      <td>0</td>\n",
       "    </tr>\n",
       "    <tr>\n",
       "      <th>4</th>\n",
       "      <td>-79.391841</td>\n",
       "      <td>43.646639</td>\n",
       "      <td>0.974928</td>\n",
       "      <td>-0.222521</td>\n",
       "      <td>0.500000</td>\n",
       "      <td>0.866025</td>\n",
       "      <td>2014</td>\n",
       "      <td>1</td>\n",
       "      <td>True</td>\n",
       "      <td>37.799098</td>\n",
       "      <td>...</td>\n",
       "      <td>0</td>\n",
       "      <td>0</td>\n",
       "      <td>0</td>\n",
       "      <td>0</td>\n",
       "      <td>0</td>\n",
       "      <td>0</td>\n",
       "      <td>0</td>\n",
       "      <td>0</td>\n",
       "      <td>0</td>\n",
       "      <td>0</td>\n",
       "    </tr>\n",
       "    <tr>\n",
       "      <th>...</th>\n",
       "      <td>...</td>\n",
       "      <td>...</td>\n",
       "      <td>...</td>\n",
       "      <td>...</td>\n",
       "      <td>...</td>\n",
       "      <td>...</td>\n",
       "      <td>...</td>\n",
       "      <td>...</td>\n",
       "      <td>...</td>\n",
       "      <td>...</td>\n",
       "      <td>...</td>\n",
       "      <td>...</td>\n",
       "      <td>...</td>\n",
       "      <td>...</td>\n",
       "      <td>...</td>\n",
       "      <td>...</td>\n",
       "      <td>...</td>\n",
       "      <td>...</td>\n",
       "      <td>...</td>\n",
       "      <td>...</td>\n",
       "      <td>...</td>\n",
       "    </tr>\n",
       "    <tr>\n",
       "      <th>321838</th>\n",
       "      <td>-79.301740</td>\n",
       "      <td>43.736102</td>\n",
       "      <td>0.433884</td>\n",
       "      <td>-0.900969</td>\n",
       "      <td>0.866025</td>\n",
       "      <td>-0.500000</td>\n",
       "      <td>2022</td>\n",
       "      <td>12</td>\n",
       "      <td>False</td>\n",
       "      <td>-21.868051</td>\n",
       "      <td>...</td>\n",
       "      <td>0</td>\n",
       "      <td>0</td>\n",
       "      <td>0</td>\n",
       "      <td>0</td>\n",
       "      <td>1</td>\n",
       "      <td>0</td>\n",
       "      <td>0</td>\n",
       "      <td>0</td>\n",
       "      <td>0</td>\n",
       "      <td>0</td>\n",
       "    </tr>\n",
       "    <tr>\n",
       "      <th>321839</th>\n",
       "      <td>-79.258639</td>\n",
       "      <td>43.828794</td>\n",
       "      <td>-0.974928</td>\n",
       "      <td>-0.222521</td>\n",
       "      <td>0.707107</td>\n",
       "      <td>0.707107</td>\n",
       "      <td>2022</td>\n",
       "      <td>12</td>\n",
       "      <td>False</td>\n",
       "      <td>30.991637</td>\n",
       "      <td>...</td>\n",
       "      <td>0</td>\n",
       "      <td>0</td>\n",
       "      <td>0</td>\n",
       "      <td>0</td>\n",
       "      <td>0</td>\n",
       "      <td>0</td>\n",
       "      <td>0</td>\n",
       "      <td>0</td>\n",
       "      <td>0</td>\n",
       "      <td>0</td>\n",
       "    </tr>\n",
       "    <tr>\n",
       "      <th>321840</th>\n",
       "      <td>-79.425645</td>\n",
       "      <td>43.701404</td>\n",
       "      <td>0.433884</td>\n",
       "      <td>-0.900969</td>\n",
       "      <td>-0.866025</td>\n",
       "      <td>-0.500000</td>\n",
       "      <td>2022</td>\n",
       "      <td>12</td>\n",
       "      <td>False</td>\n",
       "      <td>-21.850702</td>\n",
       "      <td>...</td>\n",
       "      <td>0</td>\n",
       "      <td>0</td>\n",
       "      <td>0</td>\n",
       "      <td>0</td>\n",
       "      <td>0</td>\n",
       "      <td>0</td>\n",
       "      <td>0</td>\n",
       "      <td>0</td>\n",
       "      <td>0</td>\n",
       "      <td>0</td>\n",
       "    </tr>\n",
       "    <tr>\n",
       "      <th>321841</th>\n",
       "      <td>-79.385170</td>\n",
       "      <td>43.672134</td>\n",
       "      <td>-0.974928</td>\n",
       "      <td>-0.222521</td>\n",
       "      <td>0.866025</td>\n",
       "      <td>0.500000</td>\n",
       "      <td>2022</td>\n",
       "      <td>12</td>\n",
       "      <td>False</td>\n",
       "      <td>21.836067</td>\n",
       "      <td>...</td>\n",
       "      <td>0</td>\n",
       "      <td>0</td>\n",
       "      <td>0</td>\n",
       "      <td>0</td>\n",
       "      <td>0</td>\n",
       "      <td>0</td>\n",
       "      <td>0</td>\n",
       "      <td>0</td>\n",
       "      <td>0</td>\n",
       "      <td>0</td>\n",
       "    </tr>\n",
       "    <tr>\n",
       "      <th>321842</th>\n",
       "      <td>-79.248081</td>\n",
       "      <td>43.736690</td>\n",
       "      <td>-0.974928</td>\n",
       "      <td>-0.222521</td>\n",
       "      <td>0.866025</td>\n",
       "      <td>0.500000</td>\n",
       "      <td>2022</td>\n",
       "      <td>12</td>\n",
       "      <td>False</td>\n",
       "      <td>21.868345</td>\n",
       "      <td>...</td>\n",
       "      <td>0</td>\n",
       "      <td>0</td>\n",
       "      <td>0</td>\n",
       "      <td>0</td>\n",
       "      <td>0</td>\n",
       "      <td>0</td>\n",
       "      <td>0</td>\n",
       "      <td>0</td>\n",
       "      <td>0</td>\n",
       "      <td>0</td>\n",
       "    </tr>\n",
       "  </tbody>\n",
       "</table>\n",
       "<p>321843 rows × 205 columns</p>\n",
       "</div>"
      ],
      "text/plain": [
       "        LONG_WGS84  LAT_WGS84  dayofweek_sin  dayofweek_cos  hour_sin  \\\n",
       "0       -79.350229  43.646293       0.974928      -0.222521  0.707107   \n",
       "1       -79.376497  43.666423       0.974928      -0.222521  0.866025   \n",
       "2       -85.488744   0.000000       0.974928      -0.222521  0.866025   \n",
       "3       -79.344839  43.678946       0.974928      -0.222521  0.866025   \n",
       "4       -79.391841  43.646639       0.974928      -0.222521  0.500000   \n",
       "...            ...        ...            ...            ...       ...   \n",
       "321838  -79.301740  43.736102       0.433884      -0.900969  0.866025   \n",
       "321839  -79.258639  43.828794      -0.974928      -0.222521  0.707107   \n",
       "321840  -79.425645  43.701404       0.433884      -0.900969 -0.866025   \n",
       "321841  -79.385170  43.672134      -0.974928      -0.222521  0.866025   \n",
       "321842  -79.248081  43.736690      -0.974928      -0.222521  0.866025   \n",
       "\n",
       "        hour_cos  year  month  isholiday  lat_hour_cos  ...  \\\n",
       "0       0.707107  2014      1       True     30.862590  ...   \n",
       "1       0.500000  2014      1       True     21.833211  ...   \n",
       "2       0.500000  2014      1       True      0.000000  ...   \n",
       "3       0.500000  2014      1       True     21.839473  ...   \n",
       "4       0.866025  2014      1       True     37.799098  ...   \n",
       "...          ...   ...    ...        ...           ...  ...   \n",
       "321838 -0.500000  2022     12      False    -21.868051  ...   \n",
       "321839  0.707107  2022     12      False     30.991637  ...   \n",
       "321840 -0.500000  2022     12      False    -21.850702  ...   \n",
       "321841  0.500000  2022     12      False     21.836067  ...   \n",
       "321842  0.500000  2022     12      False     21.868345  ...   \n",
       "\n",
       "        LOCATION_TYPE_Religious Facilities  LOCATION_TYPE_Retirement Home  \\\n",
       "0                                        0                              0   \n",
       "1                                        0                              0   \n",
       "2                                        0                              0   \n",
       "3                                        0                              0   \n",
       "4                                        0                              0   \n",
       "...                                    ...                            ...   \n",
       "321838                                   0                              0   \n",
       "321839                                   0                              0   \n",
       "321840                                   0                              0   \n",
       "321841                                   0                              0   \n",
       "321842                                   0                              0   \n",
       "\n",
       "        LOCATION_TYPE_Schools During Supervised Activity  \\\n",
       "0                                                      0   \n",
       "1                                                      0   \n",
       "2                                                      0   \n",
       "3                                                      0   \n",
       "4                                                      0   \n",
       "...                                                  ...   \n",
       "321838                                                 0   \n",
       "321839                                                 0   \n",
       "321840                                                 0   \n",
       "321841                                                 0   \n",
       "321842                                                 0   \n",
       "\n",
       "        LOCATION_TYPE_Schools During Un-Supervised Activity  \\\n",
       "0                                                       0     \n",
       "1                                                       0     \n",
       "2                                                       0     \n",
       "3                                                       0     \n",
       "4                                                       0     \n",
       "...                                                   ...     \n",
       "321838                                                  0     \n",
       "321839                                                  0     \n",
       "321840                                                  0     \n",
       "321841                                                  0     \n",
       "321842                                                  0     \n",
       "\n",
       "        LOCATION_TYPE_Single Home, House  \\\n",
       "0                                      0   \n",
       "1                                      0   \n",
       "2                                      0   \n",
       "3                                      0   \n",
       "4                                      0   \n",
       "...                                  ...   \n",
       "321838                                 1   \n",
       "321839                                 0   \n",
       "321840                                 0   \n",
       "321841                                 0   \n",
       "321842                                 0   \n",
       "\n",
       "        LOCATION_TYPE_Streets, Roads, Highways  \\\n",
       "0                                            0   \n",
       "1                                            0   \n",
       "2                                            1   \n",
       "3                                            1   \n",
       "4                                            0   \n",
       "...                                        ...   \n",
       "321838                                       0   \n",
       "321839                                       0   \n",
       "321840                                       0   \n",
       "321841                                       0   \n",
       "321842                                       0   \n",
       "\n",
       "        LOCATION_TYPE_Ttc Admin Or Support Facility  \\\n",
       "0                                                 0   \n",
       "1                                                 0   \n",
       "2                                                 0   \n",
       "3                                                 0   \n",
       "4                                                 0   \n",
       "...                                             ...   \n",
       "321838                                            0   \n",
       "321839                                            0   \n",
       "321840                                            0   \n",
       "321841                                            0   \n",
       "321842                                            0   \n",
       "\n",
       "        LOCATION_TYPE_Ttc Subway Station  \\\n",
       "0                                      0   \n",
       "1                                      0   \n",
       "2                                      0   \n",
       "3                                      0   \n",
       "4                                      0   \n",
       "...                                  ...   \n",
       "321838                                 0   \n",
       "321839                                 0   \n",
       "321840                                 0   \n",
       "321841                                 0   \n",
       "321842                                 0   \n",
       "\n",
       "        LOCATION_TYPE_Universities / Colleges  LOCATION_TYPE_Unknown  \n",
       "0                                           0                      0  \n",
       "1                                           0                      0  \n",
       "2                                           0                      0  \n",
       "3                                           0                      0  \n",
       "4                                           0                      0  \n",
       "...                                       ...                    ...  \n",
       "321838                                      0                      0  \n",
       "321839                                      0                      0  \n",
       "321840                                      0                      0  \n",
       "321841                                      0                      0  \n",
       "321842                                      0                      0  \n",
       "\n",
       "[321843 rows x 205 columns]"
      ]
     },
     "execution_count": 5,
     "metadata": {},
     "output_type": "execute_result"
    }
   ],
   "source": [
    "X_one_hot"
   ]
  },
  {
   "cell_type": "code",
   "execution_count": 6,
   "metadata": {},
   "outputs": [],
   "source": [
    "## Get ordinal encoded data\n",
    "ordinal_encoder = OrdinalEncoder()\n",
    "df_ordinal = df.copy() # write on top of a copy of df\n",
    "df_ordinal.loc[:, ['NEIGHBOURHOOD_158', 'LOCATION_TYPE']] = ordinal_encoder.fit_transform(df[['NEIGHBOURHOOD_158', 'LOCATION_TYPE']]) # create labels\n",
    "\n",
    "X_ordinal = df_ordinal.drop(columns=['MCI_CATEGORY'])"
   ]
  },
  {
   "cell_type": "code",
   "execution_count": 7,
   "metadata": {},
   "outputs": [
    {
     "data": {
      "text/plain": [
       "array(['Assault', 'Auto Theft', 'Break and Enter', 'Robbery',\n",
       "       'Theft Over'], dtype=object)"
      ]
     },
     "execution_count": 7,
     "metadata": {},
     "output_type": "execute_result"
    }
   ],
   "source": [
    "## Process y with one-hot encoding\n",
    "label_encoder = LabelEncoder()\n",
    "y = label_encoder.fit_transform(df['MCI_CATEGORY'])\n",
    "\n",
    "# Encoded classes\n",
    "classes = label_encoder.classes_\n",
    "classes"
   ]
  },
  {
   "attachments": {},
   "cell_type": "markdown",
   "metadata": {},
   "source": [
    "### Random Forest\n",
    "Random Forest is capable of handling mixed data types, performs automatic feature selection, is robust to outliers, and discovers non-linear relationships. Since Random Forest averages many different decision trees, it is also not prone to overfitting and has low variance in the bias-variance tradeoff. RF is also useful because it discovers feature importance scores, although this needs to be carefully interpreted if there are colinear variables or if variables are of high cardinality."
   ]
  },
  {
   "cell_type": "code",
   "execution_count": 8,
   "metadata": {},
   "outputs": [],
   "source": [
    "# Train-test split\n",
    "X_train1, X_test1, y_train1, y_test1 = train_test_split(X_one_hot, y, test_size=0.3, random_state=0)\n",
    "\n",
    "# Fit model\n",
    "rf = RandomForestClassifier()\n",
    "rf.fit(X_train1, y_train1)\n",
    "\n",
    "# Get predictions\n",
    "y_pred1 = rf.predict(X_test1)"
   ]
  },
  {
   "cell_type": "code",
   "execution_count": 9,
   "metadata": {},
   "outputs": [
    {
     "data": {
      "text/html": [
       "<div>\n",
       "<style scoped>\n",
       "    .dataframe tbody tr th:only-of-type {\n",
       "        vertical-align: middle;\n",
       "    }\n",
       "\n",
       "    .dataframe tbody tr th {\n",
       "        vertical-align: top;\n",
       "    }\n",
       "\n",
       "    .dataframe thead th {\n",
       "        text-align: right;\n",
       "    }\n",
       "</style>\n",
       "<table border=\"1\" class=\"dataframe\">\n",
       "  <thead>\n",
       "    <tr style=\"text-align: right;\">\n",
       "      <th></th>\n",
       "      <th>Assault</th>\n",
       "      <th>Auto Theft</th>\n",
       "      <th>Break and Enter</th>\n",
       "      <th>Robbery</th>\n",
       "      <th>Theft Over</th>\n",
       "    </tr>\n",
       "  </thead>\n",
       "  <tbody>\n",
       "    <tr>\n",
       "      <th>f1</th>\n",
       "      <td>0.773236</td>\n",
       "      <td>0.620572</td>\n",
       "      <td>0.567765</td>\n",
       "      <td>0.497548</td>\n",
       "      <td>0.057979</td>\n",
       "    </tr>\n",
       "    <tr>\n",
       "      <th>precision</th>\n",
       "      <td>0.705931</td>\n",
       "      <td>0.644408</td>\n",
       "      <td>0.633614</td>\n",
       "      <td>0.656328</td>\n",
       "      <td>0.207767</td>\n",
       "    </tr>\n",
       "    <tr>\n",
       "      <th>recall</th>\n",
       "      <td>0.854729</td>\n",
       "      <td>0.598435</td>\n",
       "      <td>0.514314</td>\n",
       "      <td>0.400628</td>\n",
       "      <td>0.03369</td>\n",
       "    </tr>\n",
       "  </tbody>\n",
       "</table>\n",
       "</div>"
      ],
      "text/plain": [
       "            Assault Auto Theft Break and Enter   Robbery Theft Over\n",
       "f1         0.773236   0.620572        0.567765  0.497548   0.057979\n",
       "precision  0.705931   0.644408        0.633614  0.656328   0.207767\n",
       "recall     0.854729   0.598435        0.514314  0.400628    0.03369"
      ]
     },
     "execution_count": 9,
     "metadata": {},
     "output_type": "execute_result"
    }
   ],
   "source": [
    "# Evaluate performance \n",
    "multi_performance(y_true=y_test1, y_pred=y_pred1, classes=classes)[0]"
   ]
  },
  {
   "cell_type": "code",
   "execution_count": 10,
   "metadata": {},
   "outputs": [
    {
     "data": {
      "text/plain": [
       "0.6806417200915559"
      ]
     },
     "execution_count": 10,
     "metadata": {},
     "output_type": "execute_result"
    }
   ],
   "source": [
    "# Overall accuracy\n",
    "multi_performance(y_true=y_test1, y_pred=y_pred1, classes=classes)[1]"
   ]
  },
  {
   "cell_type": "code",
   "execution_count": 11,
   "metadata": {},
   "outputs": [
    {
     "data": {
      "text/plain": [
       "Assault            0.534758\n",
       "Break and Enter    0.193989\n",
       "Auto Theft         0.142905\n",
       "Robbery            0.095363\n",
       "Theft Over         0.032985\n",
       "Name: MCI_CATEGORY, dtype: float64"
      ]
     },
     "execution_count": 11,
     "metadata": {},
     "output_type": "execute_result"
    }
   ],
   "source": [
    "# Review class frequencies in the data\n",
    "df.MCI_CATEGORY.value_counts() / df.MCI_CATEGORY.value_counts().sum()"
   ]
  },
  {
   "attachments": {},
   "cell_type": "markdown",
   "metadata": {},
   "source": [
    "Note that performance is poor for most crime types, except for assault and auto-theft. At the same time, the dataset is unbalanced towards assaults (though not severely). Thus, we can try running a Weighted Random Forest (by weighting the impurity calculations for the constituent decision trees toward the minority classes, we can penalize missclassifications on the minority classes more)."
   ]
  },
  {
   "cell_type": "code",
   "execution_count": 12,
   "metadata": {},
   "outputs": [],
   "source": [
    "# Fit model (weighted based on dataset frequency)\n",
    "rf_weighted = RandomForestClassifier(class_weight='balanced')\n",
    "rf_weighted.fit(X_train1, y_train1)\n",
    "\n",
    "# Get predictions\n",
    "y_pred1_weighted = rf_weighted.predict(X_test1)"
   ]
  },
  {
   "cell_type": "code",
   "execution_count": 20,
   "metadata": {},
   "outputs": [
    {
     "data": {
      "text/html": [
       "<div>\n",
       "<style scoped>\n",
       "    .dataframe tbody tr th:only-of-type {\n",
       "        vertical-align: middle;\n",
       "    }\n",
       "\n",
       "    .dataframe tbody tr th {\n",
       "        vertical-align: top;\n",
       "    }\n",
       "\n",
       "    .dataframe thead th {\n",
       "        text-align: right;\n",
       "    }\n",
       "</style>\n",
       "<table border=\"1\" class=\"dataframe\">\n",
       "  <thead>\n",
       "    <tr style=\"text-align: right;\">\n",
       "      <th></th>\n",
       "      <th>Assault</th>\n",
       "      <th>Auto Theft</th>\n",
       "      <th>Break and Enter</th>\n",
       "      <th>Robbery</th>\n",
       "      <th>Theft Over</th>\n",
       "    </tr>\n",
       "  </thead>\n",
       "  <tbody>\n",
       "    <tr>\n",
       "      <th>f1</th>\n",
       "      <td>0.770828</td>\n",
       "      <td>0.617157</td>\n",
       "      <td>0.560717</td>\n",
       "      <td>0.500601</td>\n",
       "      <td>0.063543</td>\n",
       "    </tr>\n",
       "    <tr>\n",
       "      <th>precision</th>\n",
       "      <td>0.701074</td>\n",
       "      <td>0.646716</td>\n",
       "      <td>0.635352</td>\n",
       "      <td>0.653705</td>\n",
       "      <td>0.219331</td>\n",
       "    </tr>\n",
       "    <tr>\n",
       "      <th>recall</th>\n",
       "      <td>0.855996</td>\n",
       "      <td>0.590182</td>\n",
       "      <td>0.501773</td>\n",
       "      <td>0.405604</td>\n",
       "      <td>0.037154</td>\n",
       "    </tr>\n",
       "  </tbody>\n",
       "</table>\n",
       "</div>"
      ],
      "text/plain": [
       "            Assault Auto Theft Break and Enter   Robbery Theft Over\n",
       "f1         0.770828   0.617157        0.560717  0.500601   0.063543\n",
       "precision  0.701074   0.646716        0.635352  0.653705   0.219331\n",
       "recall     0.855996   0.590182        0.501773  0.405604   0.037154"
      ]
     },
     "execution_count": 20,
     "metadata": {},
     "output_type": "execute_result"
    }
   ],
   "source": [
    "# Evaluate performance\n",
    "multi_performance(y_true=y_test1, y_pred=y_pred1_weighted, classes=classes)[0]"
   ]
  },
  {
   "cell_type": "code",
   "execution_count": 24,
   "metadata": {},
   "outputs": [
    {
     "data": {
      "text/plain": [
       "0.6782596087123135"
      ]
     },
     "execution_count": 24,
     "metadata": {},
     "output_type": "execute_result"
    }
   ],
   "source": [
    "multi_performance(y_true=y_test1, y_pred=y_pred1_weighted, classes=classes)[1]"
   ]
  },
  {
   "cell_type": "code",
   "execution_count": 19,
   "metadata": {},
   "outputs": [],
   "source": [
    "# Fit model (weighted based on bootstrap frequency)\n",
    "rf_weighted2 = RandomForestClassifier(class_weight='balanced_subsample')\n",
    "rf_weighted2.fit(X_train1, y_train1)\n",
    "\n",
    "# Get predictions\n",
    "y_pred1_weighted2 = rf_weighted2.predict(X_test1)"
   ]
  },
  {
   "cell_type": "code",
   "execution_count": 22,
   "metadata": {},
   "outputs": [
    {
     "data": {
      "text/html": [
       "<div>\n",
       "<style scoped>\n",
       "    .dataframe tbody tr th:only-of-type {\n",
       "        vertical-align: middle;\n",
       "    }\n",
       "\n",
       "    .dataframe tbody tr th {\n",
       "        vertical-align: top;\n",
       "    }\n",
       "\n",
       "    .dataframe thead th {\n",
       "        text-align: right;\n",
       "    }\n",
       "</style>\n",
       "<table border=\"1\" class=\"dataframe\">\n",
       "  <thead>\n",
       "    <tr style=\"text-align: right;\">\n",
       "      <th></th>\n",
       "      <th>Assault</th>\n",
       "      <th>Auto Theft</th>\n",
       "      <th>Break and Enter</th>\n",
       "      <th>Robbery</th>\n",
       "      <th>Theft Over</th>\n",
       "    </tr>\n",
       "  </thead>\n",
       "  <tbody>\n",
       "    <tr>\n",
       "      <th>f1</th>\n",
       "      <td>0.771276</td>\n",
       "      <td>0.620215</td>\n",
       "      <td>0.559851</td>\n",
       "      <td>0.5044</td>\n",
       "      <td>0.059685</td>\n",
       "    </tr>\n",
       "    <tr>\n",
       "      <th>precision</th>\n",
       "      <td>0.70179</td>\n",
       "      <td>0.647164</td>\n",
       "      <td>0.635252</td>\n",
       "      <td>0.657113</td>\n",
       "      <td>0.215686</td>\n",
       "    </tr>\n",
       "    <tr>\n",
       "      <th>recall</th>\n",
       "      <td>0.856035</td>\n",
       "      <td>0.595421</td>\n",
       "      <td>0.50045</td>\n",
       "      <td>0.409283</td>\n",
       "      <td>0.034635</td>\n",
       "    </tr>\n",
       "  </tbody>\n",
       "</table>\n",
       "</div>"
      ],
      "text/plain": [
       "            Assault Auto Theft Break and Enter   Robbery Theft Over\n",
       "f1         0.771276   0.620215        0.559851    0.5044   0.059685\n",
       "precision   0.70179   0.647164        0.635252  0.657113   0.215686\n",
       "recall     0.856035   0.595421         0.50045  0.409283   0.034635"
      ]
     },
     "execution_count": 22,
     "metadata": {},
     "output_type": "execute_result"
    }
   ],
   "source": [
    "# Evaluate performance\n",
    "multi_performance(y_true=y_test1, y_pred=y_pred1_weighted2, classes=classes)[0]"
   ]
  },
  {
   "cell_type": "code",
   "execution_count": 23,
   "metadata": {},
   "outputs": [
    {
     "data": {
      "text/plain": [
       "0.6790467411680632"
      ]
     },
     "execution_count": 23,
     "metadata": {},
     "output_type": "execute_result"
    }
   ],
   "source": [
    "multi_performance(y_true=y_test1, y_pred=y_pred1_weighted2, classes=classes)[1]"
   ]
  },
  {
   "attachments": {},
   "cell_type": "markdown",
   "metadata": {},
   "source": [
    "Unfortunately, the Weighted Random Forest did not imporve the situation much."
   ]
  },
  {
   "attachments": {},
   "cell_type": "markdown",
   "metadata": {},
   "source": [
    "We can also try fitting a random forest using the ordinal encoded data."
   ]
  },
  {
   "cell_type": "code",
   "execution_count": 14,
   "metadata": {},
   "outputs": [],
   "source": [
    "# Train-test split\n",
    "X_train2, X_test2, y_train2, y_test2 = train_test_split(X_ordinal, y, test_size=0.3, random_state=1)\n",
    "\n",
    "# Fit model\n",
    "rf2 = RandomForestClassifier()\n",
    "rf2.fit(X_train2, y_train2)\n",
    "\n",
    "# Get predictions\n",
    "y_pred2 = rf2.predict(X_test2)"
   ]
  },
  {
   "cell_type": "code",
   "execution_count": 15,
   "metadata": {},
   "outputs": [
    {
     "data": {
      "text/html": [
       "<div>\n",
       "<style scoped>\n",
       "    .dataframe tbody tr th:only-of-type {\n",
       "        vertical-align: middle;\n",
       "    }\n",
       "\n",
       "    .dataframe tbody tr th {\n",
       "        vertical-align: top;\n",
       "    }\n",
       "\n",
       "    .dataframe thead th {\n",
       "        text-align: right;\n",
       "    }\n",
       "</style>\n",
       "<table border=\"1\" class=\"dataframe\">\n",
       "  <thead>\n",
       "    <tr style=\"text-align: right;\">\n",
       "      <th></th>\n",
       "      <th>Assault</th>\n",
       "      <th>Auto Theft</th>\n",
       "      <th>Break and Enter</th>\n",
       "      <th>Robbery</th>\n",
       "      <th>Theft Over</th>\n",
       "    </tr>\n",
       "  </thead>\n",
       "  <tbody>\n",
       "    <tr>\n",
       "      <th>f1</th>\n",
       "      <td>0.766086</td>\n",
       "      <td>0.601076</td>\n",
       "      <td>0.54144</td>\n",
       "      <td>0.455944</td>\n",
       "      <td>0.056996</td>\n",
       "    </tr>\n",
       "    <tr>\n",
       "      <th>precision</th>\n",
       "      <td>0.686623</td>\n",
       "      <td>0.640148</td>\n",
       "      <td>0.632557</td>\n",
       "      <td>0.676621</td>\n",
       "      <td>0.239234</td>\n",
       "    </tr>\n",
       "    <tr>\n",
       "      <th>recall</th>\n",
       "      <td>0.866348</td>\n",
       "      <td>0.566499</td>\n",
       "      <td>0.473268</td>\n",
       "      <td>0.343811</td>\n",
       "      <td>0.032352</td>\n",
       "    </tr>\n",
       "  </tbody>\n",
       "</table>\n",
       "</div>"
      ],
      "text/plain": [
       "            Assault Auto Theft Break and Enter   Robbery Theft Over\n",
       "f1         0.766086   0.601076         0.54144  0.455944   0.056996\n",
       "precision  0.686623   0.640148        0.632557  0.676621   0.239234\n",
       "recall     0.866348   0.566499        0.473268  0.343811   0.032352"
      ]
     },
     "execution_count": 15,
     "metadata": {},
     "output_type": "execute_result"
    }
   ],
   "source": [
    "# Evaluate performance\n",
    "multi_performance(y_true=y_test2, y_pred=y_pred2, classes=classes)[0]"
   ]
  },
  {
   "cell_type": "code",
   "execution_count": 16,
   "metadata": {},
   "outputs": [
    {
     "data": {
      "text/plain": [
       "0.6704711402027902"
      ]
     },
     "execution_count": 16,
     "metadata": {},
     "output_type": "execute_result"
    }
   ],
   "source": [
    "# Overall accuracy\n",
    "multi_performance(y_true=y_test2, y_pred=y_pred2, classes=classes)[1]"
   ]
  },
  {
   "attachments": {},
   "cell_type": "markdown",
   "metadata": {},
   "source": [
    "The performance did not improve much from before but we can still look at the feature importances to gain insight."
   ]
  },
  {
   "cell_type": "code",
   "execution_count": 17,
   "metadata": {},
   "outputs": [
    {
     "data": {
      "image/png": "[encoded data removed]",
      "text/plain": [
       "<Figure size 700x600 with 1 Axes>"
      ]
     },
     "metadata": {},
     "output_type": "display_data"
    }
   ],
   "source": [
    "# Get importance scores from the RF model and sort them\n",
    "importances = rf2.feature_importances_\n",
    "feature_names = X_train2.columns\n",
    "indices = np.argsort(importances)\n",
    "sorted_feature_names = [feature_names[i] for i in indices]\n",
    "sorted_importances = importances[indices]\n",
    "\n",
    "# Plot results\n",
    "plt.figure(figsize=(7, 6))\n",
    "plt.barh(range(len(sorted_importances)), sorted_importances, align='center')\n",
    "plt.yticks(range(len(sorted_importances)), sorted_feature_names)\n",
    "plt.xlabel('Importance Score')\n",
    "plt.ylabel('Features')\n",
    "plt.title('Feature Importance from Random Forest')\n",
    "plt.tight_layout()\n",
    "plt.show()"
   ]
  },
  {
   "attachments": {},
   "cell_type": "markdown",
   "metadata": {},
   "source": [
    "This seems to suggest that the location type, the GPS coordinates, and the interaction between time of day and location are important variables."
   ]
  },
  {
   "attachments": {},
   "cell_type": "markdown",
   "metadata": {},
   "source": [
    "### Gradient Boosted Trees (xgboost)\n",
    "We try a different algorithm to deal with the low performance on the minority classes. Gradient boosting may be a good algorithm to consider because of its sequential nature, where each subsequent model focuses more on the previous model's missclassifications. This is usually a good way to reduce bias, and in our case, it may help with the low performance on the minority classes. Here, I implement gradient boosted trees using the xgboost package."
   ]
  },
  {
   "cell_type": "code",
   "execution_count": 24,
   "metadata": {},
   "outputs": [],
   "source": [
    "# Convert data into DMatrix type\n",
    "dtrain1 = xgb.DMatrix(X_train1, label=y_train1)"
   ]
  },
  {
   "cell_type": "code",
   "execution_count": 27,
   "metadata": {},
   "outputs": [],
   "source": [
    "# Set up model parameters\n",
    "params = {\n",
    "    'objective': 'multi:softmax',  # Multiclass classification objective\n",
    "    'eta': 0.1,                    # Learning rate\n",
    "    'num_class': 5,                # Number of target classes\n",
    "    'max_depth': 5,                # Maximum depth of trees\n",
    "    'subsample': 0.8,              # Subsample ratio for each tree\n",
    "    'colsample_bytree': 0.8,       # Feature subsampling ratio for each tree\n",
    "}"
   ]
  },
  {
   "cell_type": "code",
   "execution_count": 31,
   "metadata": {},
   "outputs": [],
   "source": [
    "# Train model\n",
    "num_boost_round = 1000  # Number of boosting rounds (iterations)\n",
    "model = xgb.train(params, dtrain1, num_boost_round)"
   ]
  },
  {
   "cell_type": "code",
   "execution_count": 32,
   "metadata": {},
   "outputs": [],
   "source": [
    "# Get predicted values\n",
    "dtest1 = xgb.DMatrix(X_test1)\n",
    "y_pred1 = model.predict(dtest1)"
   ]
  },
  {
   "cell_type": "code",
   "execution_count": 33,
   "metadata": {},
   "outputs": [
    {
     "data": {
      "text/plain": [
       "(            Assault Auto Theft Break and Enter   Robbery Theft Over\n",
       " f1         0.760005   0.578162        0.545367   0.25717   0.039988\n",
       " precision  0.672116   0.601723        0.630847   0.63049   0.382857\n",
       " recall     0.874337   0.556377        0.480288  0.161528   0.021096,\n",
       " 0.6550288442617008)"
      ]
     },
     "execution_count": 33,
     "metadata": {},
     "output_type": "execute_result"
    }
   ],
   "source": [
    "multi_performance(y_true=y_test1, y_pred=y_pred1, classes=classes)"
   ]
  }
 ],
 "metadata": {
  "kernelspec": {
   "display_name": "Python 3",
   "language": "python",
   "name": "python3"
  },
  "language_info": {
   "codemirror_mode": {
    "name": "ipython",
    "version": 3
   },
   "file_extension": ".py",
   "mimetype": "text/x-python",
   "name": "python",
   "nbconvert_exporter": "python",
   "pygments_lexer": "ipython3",
   "version": "3.10.5"
  },
  "orig_nbformat": 4
 },
 "nbformat": 4,
 "nbformat_minor": 2
}
