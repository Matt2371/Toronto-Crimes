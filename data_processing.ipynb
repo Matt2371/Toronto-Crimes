{
 "cells": [
  {
   "cell_type": "code",
   "execution_count": 3,
   "metadata": {},
   "outputs": [],
   "source": [
    "import pandas as pd\n",
    "import matplotlib.pyplot as plt\n",
    "import numpy as np\n",
    "import re\n",
    "import holidays\n",
    "from sklearn.preprocessing import LabelEncoder\n",
    "from kmodes.kprototypes import KPrototypes"
   ]
  },
  {
   "attachments": {},
   "cell_type": "markdown",
   "metadata": {},
   "source": [
    "### Select reasonable date range"
   ]
  },
  {
   "cell_type": "code",
   "execution_count": 4,
   "metadata": {},
   "outputs": [],
   "source": [
    "# Read in raw data\n",
    "df = pd.read_csv('data/Major_Crime_Indicators_Open_Data.csv', parse_dates=['OCC_DATE'])"
   ]
  },
  {
   "cell_type": "code",
   "execution_count": 5,
   "metadata": {},
   "outputs": [
    {
     "data": {
      "text/plain": [
       "(Timestamp('1966-06-09 04:00:00+0000', tz='UTC'),\n",
       " Timestamp('2022-12-31 05:00:00+0000', tz='UTC'))"
      ]
     },
     "execution_count": 5,
     "metadata": {},
     "output_type": "execute_result"
    }
   ],
   "source": [
    "# Find min and max occurence dates\n",
    "df.OCC_DATE.min(), df.OCC_DATE.max()"
   ]
  },
  {
   "cell_type": "code",
   "execution_count": 6,
   "metadata": {},
   "outputs": [
    {
     "data": {
      "text/plain": [
       "('2014/01/01 05:00:00+00', '2022/12/31 05:00:00+00')"
      ]
     },
     "execution_count": 6,
     "metadata": {},
     "output_type": "execute_result"
    }
   ],
   "source": [
    "# Find min and max report dates\n",
    "df.REPORT_DATE.min(), df.REPORT_DATE.max()"
   ]
  },
  {
   "attachments": {},
   "cell_type": "markdown",
   "metadata": {},
   "source": [
    "We select crime occurences after the year 2014 (corresponding to the earliest report date in the dataset). In this analysis, we focus on occurence date and not report date, since it does not make sense for a user to know when a hypothetical future crime will be reported, but the day, month, and time of a crime occurring may be important predictors."
   ]
  },
  {
   "cell_type": "code",
   "execution_count": 7,
   "metadata": {},
   "outputs": [],
   "source": [
    "df = df[df['OCC_DATE'] >= '2014/01/01']"
   ]
  },
  {
   "cell_type": "code",
   "execution_count": 8,
   "metadata": {},
   "outputs": [
    {
     "data": {
      "text/plain": [
       "(Timestamp('2014-01-01 05:00:00+0000', tz='UTC'),\n",
       " Timestamp('2022-12-31 05:00:00+0000', tz='UTC'))"
      ]
     },
     "execution_count": 8,
     "metadata": {},
     "output_type": "execute_result"
    }
   ],
   "source": [
    "# check work\n",
    "df.OCC_DATE.min(), df.OCC_DATE.max()"
   ]
  },
  {
   "attachments": {},
   "cell_type": "markdown",
   "metadata": {},
   "source": [
    "### Select columns of interest\n",
    "We select columns relating to the location and time reported crimes have occured. Redundant variables are dropped. The goal is to use these predictors to predict crime type (MCI_CATEGORY)"
   ]
  },
  {
   "cell_type": "code",
   "execution_count": 9,
   "metadata": {},
   "outputs": [],
   "source": [
    "df = df[['OBJECTID', 'OCC_DATE', 'OCC_HOUR', 'LOCATION_TYPE', 'NEIGHBOURHOOD_158', 'LONG_WGS84', 'LAT_WGS84', 'MCI_CATEGORY']].copy()"
   ]
  },
  {
   "attachments": {},
   "cell_type": "markdown",
   "metadata": {},
   "source": [
    "### Missing values\n",
    "The data does not appear to have missing values."
   ]
  },
  {
   "cell_type": "code",
   "execution_count": 10,
   "metadata": {},
   "outputs": [
    {
     "data": {
      "text/plain": [
       "OBJECTID             0\n",
       "OCC_DATE             0\n",
       "OCC_HOUR             0\n",
       "LOCATION_TYPE        0\n",
       "NEIGHBOURHOOD_158    0\n",
       "LONG_WGS84           0\n",
       "LAT_WGS84            0\n",
       "MCI_CATEGORY         0\n",
       "dtype: int64"
      ]
     },
     "execution_count": 10,
     "metadata": {},
     "output_type": "execute_result"
    }
   ],
   "source": [
    "df.isna().sum(axis=0)"
   ]
  },
  {
   "attachments": {},
   "cell_type": "markdown",
   "metadata": {},
   "source": [
    "### Process names of location type\n",
    "Delete the parenthesis and everything inside using regex"
   ]
  },
  {
   "cell_type": "code",
   "execution_count": 11,
   "metadata": {},
   "outputs": [],
   "source": [
    "df.loc[:, 'LOCATION_TYPE'] = df.LOCATION_TYPE.str.replace('\\s*\\(.+', '', regex=True)"
   ]
  },
  {
   "cell_type": "code",
   "execution_count": 12,
   "metadata": {},
   "outputs": [
    {
     "data": {
      "text/plain": [
       "array(['Commercial Dwelling Unit', 'Apartment',\n",
       "       'Streets, Roads, Highways', 'Bar / Restaurant',\n",
       "       'Other Commercial / Corporate Places', 'Go Train',\n",
       "       'Single Home, House',\n",
       "       'Hospital / Institutions / Medical Facilities', 'Retirement Home',\n",
       "       'Gas Station', 'Open Areas', 'Parking Lots', 'Ttc Subway Station',\n",
       "       'Other Non Commercial / Corporate Places', 'Unknown',\n",
       "       'Bank And Other Financial Institutions', 'Convenience Stores',\n",
       "       'Jails / Detention Centres', 'Group Homes',\n",
       "       'Private Property Structure', 'Homeless Shelter / Mission',\n",
       "       'Ttc Street Car', 'Ttc Subway Train',\n",
       "       'Schools During Un-Supervised Activity', 'Construction Site',\n",
       "       'Police / Courts', 'Ttc Bus', 'Schools During Supervised Activity',\n",
       "       'Religious Facilities', 'Universities / Colleges', 'Dealership',\n",
       "       'Ttc Bus Stop / Shelter / Loop', 'Go Station',\n",
       "       'Other Passenger Train', 'Other Regional Transit System Vehicle',\n",
       "       'Other Passenger Train Station', 'Other Train Tracks',\n",
       "       'Ttc Subway Tunnel / Outdoor Tracks',\n",
       "       'Other Train Admin Or Support Facility', 'Go Bus',\n",
       "       'Ttc Admin Or Support Facility', 'Ttc Light Rail Vehicle',\n",
       "       'Cargo Train', 'Ttc Bus Garage', 'Ttc Light Rail Transit Station',\n",
       "       'Other Train Yard', 'Ttc Wheel Trans Vehicle', 'Pharmacy',\n",
       "       'Nursing Home', 'Community Group Home', 'Halfway House',\n",
       "       'Ttc Support Vehicle'], dtype=object)"
      ]
     },
     "execution_count": 12,
     "metadata": {},
     "output_type": "execute_result"
    }
   ],
   "source": [
    "df.LOCATION_TYPE.unique()"
   ]
  },
  {
   "attachments": {},
   "cell_type": "markdown",
   "metadata": {},
   "source": [
    "We notice that many of the public transit categories are similar and can be binned together to reduce the cardinality of the location variable"
   ]
  },
  {
   "cell_type": "code",
   "execution_count": 13,
   "metadata": {},
   "outputs": [],
   "source": [
    "def group_transit(string):\n",
    "    '''For a given string, if it belongs in the public transit category, return 'Public Transit'''\n",
    "    \n",
    "    public_transit_elements = ['Ttc Bus', 'Ttc Subway Train', 'Ttc Subway Tunnel / Outdoor Tracks', \n",
    "                               'Ttc Street Car', 'Ttc Support Vehicle', 'Ttc Bus Garage', \n",
    "                               'Ttc Light Rail Vehicle', 'Ttc Light Rail Transit Station', \n",
    "                               'Ttc Wheel Trans Vehicle', 'Ttc Bus Stop / Shelter / Loop', \n",
    "                               'Go Train', 'Go Station', 'Go Bus', 'Other Passenger Train', \n",
    "                               'Other Regional Transit System Vehicle', 'Other Passenger Train Station', \n",
    "                               'Other Train Tracks', 'Other Train Admin Or Support Facility', \n",
    "                               'Cargo Train', 'Other Train Yard']\n",
    "    \n",
    "    if string in public_transit_elements:\n",
    "        return 'Public Transit'\n",
    "    else:\n",
    "        return string"
   ]
  },
  {
   "cell_type": "code",
   "execution_count": 14,
   "metadata": {},
   "outputs": [],
   "source": [
    "# Use pandas function map to apply group_transit() to every element in LOCATION_TYPE\n",
    "df.loc[:, 'LOCATION_TYPE'] = df.LOCATION_TYPE.map(group_transit)"
   ]
  },
  {
   "cell_type": "code",
   "execution_count": 15,
   "metadata": {},
   "outputs": [
    {
     "data": {
      "text/plain": [
       "33"
      ]
     },
     "execution_count": 15,
     "metadata": {},
     "output_type": "execute_result"
    }
   ],
   "source": [
    "# We obtain 33 different location types\n",
    "len(df.LOCATION_TYPE.unique())"
   ]
  },
  {
   "cell_type": "code",
   "execution_count": 16,
   "metadata": {},
   "outputs": [
    {
     "data": {
      "text/plain": [
       "array(['Commercial Dwelling Unit', 'Apartment',\n",
       "       'Streets, Roads, Highways', 'Bar / Restaurant',\n",
       "       'Other Commercial / Corporate Places', 'Public Transit',\n",
       "       'Single Home, House',\n",
       "       'Hospital / Institutions / Medical Facilities', 'Retirement Home',\n",
       "       'Gas Station', 'Open Areas', 'Parking Lots', 'Ttc Subway Station',\n",
       "       'Other Non Commercial / Corporate Places', 'Unknown',\n",
       "       'Bank And Other Financial Institutions', 'Convenience Stores',\n",
       "       'Jails / Detention Centres', 'Group Homes',\n",
       "       'Private Property Structure', 'Homeless Shelter / Mission',\n",
       "       'Schools During Un-Supervised Activity', 'Construction Site',\n",
       "       'Police / Courts', 'Schools During Supervised Activity',\n",
       "       'Religious Facilities', 'Universities / Colleges', 'Dealership',\n",
       "       'Ttc Admin Or Support Facility', 'Pharmacy', 'Nursing Home',\n",
       "       'Community Group Home', 'Halfway House'], dtype=object)"
      ]
     },
     "execution_count": 16,
     "metadata": {},
     "output_type": "execute_result"
    }
   ],
   "source": [
    "df.LOCATION_TYPE.unique()"
   ]
  },
  {
   "attachments": {},
   "cell_type": "markdown",
   "metadata": {},
   "source": [
    "### Extract day of the week from occurence datetimes"
   ]
  },
  {
   "attachments": {},
   "cell_type": "markdown",
   "metadata": {},
   "source": [
    "Here, Monday is 0 and Sunday is 6"
   ]
  },
  {
   "cell_type": "code",
   "execution_count": 17,
   "metadata": {},
   "outputs": [],
   "source": [
    "df['dayofweek'] = df.OCC_DATE.dt.dayofweek"
   ]
  },
  {
   "attachments": {},
   "cell_type": "markdown",
   "metadata": {},
   "source": [
    "### Trigonometric encoding for day of the week and occurence hour\n",
    "These time based variables have a natural cyclic structure so we can use a trigonometric transformation to reflect this (instead of having a discontinuity at midnight, for example). We explore both the sine and cosine component."
   ]
  },
  {
   "cell_type": "code",
   "execution_count": 18,
   "metadata": {},
   "outputs": [],
   "source": [
    "# trig encode day of the week\n",
    "df['dayofweek_sin'] = np.sin(2 * np.pi * df.dayofweek / 7)\n",
    "df['dayofweek_cos'] = np.cos(2 * np.pi * df.dayofweek / 7)\n",
    "\n",
    "# trig encode occurence hour\n",
    "df['hour_sin'] = np.sin(2 * np.pi * df.OCC_HOUR / 24)\n",
    "df['hour_cos'] = np.cos(2 * np.pi * df.OCC_HOUR / 24)"
   ]
  },
  {
   "attachments": {},
   "cell_type": "markdown",
   "metadata": {},
   "source": [
    "### Add Canadian Holiday variable\n",
    "We suspect that Holidays could affect the frequency and type of crime"
   ]
  },
  {
   "cell_type": "code",
   "execution_count": 19,
   "metadata": {},
   "outputs": [],
   "source": [
    "# Set of Canadian Holidays\n",
    "ca_holidays = holidays.Canada()\n",
    "\n",
    "# Check if Occurence date is on a Candian Holiday\n",
    "df['isholiday'] = df.OCC_DATE.map(lambda x: x.date() in ca_holidays)"
   ]
  },
  {
   "attachments": {},
   "cell_type": "markdown",
   "metadata": {},
   "source": [
    "### Add feature to capture the interaction between time and location\n",
    "Here, we add new features that capture the interaction effects between time (cos and sin transformed hour) and location (lat and long coordinates)."
   ]
  },
  {
   "cell_type": "code",
   "execution_count": 20,
   "metadata": {},
   "outputs": [],
   "source": [
    "df['lat_hour_cos'] = df['LAT_WGS84'] * df['hour_cos']\n",
    "df['lat_hour_sin'] = df['LAT_WGS84'] * df['hour_sin']\n",
    "df['long_hour_cos'] = df['LONG_WGS84'] * df['hour_cos']\n",
    "df['long_hour_sin'] = df['LONG_WGS84'] * df['hour_sin']"
   ]
  },
  {
   "attachments": {},
   "cell_type": "markdown",
   "metadata": {},
   "source": [
    "### Clustering using k-prototypes\n",
    "Add a feature based on k-prototypes clustering which is suitable for a mix of numeric (i.e. GPS coordinates) and categorical (i.e. neighborhoods). This data driven feature can provide insight on the structure of the data, and on a high level, provide a low-cardinality way of representing the interaction between time and location. For example, directly multiplying the binary variables for hour (24) and neighborhood (158) for example, results in 3792 new dummy variables with questionable interpretability. Instead, we can simply cluster similar times and similar locations together.\n"
   ]
  },
  {
   "attachments": {},
   "cell_type": "markdown",
   "metadata": {},
   "source": [
    "### Export clean data"
   ]
  },
  {
   "cell_type": "code",
   "execution_count": 21,
   "metadata": {},
   "outputs": [],
   "source": [
    "df.to_csv('data/clean_data.csv', index=False)"
   ]
  }
 ],
 "metadata": {
  "kernelspec": {
   "display_name": "Python 3",
   "language": "python",
   "name": "python3"
  },
  "language_info": {
   "codemirror_mode": {
    "name": "ipython",
    "version": 3
   },
   "file_extension": ".py",
   "mimetype": "text/x-python",
   "name": "python",
   "nbconvert_exporter": "python",
   "pygments_lexer": "ipython3",
   "version": "3.10.5"
  },
  "orig_nbformat": 4
 },
 "nbformat": 4,
 "nbformat_minor": 2
}
