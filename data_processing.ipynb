{
 "cells": [
  {
   "cell_type": "code",
   "execution_count": 1,
   "metadata": {},
   "outputs": [],
   "source": [
    "import pandas as pd\n",
    "import matplotlib.pyplot as plt\n",
    "import numpy as np\n",
    "import re\n",
    "import holidays"
   ]
  },
  {
   "attachments": {},
   "cell_type": "markdown",
   "metadata": {},
   "source": [
    "### Select reasonable date range"
   ]
  },
  {
   "cell_type": "code",
   "execution_count": 2,
   "metadata": {},
   "outputs": [],
   "source": [
    "# Read in raw data\n",
    "df = pd.read_csv('data/Major_Crime_Indicators_Open_Data.csv', parse_dates=['OCC_DATE'])"
   ]
  },
  {
   "cell_type": "code",
   "execution_count": 3,
   "metadata": {},
   "outputs": [
    {
     "data": {
      "text/plain": [
       "(Timestamp('1966-06-09 04:00:00+0000', tz='UTC'),\n",
       " Timestamp('2022-12-31 05:00:00+0000', tz='UTC'))"
      ]
     },
     "execution_count": 3,
     "metadata": {},
     "output_type": "execute_result"
    }
   ],
   "source": [
    "# Find min and max occurence dates\n",
    "df.OCC_DATE.min(), df.OCC_DATE.max()"
   ]
  },
  {
   "cell_type": "code",
   "execution_count": 4,
   "metadata": {},
   "outputs": [
    {
     "data": {
      "text/plain": [
       "('2014/01/01 05:00:00+00', '2022/12/31 05:00:00+00')"
      ]
     },
     "execution_count": 4,
     "metadata": {},
     "output_type": "execute_result"
    }
   ],
   "source": [
    "# Find min and max report dates\n",
    "df.REPORT_DATE.min(), df.REPORT_DATE.max()"
   ]
  },
  {
   "attachments": {},
   "cell_type": "markdown",
   "metadata": {},
   "source": [
    "We select crime occurences after the year 2014 (corresponding to the earliest report date in the dataset). In this analysis, we focus on occurence date and not report date, since it does not make sense for a user to know when a hypothetical future crime will be reported, but the day, month, and time of a crime occurring may be important predictors."
   ]
  },
  {
   "cell_type": "code",
   "execution_count": 5,
   "metadata": {},
   "outputs": [],
   "source": [
    "df = df[df['OCC_DATE'] >= '2014/01/01']"
   ]
  },
  {
   "cell_type": "code",
   "execution_count": 6,
   "metadata": {},
   "outputs": [
    {
     "data": {
      "text/plain": [
       "(Timestamp('2014-01-01 05:00:00+0000', tz='UTC'),\n",
       " Timestamp('2022-12-31 05:00:00+0000', tz='UTC'))"
      ]
     },
     "execution_count": 6,
     "metadata": {},
     "output_type": "execute_result"
    }
   ],
   "source": [
    "# check work\n",
    "df.OCC_DATE.min(), df.OCC_DATE.max()"
   ]
  },
  {
   "attachments": {},
   "cell_type": "markdown",
   "metadata": {},
   "source": [
    "### Select columns of interest\n",
    "We select columns relating to the location and time reported crimes have occured. Redundant variables are dropped. The goal is to use these predictors to predict crime type (MCI_CATEGORY)"
   ]
  },
  {
   "cell_type": "code",
   "execution_count": 7,
   "metadata": {},
   "outputs": [],
   "source": [
    "df = df[['OBJECTID', 'OCC_DATE', 'OCC_HOUR', 'LOCATION_TYPE', 'HOOD_158', 'NEIGHBOURHOOD_158', 'LONG_WGS84', 'LAT_WGS84', 'MCI_CATEGORY']].copy()"
   ]
  },
  {
   "attachments": {},
   "cell_type": "markdown",
   "metadata": {},
   "source": [
    "### Missing values\n",
    "The data does not appear to have missing values."
   ]
  },
  {
   "cell_type": "code",
   "execution_count": 8,
   "metadata": {},
   "outputs": [
    {
     "data": {
      "text/plain": [
       "OBJECTID             0\n",
       "OCC_DATE             0\n",
       "OCC_HOUR             0\n",
       "LOCATION_TYPE        0\n",
       "HOOD_158             0\n",
       "NEIGHBOURHOOD_158    0\n",
       "LONG_WGS84           0\n",
       "LAT_WGS84            0\n",
       "MCI_CATEGORY         0\n",
       "dtype: int64"
      ]
     },
     "execution_count": 8,
     "metadata": {},
     "output_type": "execute_result"
    }
   ],
   "source": [
    "df.isna().sum(axis=0)"
   ]
  },
  {
   "attachments": {},
   "cell_type": "markdown",
   "metadata": {},
   "source": [
    "### Process names of location type\n",
    "Delete the parenthesis and everything inside using regex"
   ]
  },
  {
   "cell_type": "code",
   "execution_count": 9,
   "metadata": {},
   "outputs": [],
   "source": [
    "df.loc[:, 'LOCATION_TYPE'] = df.LOCATION_TYPE.str.replace('\\s*\\(.+', '', regex=True)"
   ]
  },
  {
   "cell_type": "code",
   "execution_count": 10,
   "metadata": {},
   "outputs": [
    {
     "data": {
      "text/plain": [
       "array(['Commercial Dwelling Unit', 'Apartment',\n",
       "       'Streets, Roads, Highways', 'Bar / Restaurant',\n",
       "       'Other Commercial / Corporate Places', 'Go Train',\n",
       "       'Single Home, House',\n",
       "       'Hospital / Institutions / Medical Facilities', 'Retirement Home',\n",
       "       'Gas Station', 'Open Areas', 'Parking Lots', 'Ttc Subway Station',\n",
       "       'Other Non Commercial / Corporate Places', 'Unknown',\n",
       "       'Bank And Other Financial Institutions', 'Convenience Stores',\n",
       "       'Jails / Detention Centres', 'Group Homes',\n",
       "       'Private Property Structure', 'Homeless Shelter / Mission',\n",
       "       'Ttc Street Car', 'Ttc Subway Train',\n",
       "       'Schools During Un-Supervised Activity', 'Construction Site',\n",
       "       'Police / Courts', 'Ttc Bus', 'Schools During Supervised Activity',\n",
       "       'Religious Facilities', 'Universities / Colleges', 'Dealership',\n",
       "       'Ttc Bus Stop / Shelter / Loop', 'Go Station',\n",
       "       'Other Passenger Train', 'Other Regional Transit System Vehicle',\n",
       "       'Other Passenger Train Station', 'Other Train Tracks',\n",
       "       'Ttc Subway Tunnel / Outdoor Tracks',\n",
       "       'Other Train Admin Or Support Facility', 'Go Bus',\n",
       "       'Ttc Admin Or Support Facility', 'Ttc Light Rail Vehicle',\n",
       "       'Cargo Train', 'Ttc Bus Garage', 'Ttc Light Rail Transit Station',\n",
       "       'Other Train Yard', 'Ttc Wheel Trans Vehicle', 'Pharmacy',\n",
       "       'Nursing Home', 'Community Group Home', 'Halfway House',\n",
       "       'Ttc Support Vehicle'], dtype=object)"
      ]
     },
     "execution_count": 10,
     "metadata": {},
     "output_type": "execute_result"
    }
   ],
   "source": [
    "df.LOCATION_TYPE.unique()"
   ]
  },
  {
   "attachments": {},
   "cell_type": "markdown",
   "metadata": {},
   "source": [
    "We notice that many of the public transit categories are similar and can be binned together to reduce the cardinality of the location variable"
   ]
  },
  {
   "cell_type": "code",
   "execution_count": 11,
   "metadata": {},
   "outputs": [],
   "source": [
    "def group_transit(string):\n",
    "    '''For a given string, if it belongs in the public transit category, return 'Public Transit'''\n",
    "    \n",
    "    public_transit_elements = ['Ttc Bus', 'Ttc Subway Train', 'Ttc Subway Tunnel / Outdoor Tracks', \n",
    "                               'Ttc Street Car', 'Ttc Support Vehicle', 'Ttc Bus Garage', \n",
    "                               'Ttc Light Rail Vehicle', 'Ttc Light Rail Transit Station', \n",
    "                               'Ttc Wheel Trans Vehicle', 'Ttc Bus Stop / Shelter / Loop', \n",
    "                               'Go Train', 'Go Station', 'Go Bus', 'Other Passenger Train', \n",
    "                               'Other Regional Transit System Vehicle', 'Other Passenger Train Station', \n",
    "                               'Other Train Tracks', 'Other Train Admin Or Support Facility', \n",
    "                               'Cargo Train', 'Other Train Yard']\n",
    "    \n",
    "    if string in public_transit_elements:\n",
    "        return 'Public Transit'\n",
    "    else:\n",
    "        return string"
   ]
  },
  {
   "cell_type": "code",
   "execution_count": 12,
   "metadata": {},
   "outputs": [],
   "source": [
    "# Use pandas function map to apply group_transit() to every element in LOCATION_TYPE\n",
    "df.loc[:, 'LOCATION_TYPE'] = df.LOCATION_TYPE.map(group_transit)"
   ]
  },
  {
   "cell_type": "code",
   "execution_count": 13,
   "metadata": {},
   "outputs": [
    {
     "data": {
      "text/plain": [
       "33"
      ]
     },
     "execution_count": 13,
     "metadata": {},
     "output_type": "execute_result"
    }
   ],
   "source": [
    "# We obtain 33 different location types\n",
    "len(df.LOCATION_TYPE.unique())"
   ]
  },
  {
   "cell_type": "code",
   "execution_count": 14,
   "metadata": {},
   "outputs": [
    {
     "data": {
      "text/plain": [
       "array(['Commercial Dwelling Unit', 'Apartment',\n",
       "       'Streets, Roads, Highways', 'Bar / Restaurant',\n",
       "       'Other Commercial / Corporate Places', 'Public Transit',\n",
       "       'Single Home, House',\n",
       "       'Hospital / Institutions / Medical Facilities', 'Retirement Home',\n",
       "       'Gas Station', 'Open Areas', 'Parking Lots', 'Ttc Subway Station',\n",
       "       'Other Non Commercial / Corporate Places', 'Unknown',\n",
       "       'Bank And Other Financial Institutions', 'Convenience Stores',\n",
       "       'Jails / Detention Centres', 'Group Homes',\n",
       "       'Private Property Structure', 'Homeless Shelter / Mission',\n",
       "       'Schools During Un-Supervised Activity', 'Construction Site',\n",
       "       'Police / Courts', 'Schools During Supervised Activity',\n",
       "       'Religious Facilities', 'Universities / Colleges', 'Dealership',\n",
       "       'Ttc Admin Or Support Facility', 'Pharmacy', 'Nursing Home',\n",
       "       'Community Group Home', 'Halfway House'], dtype=object)"
      ]
     },
     "execution_count": 14,
     "metadata": {},
     "output_type": "execute_result"
    }
   ],
   "source": [
    "df.LOCATION_TYPE.unique()"
   ]
  },
  {
   "attachments": {},
   "cell_type": "markdown",
   "metadata": {},
   "source": [
    "### Extract day of the week from occurence datetimes"
   ]
  },
  {
   "attachments": {},
   "cell_type": "markdown",
   "metadata": {},
   "source": [
    "Here, Monday is 0 and Sunday is 6"
   ]
  },
  {
   "cell_type": "code",
   "execution_count": 15,
   "metadata": {},
   "outputs": [],
   "source": [
    "df['dayofweek'] = df.OCC_DATE.dt.dayofweek"
   ]
  },
  {
   "attachments": {},
   "cell_type": "markdown",
   "metadata": {},
   "source": [
    "### Add Canadian Holiday variable"
   ]
  },
  {
   "cell_type": "code",
   "execution_count": 16,
   "metadata": {},
   "outputs": [],
   "source": [
    "# Set of Canadian Holidays\n",
    "ca_holidays = holidays.Canada()\n",
    "\n",
    "# Check if Occurence date is on a Candian Holiday\n",
    "df['isholiday'] = df.OCC_DATE.map(lambda x: x.date() in ca_holidays)"
   ]
  },
  {
   "attachments": {},
   "cell_type": "markdown",
   "metadata": {},
   "source": [
    "### Clustering using k-prototypes\n",
    "Add a feature based on k-prototypes clustering which is suitable for a mix of numeric (i.e. GPS coordinates) and categorical (i.e. neighborhoods). This data driven feature can provide insight on the structure of the data, and on a high level, provide a low-cardinality way of representing the interaction between time and location. For example, directly multiplying the binary variables for hour (24) and neighborhood (158) for example, results in 3792 new dummy variables with questionable interpretability. Instead, we can simply cluster similar times and similar locations together.\n"
   ]
  },
  {
   "attachments": {},
   "cell_type": "markdown",
   "metadata": {},
   "source": [
    "### Export clean data"
   ]
  },
  {
   "cell_type": "code",
   "execution_count": 19,
   "metadata": {},
   "outputs": [
    {
     "data": {
      "text/html": [
       "<div>\n",
       "<style scoped>\n",
       "    .dataframe tbody tr th:only-of-type {\n",
       "        vertical-align: middle;\n",
       "    }\n",
       "\n",
       "    .dataframe tbody tr th {\n",
       "        vertical-align: top;\n",
       "    }\n",
       "\n",
       "    .dataframe thead th {\n",
       "        text-align: right;\n",
       "    }\n",
       "</style>\n",
       "<table border=\"1\" class=\"dataframe\">\n",
       "  <thead>\n",
       "    <tr style=\"text-align: right;\">\n",
       "      <th></th>\n",
       "      <th>OBJECTID</th>\n",
       "      <th>OCC_DATE</th>\n",
       "      <th>OCC_HOUR</th>\n",
       "      <th>LOCATION_TYPE</th>\n",
       "      <th>HOOD_158</th>\n",
       "      <th>NEIGHBOURHOOD_158</th>\n",
       "      <th>LONG_WGS84</th>\n",
       "      <th>LAT_WGS84</th>\n",
       "      <th>MCI_CATEGORY</th>\n",
       "      <th>dayofweek</th>\n",
       "      <th>isholiday</th>\n",
       "    </tr>\n",
       "  </thead>\n",
       "  <tbody>\n",
       "    <tr>\n",
       "      <th>1</th>\n",
       "      <td>2</td>\n",
       "      <td>2014-01-01 05:00:00+00:00</td>\n",
       "      <td>3</td>\n",
       "      <td>Commercial Dwelling Unit</td>\n",
       "      <td>70</td>\n",
       "      <td>South Riverdale</td>\n",
       "      <td>-79.350229</td>\n",
       "      <td>43.646293</td>\n",
       "      <td>Break and Enter</td>\n",
       "      <td>2</td>\n",
       "      <td>True</td>\n",
       "    </tr>\n",
       "    <tr>\n",
       "      <th>2</th>\n",
       "      <td>3</td>\n",
       "      <td>2014-01-01 05:00:00+00:00</td>\n",
       "      <td>4</td>\n",
       "      <td>Apartment</td>\n",
       "      <td>74</td>\n",
       "      <td>North St.James Town</td>\n",
       "      <td>-79.376497</td>\n",
       "      <td>43.666423</td>\n",
       "      <td>Assault</td>\n",
       "      <td>2</td>\n",
       "      <td>True</td>\n",
       "    </tr>\n",
       "    <tr>\n",
       "      <th>3</th>\n",
       "      <td>4</td>\n",
       "      <td>2014-01-01 05:00:00+00:00</td>\n",
       "      <td>4</td>\n",
       "      <td>Streets, Roads, Highways</td>\n",
       "      <td>NSA</td>\n",
       "      <td>NSA</td>\n",
       "      <td>-85.488744</td>\n",
       "      <td>0.000000</td>\n",
       "      <td>Theft Over</td>\n",
       "      <td>2</td>\n",
       "      <td>True</td>\n",
       "    </tr>\n",
       "    <tr>\n",
       "      <th>4</th>\n",
       "      <td>5</td>\n",
       "      <td>2014-01-01 05:00:00+00:00</td>\n",
       "      <td>4</td>\n",
       "      <td>Streets, Roads, Highways</td>\n",
       "      <td>69</td>\n",
       "      <td>Blake-Jones</td>\n",
       "      <td>-79.344839</td>\n",
       "      <td>43.678946</td>\n",
       "      <td>Assault</td>\n",
       "      <td>2</td>\n",
       "      <td>True</td>\n",
       "    </tr>\n",
       "    <tr>\n",
       "      <th>5</th>\n",
       "      <td>6</td>\n",
       "      <td>2014-01-01 05:00:00+00:00</td>\n",
       "      <td>2</td>\n",
       "      <td>Bar / Restaurant</td>\n",
       "      <td>164</td>\n",
       "      <td>Wellington Place</td>\n",
       "      <td>-79.391841</td>\n",
       "      <td>43.646639</td>\n",
       "      <td>Assault</td>\n",
       "      <td>2</td>\n",
       "      <td>True</td>\n",
       "    </tr>\n",
       "    <tr>\n",
       "      <th>...</th>\n",
       "      <td>...</td>\n",
       "      <td>...</td>\n",
       "      <td>...</td>\n",
       "      <td>...</td>\n",
       "      <td>...</td>\n",
       "      <td>...</td>\n",
       "      <td>...</td>\n",
       "      <td>...</td>\n",
       "      <td>...</td>\n",
       "      <td>...</td>\n",
       "      <td>...</td>\n",
       "    </tr>\n",
       "    <tr>\n",
       "      <th>323291</th>\n",
       "      <td>323292</td>\n",
       "      <td>2022-12-22 05:00:00+00:00</td>\n",
       "      <td>8</td>\n",
       "      <td>Single Home, House</td>\n",
       "      <td>119</td>\n",
       "      <td>Wexford/Maryvale</td>\n",
       "      <td>-79.301740</td>\n",
       "      <td>43.736102</td>\n",
       "      <td>Break and Enter</td>\n",
       "      <td>3</td>\n",
       "      <td>False</td>\n",
       "    </tr>\n",
       "    <tr>\n",
       "      <th>323292</th>\n",
       "      <td>323293</td>\n",
       "      <td>2022-12-31 05:00:00+00:00</td>\n",
       "      <td>3</td>\n",
       "      <td>Other Commercial / Corporate Places</td>\n",
       "      <td>130</td>\n",
       "      <td>Milliken</td>\n",
       "      <td>-79.258639</td>\n",
       "      <td>43.828794</td>\n",
       "      <td>Break and Enter</td>\n",
       "      <td>5</td>\n",
       "      <td>False</td>\n",
       "    </tr>\n",
       "    <tr>\n",
       "      <th>323293</th>\n",
       "      <td>323294</td>\n",
       "      <td>2022-12-22 05:00:00+00:00</td>\n",
       "      <td>16</td>\n",
       "      <td>Apartment</td>\n",
       "      <td>102</td>\n",
       "      <td>Forest Hill North</td>\n",
       "      <td>-79.425645</td>\n",
       "      <td>43.701404</td>\n",
       "      <td>Assault</td>\n",
       "      <td>3</td>\n",
       "      <td>False</td>\n",
       "    </tr>\n",
       "    <tr>\n",
       "      <th>323294</th>\n",
       "      <td>323295</td>\n",
       "      <td>2022-12-31 05:00:00+00:00</td>\n",
       "      <td>4</td>\n",
       "      <td>Convenience Stores</td>\n",
       "      <td>98</td>\n",
       "      <td>Rosedale-Moore Park</td>\n",
       "      <td>-79.385170</td>\n",
       "      <td>43.672134</td>\n",
       "      <td>Assault</td>\n",
       "      <td>5</td>\n",
       "      <td>False</td>\n",
       "    </tr>\n",
       "    <tr>\n",
       "      <th>323295</th>\n",
       "      <td>323296</td>\n",
       "      <td>2022-12-31 05:00:00+00:00</td>\n",
       "      <td>4</td>\n",
       "      <td>Other Commercial / Corporate Places</td>\n",
       "      <td>138</td>\n",
       "      <td>Eglinton East</td>\n",
       "      <td>-79.248081</td>\n",
       "      <td>43.736690</td>\n",
       "      <td>Break and Enter</td>\n",
       "      <td>5</td>\n",
       "      <td>False</td>\n",
       "    </tr>\n",
       "  </tbody>\n",
       "</table>\n",
       "<p>321843 rows × 11 columns</p>\n",
       "</div>"
      ],
      "text/plain": [
       "        OBJECTID                  OCC_DATE  OCC_HOUR  \\\n",
       "1              2 2014-01-01 05:00:00+00:00         3   \n",
       "2              3 2014-01-01 05:00:00+00:00         4   \n",
       "3              4 2014-01-01 05:00:00+00:00         4   \n",
       "4              5 2014-01-01 05:00:00+00:00         4   \n",
       "5              6 2014-01-01 05:00:00+00:00         2   \n",
       "...          ...                       ...       ...   \n",
       "323291    323292 2022-12-22 05:00:00+00:00         8   \n",
       "323292    323293 2022-12-31 05:00:00+00:00         3   \n",
       "323293    323294 2022-12-22 05:00:00+00:00        16   \n",
       "323294    323295 2022-12-31 05:00:00+00:00         4   \n",
       "323295    323296 2022-12-31 05:00:00+00:00         4   \n",
       "\n",
       "                              LOCATION_TYPE HOOD_158    NEIGHBOURHOOD_158  \\\n",
       "1                  Commercial Dwelling Unit       70      South Riverdale   \n",
       "2                                 Apartment       74  North St.James Town   \n",
       "3                  Streets, Roads, Highways      NSA                  NSA   \n",
       "4                  Streets, Roads, Highways       69          Blake-Jones   \n",
       "5                          Bar / Restaurant      164     Wellington Place   \n",
       "...                                     ...      ...                  ...   \n",
       "323291                   Single Home, House      119     Wexford/Maryvale   \n",
       "323292  Other Commercial / Corporate Places      130             Milliken   \n",
       "323293                            Apartment      102    Forest Hill North   \n",
       "323294                   Convenience Stores       98  Rosedale-Moore Park   \n",
       "323295  Other Commercial / Corporate Places      138        Eglinton East   \n",
       "\n",
       "        LONG_WGS84  LAT_WGS84     MCI_CATEGORY  dayofweek isholiday  \n",
       "1       -79.350229  43.646293  Break and Enter          2      True  \n",
       "2       -79.376497  43.666423          Assault          2      True  \n",
       "3       -85.488744   0.000000       Theft Over          2      True  \n",
       "4       -79.344839  43.678946          Assault          2      True  \n",
       "5       -79.391841  43.646639          Assault          2      True  \n",
       "...            ...        ...              ...        ...       ...  \n",
       "323291  -79.301740  43.736102  Break and Enter          3     False  \n",
       "323292  -79.258639  43.828794  Break and Enter          5     False  \n",
       "323293  -79.425645  43.701404          Assault          3     False  \n",
       "323294  -79.385170  43.672134          Assault          5     False  \n",
       "323295  -79.248081  43.736690  Break and Enter          5     False  \n",
       "\n",
       "[321843 rows x 11 columns]"
      ]
     },
     "execution_count": 19,
     "metadata": {},
     "output_type": "execute_result"
    }
   ],
   "source": [
    "df"
   ]
  },
  {
   "cell_type": "code",
   "execution_count": 18,
   "metadata": {},
   "outputs": [],
   "source": [
    "df.to_csv('data/clean_data.csv', index=False)"
   ]
  }
 ],
 "metadata": {
  "kernelspec": {
   "display_name": "Python 3",
   "language": "python",
   "name": "python3"
  },
  "language_info": {
   "codemirror_mode": {
    "name": "ipython",
    "version": 3
   },
   "file_extension": ".py",
   "mimetype": "text/x-python",
   "name": "python",
   "nbconvert_exporter": "python",
   "pygments_lexer": "ipython3",
   "version": "3.10.5"
  },
  "orig_nbformat": 4
 },
 "nbformat": 4,
 "nbformat_minor": 2
}
